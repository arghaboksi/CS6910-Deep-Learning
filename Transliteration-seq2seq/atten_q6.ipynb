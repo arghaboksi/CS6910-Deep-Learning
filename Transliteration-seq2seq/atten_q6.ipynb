{
 "cells": [
  {
   "cell_type": "code",
   "execution_count": 1,
   "metadata": {
    "id": "J9ZhrUeTDsx-"
   },
   "outputs": [],
   "source": [
    "import matplotlib.pyplot as plt\n",
    "import matplotlib.ticker as ticker\n",
    "from random import randint\n",
    "from numpy import array\n",
    "from numpy import argmax\n",
    "import keras.backend as K\n",
    "from tensorflow.keras import models\n",
    "from numpy import array_equal\n",
    "import numpy as np\n",
    "from tensorflow.keras.models import Sequential, Model\n",
    "from tensorflow.keras.layers import LSTM, Bidirectional, SimpleRNN, GRU\n",
    "from tensorflow.keras.layers import Dense, Flatten\n",
    "from tensorflow.keras import Input\n",
    "from IPython.display import display\n",
    "from tensorflow.keras.layers import TimeDistributed\n",
    "from tensorflow.keras.layers import RepeatVector\n",
    "from tensorflow.keras.callbacks import EarlyStopping\n",
    "from tensorflow.keras.utils import plot_model\n",
    "from tensorflow.keras.models import load_model\n",
    "\n",
    "from tensorflow.keras.optimizers import Adam\n",
    "\n",
    "from tensorflow.keras.layers import Lambda\n",
    "from tensorflow.keras import backend as K\n",
    "import tensorflow as tf\n",
    "import io\n",
    "tf.keras.backend.set_floatx('float64')\n",
    "import imageio\n",
    "import os   #This module provides a portable way of using operating system dependent functionality. \n",
    "from tqdm import tqdm_notebook as tqdm #used for progress bar in loops\n",
    "\n",
    "from IPython.display import HTML as html_print\n"
   ]
  },
  {
   "cell_type": "code",
   "execution_count": 2,
   "metadata": {
    "colab": {
     "base_uri": "https://localhost:8080/"
    },
    "id": "Dx0oFPzV5vpB",
    "outputId": "0b54da1f-9d9a-421c-f493-acf02a4b2498"
   },
   "outputs": [
    {
     "name": "stdout",
     "output_type": "stream",
     "text": [
      "--2022-05-08 12:36:30--  https://storage.googleapis.com/gresearch/dakshina/dakshina_dataset_v1.0.tar\n",
      "Resolving storage.googleapis.com (storage.googleapis.com)... 209.85.147.128, 142.250.125.128, 142.250.148.128, ...\n",
      "Connecting to storage.googleapis.com (storage.googleapis.com)|209.85.147.128|:443... connected.\n",
      "HTTP request sent, awaiting response... 200 OK\n",
      "Length: 2008340480 (1.9G) [application/x-tar]\n",
      "Saving to: ‘dakshina_dataset_v1.0.tar’\n",
      "\n",
      "dakshina_dataset_v1 100%[===================>]   1.87G   216MB/s    in 9.4s    \n",
      "\n",
      "2022-05-08 12:36:39 (205 MB/s) - ‘dakshina_dataset_v1.0.tar’ saved [2008340480/2008340480]\n",
      "\n"
     ]
    }
   ],
   "source": [
    "# Dataset\n",
    "!yes | wget \"https://storage.googleapis.com/gresearch/dakshina/dakshina_dataset_v1.0.tar\""
   ]
  },
  {
   "cell_type": "code",
   "execution_count": 3,
   "metadata": {
    "id": "6lF47Fe9fvcH"
   },
   "outputs": [],
   "source": [
    "# Unzip\n",
    "!yes | tar xopf dakshina_dataset_v1.0.tar"
   ]
  },
  {
   "cell_type": "code",
   "execution_count": 2,
   "metadata": {
    "id": "an0uSRI_xQOl"
   },
   "outputs": [],
   "source": [
    "from matplotlib.font_manager import FontProperties\n",
    "hi_font = FontProperties(fname = 'nirmala.ttf', size=18) "
   ]
  },
  {
   "cell_type": "code",
   "execution_count": 4,
   "metadata": {
    "colab": {
     "base_uri": "https://localhost:8080/"
    },
    "id": "PBzvL2e20Sx-",
    "outputId": "3ba891a4-b59f-4df2-fd48-5894e146ef55"
   },
   "outputs": [
    {
     "name": "stdout",
     "output_type": "stream",
     "text": [
      "Num train:  44204\n",
      "Numb val:  4358\n",
      "Num test:  4502\n"
     ]
    }
   ],
   "source": [
    "train = \"./dakshina_dataset_v1.0/hi/lexicons/hi.translit.sampled.train.tsv\"\n",
    "val = \"./dakshina_dataset_v1.0/hi/lexicons/hi.translit.sampled.dev.tsv\"\n",
    "test = \"./dakshina_dataset_v1.0/hi/lexicons/hi.translit.sampled.test.tsv\"\n",
    "def dataset(data_file):\n",
    "    hindi = []\n",
    "    latin = []\n",
    "    with io.open(data_file, encoding ='utf-8') as f:\n",
    "        for line in f:\n",
    "            if '\\t' not in line:\n",
    "                continue\n",
    "            tokens = line.rstrip().split(\"\\t\")\n",
    "            latin.append(tokens[1])\n",
    "            hindi.append(tokens[0])\n",
    "    return latin, hindi\n",
    "\n",
    "tr_src, tr_trgt = dataset(train)\n",
    "val_src, val_trgt = dataset(val)\n",
    "ts_src, ts_trgt = dataset(test)\n",
    "\n",
    "print(\"Num train: \", len(tr_src))\n",
    "print(\"Numb val: \", len(val_src))\n",
    "print(\"Num test: \", len(ts_src))"
   ]
  },
  {
   "cell_type": "code",
   "execution_count": 6,
   "metadata": {
    "colab": {
     "base_uri": "https://localhost:8080/"
    },
    "id": "FgxYhZkv53Rl",
    "outputId": "0ae96f3f-6534-484f-fc20-f2205c81b924"
   },
   "outputs": [
    {
     "name": "stdout",
     "output_type": "stream",
     "text": [
      "Number of samples: 44204\n",
      "Number of unique input tokens: 27\n",
      "Number of unique output tokens: 66\n",
      "Max sequence length for inputs: 20\n",
      "Max sequence length for outputs: 21\n",
      "Max sequence length for val inputs: 18\n",
      "Max sequence length for val outputs: 16\n",
      "[' ', 'a', 'b', 'c', 'd', 'e', 'f', 'g', 'h', 'i', 'j', 'k', 'l', 'm', 'n', 'o', 'p', 'q', 'r', 's', 't', 'u', 'v', 'w', 'x', 'y', 'z']\n",
      "[' ', 'B', 'E', 'ँ', 'ं', 'ः', 'अ', 'आ', 'इ', 'ई', 'उ', 'ऊ', 'ऋ', 'ए', 'ऐ', 'ऑ', 'ओ', 'औ', 'क', 'ख', 'ग', 'घ', 'ङ', 'च', 'छ', 'ज', 'झ', 'ञ', 'ट', 'ठ', 'ड', 'ढ', 'ण', 'त', 'थ', 'द', 'ध', 'न', 'प', 'फ', 'ब', 'भ', 'म', 'य', 'र', 'ल', 'व', 'श', 'ष', 'स', 'ह', '़', 'ा', 'ि', 'ी', 'ु', 'ू', 'ृ', 'ॅ', 'े', 'ै', 'ॉ', 'ो', 'ौ', '्', 'ॐ']\n"
     ]
    }
   ],
   "source": [
    "iter_tr = np.arange(len(tr_src))\n",
    "np.random.shuffle(iter_tr)\n",
    "iter_val = np.arange(len(val_src))\n",
    "np.random.shuffle(iter_val)\n",
    "\n",
    "char_inpts = set()\n",
    "char_tar = set()\n",
    "text_inpts = []\n",
    "text_trgts = []\n",
    "inpts_val = []\n",
    "trgts_val = []\n",
    "\n",
    "for (txt_inp, target_text) in zip(tr_src, tr_trgt):\n",
    "    target_text = \"B\" + target_text + \"E\"\n",
    "    text_inpts.append(txt_inp)\n",
    "    text_trgts.append(target_text)\n",
    "    for char in txt_inp:\n",
    "        if char not in char_inpts:\n",
    "            char_inpts.add(char)\n",
    "    for char in target_text:\n",
    "        if char not in char_tar:\n",
    "            char_tar.add(char)\n",
    "\n",
    "for (txt_inp, target_text) in zip(val_src, val_trgt):\n",
    "    # We use \"tab\" as the \"start sequence\" character\n",
    "    # for the targets, and \"\\n\" as \"end sequence\" character.\n",
    "    target_text = \"B\" + target_text + \"E\"\n",
    "    inpts_val.append(txt_inp)\n",
    "    trgts_val.append(target_text)\n",
    "    for char in txt_inp:\n",
    "        if char not in char_inpts:\n",
    "            char_inpts.add(char)\n",
    "    for char in target_text:\n",
    "        if char not in char_tar:\n",
    "            char_tar.add(char)\n",
    "\n",
    "txt_inps = []\n",
    "txt_trgt = []\n",
    "\n",
    "for i in range(len(tr_src)):\n",
    "    txt_inps.append(text_inpts[iter_tr[i]])\n",
    "    txt_trgt.append(text_trgts[iter_tr[i]])\n",
    "\n",
    "txt_inps_val = []\n",
    "txt_trgt_val = []\n",
    "\n",
    "for i in range(len(val_src)):\n",
    "    txt_inps_val.append(inpts_val[iter_val[i]])\n",
    "    txt_trgt_val.append(trgts_val[iter_val[i]])\n",
    "\n",
    "char_inpts.add(\" \")\n",
    "char_tar.add(\" \")\n",
    "\n",
    "char_inpts = sorted(list(char_inpts))\n",
    "char_tar = sorted(list(char_tar))\n",
    "\n",
    "enc_num = len(char_inpts)\n",
    "dec_num = len(char_tar)\n",
    "enc_mx = max([len(txt) for txt in txt_inps])\n",
    "dec_mx = max([len(txt) for txt in txt_trgt])\n",
    "enc_mx_val = max([len(txt) for txt in txt_inps_val])\n",
    "dec_mx_val = max([len(txt) for txt in txt_trgt_val])\n",
    "\n",
    "\n",
    "\n",
    "print(\"Num samples:\", len(txt_inps))\n",
    "print(\"Number of unique input tokens:\", enc_num)\n",
    "print(\"Number of unique output tokens:\", dec_num)\n",
    "print(\"Max sequence length for inputs:\", enc_mx)\n",
    "print(\"Max sequence length for outputs:\", dec_mx)\n",
    "print(\"Max sequence length for val inputs:\", enc_mx_val)\n",
    "print(\"Max sequence length for val outputs:\", dec_mx_val)\n",
    "\n",
    "print(char_inpts)\n",
    "print(char_tar)"
   ]
  },
  {
   "cell_type": "code",
   "execution_count": 7,
   "metadata": {
    "colab": {
     "base_uri": "https://localhost:8080/"
    },
    "id": "OtHaPQPw6VuP",
    "outputId": "a13fb08f-03ab-4b74-d883-3e8b3d55ffb6"
   },
   "outputs": [
    {
     "name": "stdout",
     "output_type": "stream",
     "text": [
      "{' ': 0, 'a': 1, 'b': 2, 'c': 3, 'd': 4, 'e': 5, 'f': 6, 'g': 7, 'h': 8, 'i': 9, 'j': 10, 'k': 11, 'l': 12, 'm': 13, 'n': 14, 'o': 15, 'p': 16, 'q': 17, 'r': 18, 's': 19, 't': 20, 'u': 21, 'v': 22, 'w': 23, 'x': 24, 'y': 25, 'z': 26}\n",
      "{' ': 0, 'B': 1, 'E': 2, 'ँ': 3, 'ं': 4, 'ः': 5, 'अ': 6, 'आ': 7, 'इ': 8, 'ई': 9, 'उ': 10, 'ऊ': 11, 'ऋ': 12, 'ए': 13, 'ऐ': 14, 'ऑ': 15, 'ओ': 16, 'औ': 17, 'क': 18, 'ख': 19, 'ग': 20, 'घ': 21, 'ङ': 22, 'च': 23, 'छ': 24, 'ज': 25, 'झ': 26, 'ञ': 27, 'ट': 28, 'ठ': 29, 'ड': 30, 'ढ': 31, 'ण': 32, 'त': 33, 'थ': 34, 'द': 35, 'ध': 36, 'न': 37, 'प': 38, 'फ': 39, 'ब': 40, 'भ': 41, 'म': 42, 'य': 43, 'र': 44, 'ल': 45, 'व': 46, 'श': 47, 'ष': 48, 'स': 49, 'ह': 50, '़': 51, 'ा': 52, 'ि': 53, 'ी': 54, 'ु': 55, 'ू': 56, 'ृ': 57, 'ॅ': 58, 'े': 59, 'ै': 60, 'ॉ': 61, 'ो': 62, 'ौ': 63, '्': 64, 'ॐ': 65}\n"
     ]
    }
   ],
   "source": [
    "idx_inp = dict([(char, i) for i, char in enumerate(char_inpts)])\n",
    "idx_tar = dict([(char, i) for i, char in enumerate(char_tar)])\n",
    "idx_inp_rev = dict((i, char) for char, i in idx_inp.items())\n",
    "idx_tar_rev = dict((i, char) for char, i in idx_tar.items())\n",
    "print(idx_inp)\n",
    "print(idx_tar)"
   ]
  },
  {
   "cell_type": "code",
   "execution_count": 8,
   "metadata": {
    "id": "CtAojV-O6p0G"
   },
   "outputs": [],
   "source": [
    "txt_inp_sl = txt_inps[:44160]\n",
    "txt_tar_sl = txt_trgt[:44160]\n",
    "\n",
    "inp_enc = np.zeros(\n",
    "    (len(txt_inp_sl), enc_mx, enc_num), dtype=\"float64\"\n",
    ")\n",
    "tar_dec = np.zeros(\n",
    "    (len(txt_inp_sl), dec_mx, dec_num), dtype=\"float64\"\n",
    ")\n",
    "\n",
    "for i, (txt_inp, target_text) in enumerate(zip(txt_inp_sl, txt_tar_sl)):\n",
    "    for t, char in enumerate(txt_inp):\n",
    "        inp_enc[i, t, idx_inp[char]] = 1.0\n",
    "    inp_enc[i, t + 1 :, idx_inp[\" \"]] = 1.0\n",
    "    for t, char in enumerate(target_text):\n",
    "        tar_dec[i, t, idx_tar[char]] = 1.0\n",
    "    tar_dec[i, t + 1 :, idx_tar[\" \"]] = 1.0\n",
    "    \n",
    "inp_enc_val = np.zeros(\n",
    "    (len(txt_inps_val), enc_mx, enc_num), dtype=\"float64\"\n",
    ")\n",
    "tar_dec_val = np.zeros(\n",
    "    (len(txt_trgt_val), dec_mx, dec_num), dtype=\"float64\"\n",
    ")\n",
    "\n",
    "for i, (txt_inp, target_text) in enumerate(zip(txt_inps_val, txt_trgt_val)):\n",
    "    for t, char in enumerate(txt_inp):\n",
    "        inp_enc_val[i, t, idx_inp[char]] = 1.0\n",
    "    inp_enc_val[i, t + 1 :, idx_inp[\" \"]] = 1.0\n",
    "\n",
    "    for t, char in enumerate(target_text):\n",
    "        tar_dec_val[i, t, idx_tar[char]] = 1.0\n",
    "    tar_dec_val[i, t + 1: ,idx_tar[\" \"]] = 1.0\n",
    "  \n"
   ]
  },
  {
   "cell_type": "markdown",
   "metadata": {
    "id": "vx8rEIqmMQNT"
   },
   "source": [
    "# ATTENTION MECHANISM "
   ]
  },
  {
   "cell_type": "code",
   "execution_count": 9,
   "metadata": {
    "id": "N-RyyRhTQ2XC"
   },
   "outputs": [],
   "source": [
    "class atten_badh(tf.keras.layers.Layer):\n",
    "    def __init__(self, units):\n",
    "        super(atten_badh, self).__init__()\n",
    "        self.W1 = tf.keras.layers.Dense(units)\n",
    "        self.W2 = tf.keras.layers.Dense(units)\n",
    "        self.V = tf.keras.layers.Dense(1)\n",
    "\n",
    "    def call(self, query, values):\n",
    "        qwt_ax = tf.expand_dims(query, 1)\n",
    "\n",
    "        sc = self.V(tf.nn.tanh(\n",
    "            self.W1(qwt_ax) + self.W2(values)))\n",
    "        att_w = tf.nn.softmax(sc, axis=1)\n",
    "        c_v = att_w * values\n",
    "        c_v = tf.reduce_sum(c_v, axis=1)\n",
    "        return c_v, att_w\n"
   ]
  },
  {
   "cell_type": "code",
   "execution_count": 10,
   "metadata": {
    "id": "2mfk2-afoCeE"
   },
   "outputs": [],
   "source": [
    "class seq_atten(object):\n",
    "    def __init__(self,ty = 'RNN', hs=32, \n",
    "                   lr= 1e-3,drp=0.3,epochs = 10, bs = 32,\n",
    "                   atten = 'bahd'):\n",
    "\n",
    "        self.ty = ty\n",
    "        self.hs = hs\n",
    "        self.lr = lr\n",
    "        self.drp = drp\n",
    "        self.epochs = epochs\n",
    "        self.bs = bs\n",
    "        self.atten = atten\n",
    "\n",
    "    def fit(self,inp_enc,tar_dec):\n",
    "\n",
    "        enc_inp_temp = Input(shape=(enc_mx, enc_num), name='enc_inp_temp')\n",
    "        if self.ty == 'LSTM':\n",
    "            enc_lstm = LSTM(self.hs,ret_seq=True, return_state=True, drp = self.drp, name='enc_lstm')\n",
    "            enc_outputs, enc_state_h, enc_state_c = enc_lstm(enc_inp_temp)\n",
    "            enc_states = [enc_state_h, enc_state_c]\n",
    "        elif self.ty == 'GRU':\n",
    "            enc_gru = GRU(self.hs,ret_seq=True, return_state=True, drp = self.drp, name='enc_gru')\n",
    "            enc_outputs, enc_state_h = enc_gru(enc_inp_temp)\n",
    "            enc_states = [enc_state_h]\n",
    "        elif self.ty == 'RNN':\n",
    "            enc_rnn = SimpleRNN(self.hs,ret_seq=True, return_state=True, drp = self.drp, name='enc_rnn')\n",
    "            enc_outputs, enc_state_h = enc_rnn(enc_inp_temp)\n",
    "            enc_states = [enc_state_h]\n",
    "\n",
    "        if self.atten == 'bahd':\n",
    "            atten= atten_badh(self.hs)\n",
    "\n",
    "        dec_inputs = Input(shape=(1, (dec_num+self.hs)),name='dec_inputs')\n",
    "        if self.ty== 'LSTM':\n",
    "            dec_lstm = LSTM(self.hs, drp = self.drp, return_state=True, name='dec_lstm')\n",
    "        elif self.ty == 'GRU':\n",
    "            dec_gru = GRU(self.hs, drp = self.drp, return_state=True, name='dec_gru')\n",
    "        elif self.ty == 'RNN':\n",
    "            dec_rnn = SimpleRNN(self.hs, drp = self.drp, return_state=True, name='dec_rnn')  \n",
    "\n",
    "        dec_dense = Dense(dec_num, activation='softmax',  name='dec_dense')\n",
    "\n",
    "        all_outputs = []\n",
    "\n",
    "        inputs = np.zeros((self.bs, 1, dec_num))\n",
    "        inputs[:, 0, 0] = 1 \n",
    "\n",
    "        dec_outputs = enc_state_h\n",
    "        states = enc_states\n",
    "\n",
    "        for _ in range(dec_mx):\n",
    "\n",
    "            con_vec, atten_weights=atten(dec_outputs, enc_outputs)\n",
    "\n",
    "            con_vec = tf.expand_dims(con_vec, 1)\n",
    "\n",
    "            inputs = tf.concat([con_vec, inputs], axis=-1)\n",
    "            if self.ty == 'LSTM':\n",
    "                dec_outputs, state_h, state_c = dec_lstm(inputs, initial_state=states)\n",
    "            if self.ty == 'GRU':\n",
    "                dec_outputs, state_h = dec_gru(inputs, initial_state=states)\n",
    "            if self.ty == 'RNN':\n",
    "                dec_outputs, state_h = dec_rnn(inputs, initial_state=states)\n",
    "\n",
    "            outputs = dec_dense(dec_outputs)\n",
    "            outputs = tf.expand_dims(outputs, 1)\n",
    "            all_outputs.append(outputs)\n",
    "            inputs = outputs\n",
    "            if self.ty == 'LSTM':\n",
    "                states = [state_h, state_c]\n",
    "            if self.ty == 'GRU' or self.ty == 'RNN':\n",
    "                states = [state_h]\n",
    "\n",
    "\n",
    "        dec_outputs = Lambda(lambda x: K.concatenate(x, axis=1))(all_outputs)\n",
    "\n",
    "        model = Model(enc_inp_temp, dec_outputs, name='model_enc_dec')\n",
    "\n",
    "        optimizer = Adam(lr=self.lr, beta_1=0.9, beta_2=0.999)\n",
    "        model.compile(optimizer=optimizer, loss='categorical_crossentropy', metrics=['accuracy'])\n",
    "\n",
    "        #model.summary()\n",
    "\n",
    "        model.fit(inp_enc, tar_dec,\n",
    "                  bs=self.bs, \n",
    "                  epochs=self.epochs,\n",
    "                  )\n",
    "        if self.ty== 'LSTM':\n",
    "            return enc_lstm,atten,dec_lstm,dec_dense\n",
    "        if self.ty == 'GRU':\n",
    "            return enc_gru,atten,dec_gru,dec_dense\n",
    "        if self.ty== 'RNN':\n",
    "            return enc_rnn,atten,dec_rnn,dec_dense  \n",
    "\n",
    "    def evaluate(self,seq_in):\n",
    "        atten_plot = np.zeros((dec_mx, enc_mx))\n",
    "        sequence = seq_in\n",
    "        enc_inp_temp=array(sequence).reshape(1,enc_mx,enc_num)\n",
    "\n",
    "        enc_inp_temp = tf.convert_to_tensor(enc_inp_temp,dtype=tf.float32)\n",
    "\n",
    "        if self.ty == 'LSTM':\n",
    "            enc_outputs, enc_state_h, enc_state_c = enc(enc_inp_temp)\n",
    "            enc_states = [enc_state_h, enc_state_c]\n",
    "        elif self.ty == 'GRU':\n",
    "            enc_outputs, enc_state_h = enc(enc_inp_temp)\n",
    "            enc_states = [enc_state_h]\n",
    "        elif self.ty == 'RNN':\n",
    "            enc_outputs, enc_state_h = enc(enc_inp_temp)\n",
    "            enc_states = [enc_state_h]\n",
    "\n",
    "        all_outputs = []\n",
    "\n",
    "        dec_input_data = np.zeros((1, 1, dec_num))\n",
    "        dec_input_data[:, 0, 0] = 1 \n",
    "\n",
    "        inputs = dec_input_data\n",
    "        dec_outputs = enc_state_h\n",
    "        states = enc_states\n",
    "\n",
    "        weigh_atten =[]\n",
    "        for t in range(dec_mx):\n",
    "            con_vec, atten_weights = atten(dec_outputs, enc_outputs)\n",
    "\n",
    "            atten_weights = tf.reshape(atten_weights, (-1, ))\n",
    "            weigh_atten.append(atten_weights)\n",
    "\n",
    "            atten_plot[t] = atten_weights.numpy()\n",
    "\n",
    "            dec_outputs=tf.expand_dims(dec_outputs, 1)\n",
    "\n",
    "            con_vec = tf.expand_dims(con_vec, 1)\n",
    "            inputs = tf.concat([con_vec, inputs], axis=-1)\n",
    "\n",
    "            if self.ty == 'LSTM':\n",
    "                dec_outputs, state_h, state_c = dec(inputs, initial_state=states)\n",
    "            if self.ty == 'GRU':\n",
    "                dec_outputs, state_h = dec(inputs, initial_state=states)\n",
    "            if self.ty == 'RNN':\n",
    "                dec_outputs, state_h = dec(inputs, initial_state=states)\n",
    "\n",
    "            outputs = dec_dense(dec_outputs)\n",
    "            outputs = tf.expand_dims(outputs, 1)\n",
    "            all_outputs.append(outputs)\n",
    "            inputs = outputs\n",
    "            if self.ty == 'LSTM':\n",
    "                states = [state_h, state_c]\n",
    "            if self.ty == 'GRU' or self.ty == 'RNN':\n",
    "                states = [state_h]\n",
    "\n",
    "        dec_outputs = Lambda(lambda x: K.concatenate(x, axis=1))(all_outputs)\n",
    "        seq_outs = dec_outputs[0]\n",
    "        seq_out = tf.argmax(seq_outs, axis=1)\n",
    "        seq_out = seq_out.numpy()\n",
    "        seq_in = tf.argmax(seq_in, axis = 1)\n",
    "        seq_in = seq_in.numpy()\n",
    "        list(filter(lambda num: num != 0, seq_in))\n",
    "        list(filter(lambda num: num != 0, seq_out))\n",
    "\n",
    "        return seq_in, seq_out, atten_plot, weigh_atten\n",
    "\n",
    "    def plot_atten(self,atten, sequence, predicted_sequence):\n",
    "        fig = plt.figure(figsize=(10,10))\n",
    "        ax = fig.add_subplot(1, 1, 1)\n",
    "        ax.matshow(atten, cmap='viridis')\n",
    "\n",
    "        fontdict = {'fontsize': 30}\n",
    "        seq = ''\n",
    "        for i in range(len(sequence)):\n",
    "            seq = seq + idx_inp_rev[sequence[i]]\n",
    "\n",
    "        pred = ''\n",
    "        for i in range(len(predicted_sequence)):\n",
    "            pred = pred + idx_tar_rev[predicted_sequence[i]]\n",
    "        print(pred)\n",
    "        #ax.rcParams[\"font.family\"] = \"Vijaya\"\n",
    "        ax.set_xticklabels(seq, fontdict=fontdict)\n",
    "        ax.set_yticklabels(pred, fontdict=fontdict, fontproperties = hi_font)\n",
    "\n",
    "        ax.xaxis.set_major_locator(ticker.MultipleLocator(1))\n",
    "        ax.yaxis.set_major_locator(ticker.MultipleLocator(1))\n",
    "\n",
    "        plt.show()\n",
    "\n",
    "    def translate(self,seq_in):\n",
    "        seq_in, seq_out, atten_plot, weigh_atten = self.evaluate(seq_in)\n",
    "\n",
    "        a = [0]\n",
    "        for i in range(len(seq_in)):\n",
    "              if seq_in[i] != 0:\n",
    "                a.append(seq_in[i])\n",
    "\n",
    "        b = []\n",
    "        for i in range(len(seq_out)):\n",
    "              if seq_out[i] != 0:\n",
    "                b.append(seq_out[i])\n",
    "\n",
    "        b = b[:len(b)-1]\n",
    "        print(a)\n",
    "        print(b)\n",
    "\n",
    "        atten_plot = atten_plot[:len(b), :len(a)]\n",
    "        self.plot_atten(atten_plot, a, b)  \n",
    "\n",
    "        return weigh_atten\n",
    "\n",
    "    def atten_plot(self,val_input):\n",
    "        seq_in = val_input\n",
    "        weigh_atten = self.translate(seq_in)  \n",
    "        return weigh_atten"
   ]
  },
  {
   "cell_type": "code",
   "execution_count": 11,
   "metadata": {
    "id": "3H8C__mqymd-"
   },
   "outputs": [],
   "source": [
    "model = seq_atten(ty = 'LSTM', hs=128, lr= 1e-3,\n",
    "                        drp=0.2,epochs = 15, bs = 128, atten = 'bahd')"
   ]
  },
  {
   "cell_type": "code",
   "execution_count": 12,
   "metadata": {
    "colab": {
     "base_uri": "https://localhost:8080/"
    },
    "id": "h2iRrBYTEoCh",
    "outputId": "67375526-5b5d-41a0-8062-e65bc0dd17c3"
   },
   "outputs": [
    {
     "name": "stderr",
     "output_type": "stream",
     "text": [
      "/usr/local/lib/python3.7/dist-packages/keras/optimizer_v2/adam.py:105: UserWarning: The `lr` argument is deprecated, use `learning_rate` instead.\n",
      "  super(Adam, self).__init__(name, **kwargs)\n"
     ]
    },
    {
     "name": "stdout",
     "output_type": "stream",
     "text": [
      "Epoch 1/15\n",
      "345/345 [==============================] - 99s 164ms/step - loss: 1.3121 - accuracy: 0.6806\n",
      "Epoch 2/15\n",
      "345/345 [==============================] - 56s 163ms/step - loss: 1.1182 - accuracy: 0.7023\n",
      "Epoch 3/15\n",
      "345/345 [==============================] - 57s 164ms/step - loss: 1.0403 - accuracy: 0.7145\n",
      "Epoch 4/15\n",
      "345/345 [==============================] - 56s 164ms/step - loss: 0.9718 - accuracy: 0.7268\n",
      "Epoch 5/15\n",
      "345/345 [==============================] - 57s 164ms/step - loss: 0.9147 - accuracy: 0.7381\n",
      "Epoch 6/15\n",
      "345/345 [==============================] - 56s 163ms/step - loss: 0.8663 - accuracy: 0.7493\n",
      "Epoch 7/15\n",
      "345/345 [==============================] - 56s 163ms/step - loss: 0.8277 - accuracy: 0.7581\n",
      "Epoch 8/15\n",
      "345/345 [==============================] - 56s 164ms/step - loss: 0.7947 - accuracy: 0.7660\n",
      "Epoch 9/15\n",
      "345/345 [==============================] - 56s 163ms/step - loss: 0.7648 - accuracy: 0.7729\n",
      "Epoch 10/15\n",
      "345/345 [==============================] - 56s 164ms/step - loss: 0.7355 - accuracy: 0.7803\n",
      "Epoch 11/15\n",
      "345/345 [==============================] - 56s 163ms/step - loss: 0.7116 - accuracy: 0.7858\n",
      "Epoch 12/15\n",
      "345/345 [==============================] - 57s 164ms/step - loss: 0.6865 - accuracy: 0.7920\n",
      "Epoch 13/15\n",
      "345/345 [==============================] - 56s 164ms/step - loss: 0.6678 - accuracy: 0.7970\n",
      "Epoch 14/15\n",
      "345/345 [==============================] - 56s 164ms/step - loss: 0.6486 - accuracy: 0.8024\n",
      "Epoch 15/15\n",
      "345/345 [==============================] - 56s 164ms/step - loss: 0.6333 - accuracy: 0.8060\n"
     ]
    }
   ],
   "source": [
    "enc,atten,dec,dec_dense = model.fit(inp_enc,tar_dec)"
   ]
  },
  {
   "cell_type": "code",
   "execution_count": 17,
   "metadata": {
    "colab": {
     "base_uri": "https://localhost:8080/",
     "height": 625
    },
    "id": "iB36aNtQuBwh",
    "outputId": "000ef69a-0dcc-45a6-e22b-9c57c9751f60"
   },
   "outputs": [
    {
     "name": "stdout",
     "output_type": "stream",
     "text": [
      "[0, 19, 21, 18, 1, 11, 19, 8, 9, 20]\n",
      "[1, 49, 55, 44, 52, 64, 48, 48, 33]\n",
      "Bसुरा्षषत\n"
     ]
    },
    {
     "data": {
      "image/png": "[encoded data removed]",
      "text/plain": [
       "<Figure size 720x720 with 1 Axes>"
      ]
     },
     "metadata": {
      "needs_background": "light"
     },
     "output_type": "display_data"
    }
   ],
   "source": [
    "w_a = model.atten_plot(inp_enc_val[3])"
   ]
  },
  {
   "cell_type": "code",
   "execution_count": 27,
   "metadata": {
    "id": "jwHk7AfmgQGb"
   },
   "outputs": [],
   "source": [
    "def cstr(s, color='black'):\n",
    "\tif s == ' ':\n",
    "\t\treturn \"<text style=color:#000;padding-left:10px;background-color:{}> </text>\".format(color, s)\n",
    "\telse:\n",
    "\t\treturn \"<text style=color:#000;background-color:{}>{} </text>\".format(color, s)\n",
    "\t\n",
    "# print html\n",
    "def print_color(t):\n",
    "\tdisplay(html_print(''.join([cstr(ti, color=ci) for ti,ci in t])))\n",
    "\n",
    "# get appropriate color for value\n",
    "def get_clr(value):\n",
    "\tcolors = ['#85c2e1', '#89c4e2', '#95cae5', '#99cce6', '#a1d0e8'\n",
    "\t\t'#b2d9ec', '#baddee', '#c2e1f0', '#eff7fb', '#f9e8e8',\n",
    "\t\t'#f9e8e8', '#f9d4d4', '#f9bdbd', '#f8a8a8', '#f68f8f',\n",
    "\t\t'#f47676', '#f45f5f', '#f34343', '#f33b3b', '#f42e2e']\n",
    "\tvalue = int((value * 100) / 5)\n",
    "\treturn colors[value]"
   ]
  },
  {
   "cell_type": "code",
   "execution_count": 28,
   "metadata": {
    "colab": {
     "base_uri": "https://localhost:8080/"
    },
    "id": "8sUQVtFDis1-",
    "outputId": "8e76d9d3-524f-4d54-8caf-d34aadf71a2c"
   },
   "outputs": [
    {
     "name": "stdout",
     "output_type": "stream",
     "text": [
      "surakshit\n",
      "सुरा्षषत\n",
      "9\n",
      "8\n",
      "स\n",
      "ु\n",
      "र\n",
      "ा\n",
      "्\n",
      "ष\n",
      "ष\n",
      "त\n"
     ]
    }
   ],
   "source": [
    "eng = [19, 21, 18, 1, 11, 19, 8, 9, 20]\n",
    "hin = [49, 55, 44, 52, 64, 48, 48, 33]\n",
    "\n",
    "eng_rev = ''\n",
    "for i in range(len(eng)):\n",
    "    eng_rev = eng_rev + idx_inp_rev[eng[i]]\n",
    "\n",
    "hin_rev = ''\n",
    "for i in range(len(hin)):\n",
    "    hin_rev = hin_rev + idx_tar_rev[hin[i]]\n",
    "\n",
    "print(eng_rev) \n",
    "print(hin_rev)\n",
    "\n",
    "len_eng = len(eng)\n",
    "len_hin = len(hin)\n",
    "print(len_eng)\n",
    "print(len_hin)\n",
    "\n",
    "for i in range(len(hin)):\n",
    "    print(idx_tar_rev[hin[i]])"
   ]
  },
  {
   "cell_type": "code",
   "execution_count": 77,
   "metadata": {
    "id": "ySjsQhyiiFWW"
   },
   "outputs": [],
   "source": [
    "from PIL import Image\n",
    "def visualize(output_values, result_list,k):\n",
    "    text_colours = []\n",
    "    for i in range(len_eng):\n",
    "        text = (result_list[i], get_clr(output_values[i]))\n",
    "        text_colours.append(text)\n",
    "        if i == len_eng-1:\n",
    "            html_file = open(str(k)+\".html\", \"w\")\n",
    "            html_file.write(''.join([cstr(ti, color=ci) for ti,ci in text_colours]))\n",
    "            html_file.close()\n",
    "            display(html_print(''.join([cstr(ti, color=ci) for ti,ci in text_colours])))"
   ]
  },
  {
   "cell_type": "code",
   "execution_count": 78,
   "metadata": {
    "id": "YUW0qHO_iWEp"
   },
   "outputs": [],
   "source": [
    "for j in range(len_hin):\n",
    "    visualize(w_a[j][:], eng_rev,j)"
   ]
  },
  {
   "cell_type": "code",
   "execution_count": null,
   "metadata": {
    "id": "yzbeu1fILc0-"
   },
   "outputs": [],
   "source": []
  }
 ],
 "metadata": {
  "accelerator": "GPU",
  "colab": {
   "collapsed_sections": [],
   "machine_shape": "hm",
   "name": "atten_mem_viz.ipynb",
   "provenance": []
  },
  "kernelspec": {
   "display_name": "Python 3 (ipykernel)",
   "language": "python",
   "name": "python3"
  },
  "language_info": {
   "codemirror_mode": {
    "name": "ipython",
    "version": 3
   },
   "file_extension": ".py",
   "mimetype": "text/x-python",
   "name": "python",
   "nbconvert_exporter": "python",
   "pygments_lexer": "ipython3",
   "version": "3.7.10"
  }
 },
 "nbformat": 4,
 "nbformat_minor": 1
}

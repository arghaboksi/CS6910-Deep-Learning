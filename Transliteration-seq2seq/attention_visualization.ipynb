{
  "cells": [
    {
      "cell_type": "code",
      "execution_count": 1,
      "metadata": {
        "id": "J9ZhrUeTDsx-"
      },
      "outputs": [],
      "source": [
        "import io\n",
        "import csv\n",
        "import numpy as np\n",
        "import tensorflow as tf\n",
        "from random import randint\n",
        "import keras.backend as K\n",
        "import matplotlib.pyplot as plt\n",
        "import matplotlib.ticker as ticker\n",
        "from numpy import array, argmax, array_equal \n",
        "from tensorflow.keras import backend as K\n",
        "from tensorflow.keras import models, Input\n",
        "from tensorflow.keras.models import Sequential, Model, load_model\n",
        "from tensorflow.keras.layers import LSTM, Bidirectional, SimpleRNN, GRU, Dense, Flatten, TimeDistributed, RepeatVector, Lambda\n",
        "from tensorflow.keras.callbacks import EarlyStopping\n",
        "from tensorflow.keras.utils import plot_model\n",
        "from matplotlib.font_manager import FontProperties\n",
        "from tensorflow.keras.optimizers import Adam\n",
        "tf.keras.backend.set_floatx('float64')"
      ]
    },
    {
      "cell_type": "code",
      "execution_count": 2,
      "metadata": {
        "colab": {
          "base_uri": "https://localhost:8080/"
        },
        "id": "Dx0oFPzV5vpB",
        "outputId": "99ce0b92-6cdf-4909-eb12-aa31ca78739e"
      },
      "outputs": [
        {
          "output_type": "stream",
          "name": "stdout",
          "text": [
            "--2022-05-08 16:12:19--  https://storage.googleapis.com/gresearch/dakshina/dakshina_dataset_v1.0.tar\n",
            "Resolving storage.googleapis.com (storage.googleapis.com)... 108.177.120.128, 142.250.128.128, 142.251.6.128, ...\n",
            "Connecting to storage.googleapis.com (storage.googleapis.com)|108.177.120.128|:443... connected.\n",
            "HTTP request sent, awaiting response... 200 OK\n",
            "Length: 2008340480 (1.9G) [application/x-tar]\n",
            "Saving to: ‘dakshina_dataset_v1.0.tar’\n",
            "\n",
            "dakshina_dataset_v1 100%[===================>]   1.87G   141MB/s    in 12s     \n",
            "\n",
            "2022-05-08 16:12:31 (161 MB/s) - ‘dakshina_dataset_v1.0.tar’ saved [2008340480/2008340480]\n",
            "\n"
          ]
        }
      ],
      "source": [
        "!yes | wget \"https://storage.googleapis.com/gresearch/dakshina/dakshina_dataset_v1.0.tar\""
      ]
    },
    {
      "cell_type": "code",
      "source": [
        "!yes | tar xopf dakshina_dataset_v1.0.tar"
      ],
      "metadata": {
        "id": "hosEUNU8hkdI"
      },
      "execution_count": 3,
      "outputs": []
    },
    {
      "cell_type": "code",
      "execution_count": 4,
      "metadata": {
        "id": "an0uSRI_xQOl"
      },
      "outputs": [],
      "source": [
        "hindi_font = FontProperties(fname = 'nirmala.ttf') "
      ]
    },
    {
      "cell_type": "code",
      "source": [
        "train_dir = \"./dakshina_dataset_v1.0/hi/lexicons/hi.translit.sampled.train.tsv\"\n",
        "dev_dir = \"./dakshina_dataset_v1.0/hi/lexicons/hi.translit.sampled.dev.tsv\"\n",
        "test_dir = \"./dakshina_dataset_v1.0/hi/lexicons/hi.translit.sampled.test.tsv\""
      ],
      "metadata": {
        "id": "rH_TMQ3nEzRC"
      },
      "execution_count": 5,
      "outputs": []
    },
    {
      "cell_type": "code",
      "source": [
        "# reads text document and returns a list of lists comprising the romanized and native versions of the words\n",
        "def read(f):\n",
        "    hindi = []\n",
        "    latin = []\n",
        "    with io.open(f, encoding ='utf-8') as f:\n",
        "        for line in f:\n",
        "            if '\\t' not in line:\n",
        "                continue\n",
        "            tokens = line.rstrip().split(\"\\t\")\n",
        "            latin.append(tokens[1])\n",
        "            hindi.append(tokens[0])\n",
        "    return latin, hindi"
      ],
      "metadata": {
        "id": "T2CKSr4REzX8"
      },
      "execution_count": 6,
      "outputs": []
    },
    {
      "cell_type": "code",
      "source": [
        "tr_src, tr_tar = read(train_dir)\n",
        "val_src, val_tar = read(dev_dir)\n",
        "tst_src, tst_tar = read(test_dir)"
      ],
      "metadata": {
        "id": "Lo0sqenDEzaV"
      },
      "execution_count": 7,
      "outputs": []
    },
    {
      "cell_type": "code",
      "source": [
        "A = np.arange(len(tr_src))\n",
        "np.random.shuffle(A)\n",
        "A1 = np.arange(len(val_src))\n",
        "np.random.shuffle(A1)"
      ],
      "metadata": {
        "id": "6tigC47SEzcX"
      },
      "execution_count": 8,
      "outputs": []
    },
    {
      "cell_type": "code",
      "source": [
        "char_inp = set()\n",
        "char_tar = set()\n",
        "ns_txt_inp = []\n",
        "ns_txt_tar = []\n",
        "ns_txt_inp_val = []\n",
        "ns_txt_tar_val = []"
      ],
      "metadata": {
        "id": "3FTdY5NTEzek"
      },
      "execution_count": 9,
      "outputs": []
    },
    {
      "cell_type": "code",
      "source": [
        "for (txt_inp, txt_tar) in zip(tr_src, tr_tar):\n",
        "    # tab : \"start sequence\" character\n",
        "    # \\n  : \"end sequence\" character\n",
        "    txt_tar = \"B\" + txt_tar + \"E\"\n",
        "    ns_txt_inp.append(txt_inp)\n",
        "    ns_txt_tar.append(txt_tar)\n",
        "\n",
        "    for char in txt_inp:\n",
        "        if char not in char_inp:\n",
        "            char_inp.add(char)\n",
        "\n",
        "    for char in txt_tar:\n",
        "        if char not in char_tar:\n",
        "            char_tar.add(char)"
      ],
      "metadata": {
        "id": "Tc15SKVUEzgj"
      },
      "execution_count": 10,
      "outputs": []
    },
    {
      "cell_type": "code",
      "source": [
        "for (txt_inp, txt_tar) in zip(val_src, val_tar):\n",
        "    # tab : \"start sequence\" character\n",
        "    # \\n  : \"end sequence\" character\n",
        "    txt_tar = \"B\" + txt_tar + \"E\"\n",
        "    ns_txt_inp_val.append(txt_inp)\n",
        "    ns_txt_tar_val.append(txt_tar)\n",
        "    for char in txt_inp:\n",
        "        if char not in char_inp:\n",
        "            char_inp.add(char)\n",
        "    for char in txt_tar:\n",
        "        if char not in char_tar:\n",
        "            char_tar.add(char)"
      ],
      "metadata": {
        "id": "iRfVygW-Ezim"
      },
      "execution_count": 11,
      "outputs": []
    },
    {
      "cell_type": "code",
      "source": [
        "inps_txt = []\n",
        "tars_txt = []\n",
        "\n",
        "for i in range(len(tr_src)):\n",
        "    inps_txt.append(ns_txt_inp[A[i]])\n",
        "    tars_txt.append(ns_txt_tar[A[i]])"
      ],
      "metadata": {
        "id": "h2d22yjYEzkg"
      },
      "execution_count": 12,
      "outputs": []
    },
    {
      "cell_type": "code",
      "source": [
        "txt_inp_vals = []\n",
        "txt_tar_vals = []\n",
        "\n",
        "for i in range(len(val_src)):\n",
        "    txt_inp_vals.append(ns_txt_inp_val[A1[i]])\n",
        "    txt_tar_vals.append(ns_txt_tar_val[A1[i]])"
      ],
      "metadata": {
        "id": "DLfi5nGnFJxl"
      },
      "execution_count": 13,
      "outputs": []
    },
    {
      "cell_type": "code",
      "source": [
        "char_inp.add(\" \")\n",
        "char_tar.add(\" \")"
      ],
      "metadata": {
        "id": "c4pCLEc4FJ53"
      },
      "execution_count": 14,
      "outputs": []
    },
    {
      "cell_type": "code",
      "source": [
        "char_inp = sorted(list(char_inp))\n",
        "char_tar = sorted(list(char_tar))"
      ],
      "metadata": {
        "id": "U0b70Wm3FJ80"
      },
      "execution_count": 15,
      "outputs": []
    },
    {
      "cell_type": "code",
      "source": [
        "enc_tok_num = len(char_inp)\n",
        "dec_tok_num= len(char_tar)"
      ],
      "metadata": {
        "id": "GOHsJBiKEzmz"
      },
      "execution_count": 16,
      "outputs": []
    },
    {
      "cell_type": "code",
      "source": [
        "len_max_enc = max([len(txt) for txt in inps_txt])\n",
        "len_max_dec = max([len(txt) for txt in tars_txt])\n",
        "len_max_enc_val = max([len(txt) for txt in txt_inp_vals])\n",
        "len_max_dec_val = max([len(txt) for txt in txt_tar_vals])"
      ],
      "metadata": {
        "id": "EDgi-0sKEzpP"
      },
      "execution_count": 17,
      "outputs": []
    },
    {
      "cell_type": "code",
      "source": [
        "tok_ind_inp= dict([(j, k) for k, j in enumerate(char_inp)])\n",
        "tok_ind_tar= dict([(j, k) for k, j in enumerate(char_tar)])"
      ],
      "metadata": {
        "id": "Z3-Jto3yK54L"
      },
      "execution_count": 18,
      "outputs": []
    },
    {
      "cell_type": "code",
      "source": [
        "rsci = dict((i, char) for char, i in tok_ind_inp.items())\n",
        "rtci = dict((i, char) for char, i in tok_ind_tar.items())"
      ],
      "metadata": {
        "id": "YZAKf1rUIfCp"
      },
      "execution_count": 19,
      "outputs": []
    },
    {
      "cell_type": "code",
      "source": [
        "inp_txt_trnc = inps_txt[:44160]\n",
        "tar_txt_trnc = tars_txt[:44160]"
      ],
      "metadata": {
        "id": "T1hHX4OeIhpZ"
      },
      "execution_count": 20,
      "outputs": []
    },
    {
      "cell_type": "code",
      "source": [
        "enc_inp = np.zeros(\n",
        "    (len(inp_txt_trnc), len_max_enc, enc_tok_num), dtype=\"float64\"\n",
        ")\n",
        "dec_tar = np.zeros(\n",
        "    (len(inp_txt_trnc), len_max_dec, dec_tok_num), dtype=\"float64\"\n",
        ")"
      ],
      "metadata": {
        "id": "w_oOlti2Ihr7"
      },
      "execution_count": 21,
      "outputs": []
    },
    {
      "cell_type": "code",
      "source": [
        "for i, (txt_inp, txt_tar) in enumerate(zip(inp_txt_trnc, tar_txt_trnc)):\n",
        "    for m, n in enumerate(txt_inp):\n",
        "        enc_inp[i, m, tok_ind_inp[n]] = 1.0\n",
        "    enc_inp[i, m + 1 :, tok_ind_inp[\" \"]] = 1.0\n",
        "    for m, n in enumerate(txt_tar):\n",
        "        dec_tar[i, m, tok_ind_tar[n]] = 1.0\n",
        "    dec_tar[i, m + 1 :, tok_ind_tar[\" \"]] = 1.0"
      ],
      "metadata": {
        "id": "eNMLdS0sIhuQ"
      },
      "execution_count": 22,
      "outputs": []
    },
    {
      "cell_type": "code",
      "source": [
        "inp_val_enc_dt = np.zeros(\n",
        "    (len(txt_inp_vals), len_max_enc, enc_tok_num), dtype=\"float64\"\n",
        ")\n",
        "tar_val_dec_dt = np.zeros(\n",
        "    (len(txt_tar_vals), len_max_dec, dec_tok_num), dtype=\"float64\"\n",
        ")"
      ],
      "metadata": {
        "id": "wDjCSWjSIhwp"
      },
      "execution_count": 23,
      "outputs": []
    },
    {
      "cell_type": "code",
      "execution_count": 24,
      "metadata": {
        "id": "CtAojV-O6p0G"
      },
      "outputs": [],
      "source": [
        "for i, (txt_inp, txt_tar) in enumerate(zip(txt_inp_vals, txt_tar_vals)):\n",
        "    \n",
        "    for t, n in enumerate(txt_inp):\n",
        "        inp_val_enc_dt[i, t, tok_ind_inp[n]] = 1.0\n",
        "    inp_val_enc_dt[i, t + 1 :, tok_ind_inp[\" \"]] = 1.0\n",
        "\n",
        "    for t, n in enumerate(txt_tar):\n",
        "        tar_val_dec_dt[i, t, tok_ind_tar[n]] = 1.0\n",
        "    tar_val_dec_dt[i, t + 1: , tok_ind_tar[\" \"]] = 1.0"
      ]
    },
    {
      "cell_type": "code",
      "execution_count": 25,
      "metadata": {
        "id": "N-RyyRhTQ2XC"
      },
      "outputs": [],
      "source": [
        "class BahdanauAttention(tf.keras.layers.Layer):\n",
        "  \n",
        "  def __init__(self, units):\n",
        "    super(BahdanauAttention, self).__init__()\n",
        "    self.W1 = tf.keras.layers.Dense(units)\n",
        "    self.W2 = tf.keras.layers.Dense(units)\n",
        "    self.V = tf.keras.layers.Dense(1)\n",
        "    \n",
        "  def call(self, query, values):\n",
        "    \n",
        "    qt = tf.expand_dims(query, 1)\n",
        "    \n",
        "    sc = self.V(tf.nn.tanh(\n",
        "        self.W1(qt) + self.W2(values)))\n",
        "    \n",
        "    attn_wgt = tf.nn.softmax(sc, axis=1)\n",
        "    vec_cxt = attn_wgt * values\n",
        "    vec_cxt = tf.reduce_sum(vec_cxt, axis=1)\n",
        "\n",
        "    return vec_cxt, attn_wgt"
      ]
    },
    {
      "cell_type": "code",
      "execution_count": 28,
      "metadata": {
        "id": "2mfk2-afoCeE"
      },
      "outputs": [],
      "source": [
        "class model_with_attention(object):\n",
        "\n",
        "  def __init__(self, Type = 'RNN', hid_layer_size=32, l_r= 1e-3, drop_prob = 0.3, number_of_epochs = 10, batch_size = 32, attn = 'bahdanau'):\n",
        "    \n",
        "    self.Type = Type\n",
        "    self.hid_layer_size = hid_layer_size\n",
        "    self.l_r = l_r\n",
        "    self.drop_prob = drop_prob\n",
        "    self.number_of_epochs = number_of_epochs\n",
        "    self.batch_size = batch_size\n",
        "    self.attn = attn\n",
        "\n",
        "  def fit(self, enc_inp, dec_tar):\n",
        "\n",
        "    enc_inps = Input(shape=(len_max_enc, enc_tok_num), name='encoder_inputs')\n",
        "\n",
        "    if self.Type == 'LSTM':\n",
        "\n",
        "      enc_LSTM = LSTM(self.hid_layer_size,return_sequences=True, return_state=True, dropout = self.drop_prob, name='encoder_lstm')\n",
        "      enc_outs, hs, cs = enc_LSTM(enc_inps)\n",
        "      states_enc = [hs, cs]\n",
        "\n",
        "    elif self.Type == 'GRU':\n",
        "\n",
        "      enc_GRU = GRU(self.hid_layer_size,return_sequences=True, return_state=True, dropout = self.drop_prob, name='encoder_gru')\n",
        "      enc_outs, hs = enc_GRU(enc_inps)\n",
        "      states_enc = [hs]\n",
        "\n",
        "    elif self.Type == 'RNN':\n",
        "\n",
        "      enc_rnn = SimpleRNN(self.hid_layer_size,return_sequences=True, return_state=True, dropout = self.drop_prob, name='encoder_rnn')\n",
        "      enc_outs, hs = enc_rnn(enc_inps)\n",
        "      states_enc = [hs]\n",
        "\n",
        "    # Attention Layer\n",
        "    if self.attn == 'bahdanau':\n",
        "      attn= BahdanauAttention(self.hid_layer_size)\n",
        "\n",
        "    # Decoder Layers\n",
        "    inps_deco = Input(shape=(1, (dec_tok_num + self.hid_layer_size)),name='decoder_inputs')\n",
        "\n",
        "    if self.Type == 'LSTM':\n",
        "\n",
        "      dec_LSTM = LSTM(self.hid_layer_size, dropout = self.drop_prob, return_state=True, name='decoder_lstm')\n",
        "    \n",
        "    elif self.Type == 'GRU':\n",
        "\n",
        "      dec_GRU = GRU(self.hid_layer_size, dropout = self.drop_prob, return_state=True, name='decoder_gru')\n",
        "    \n",
        "    elif self.Type == 'RNN':\n",
        "\n",
        "      dec_RNN = SimpleRNN(self.hid_layer_size, dropout = self.drop_prob, return_state=True, name='decoder_rnn')  \n",
        "    \n",
        "    \n",
        "    dec_den = Dense(dec_tok_num, activation='softmax',  name='decoder_dense')\n",
        "    oa = []\n",
        "\n",
        "    ip = np.zeros((self.batch_size, 1, dec_tok_num))\n",
        "    ip[:, 0, 0] = 1 \n",
        "\n",
        "    dec_outs = hs\n",
        "    states = states_enc\n",
        "\n",
        "    for _ in range(len_max_dec):\n",
        "\n",
        "      vec_cxt, attn_wgt = attn(dec_outs, enc_outs)\n",
        "      vec_cxt = tf.expand_dims(vec_cxt, 1)\n",
        "      \n",
        "      ip = tf.concat([vec_cxt, ip], axis=-1)\n",
        "\n",
        "      if self.Type == 'LSTM':\n",
        "\n",
        "        dec_outs, h, c = dec_LSTM(ip, initial_state=states)\n",
        "\n",
        "      if self.Type == 'GRU':\n",
        "\n",
        "        dec_outs, h = dec_GRU(ip, initial_state=states)\n",
        "\n",
        "      if self.Type == 'RNN':\n",
        "\n",
        "        dec_outs, h = dec_RNN(ip, initial_state=states)\n",
        "      \n",
        "      op = dec_den(dec_outs)\n",
        "      op = tf.expand_dims(op, 1)\n",
        "      oa.append(op)\n",
        "      ip = op\n",
        "      if self.Type == 'LSTM':\n",
        "\n",
        "        states = [h, c]\n",
        "\n",
        "      if self.Type == 'GRU' or self.Type == 'RNN':\n",
        "        \n",
        "        states = [h]\n",
        "\n",
        "\n",
        "    dec_outs = Lambda(lambda x: K.concatenate(x, axis=1))(oa)\n",
        "    model = Model(enc_inps, dec_outs, name='model_encoder_decoder')\n",
        "    \n",
        "    optimizer = Adam(lr=self.l_r, beta_1=0.9, beta_2=0.999)\n",
        "    model.compile(optimizer=optimizer, loss='categorical_crossentropy', metrics=['accuracy'])\n",
        "\n",
        "    model.fit(enc_inp, dec_tar,\n",
        "              batch_size=self.batch_size, \n",
        "              epochs=self.number_of_epochs,\n",
        "              #callbacks = [WandbCallback()]\n",
        "              )\n",
        "    \n",
        "    if self.Type == 'LSTM':\n",
        "\n",
        "        return enc_LSTM, attn, dec_LSTM, dec_den\n",
        "\n",
        "    if self.Type == 'GRU':\n",
        "        \n",
        "        return enc_GRU,attn, dec_GRU, dec_den\n",
        "    \n",
        "    if self.Type == 'RNN':\n",
        "        \n",
        "        return enc_rnn,attn, dec_RNN, dec_den \n",
        "\n",
        "\n",
        "  def evaluate(self,si):\n",
        "\n",
        "      attn_plot = np.zeros((len_max_dec, len_max_enc))\n",
        "      sequence = si\n",
        "      enc_inps = array(sequence).reshape(1,len_max_enc, enc_tok_num)\n",
        "\n",
        "      enc_inps = tf.convert_to_tensor(enc_inps,dtype=tf.float32)\n",
        "\n",
        "      if self.Type == 'LSTM':\n",
        "\n",
        "          enc_outs, hs, cs = encoder(enc_inps)\n",
        "          states_enc = [hs, cs]\n",
        "\n",
        "      elif self.Type == 'GRU':\n",
        "\n",
        "          enc_outs, hs = encoder(enc_inps)\n",
        "          states_enc = [hs]\n",
        "\n",
        "      elif self.Type == 'RNN':\n",
        "\n",
        "          enc_outs, hs = encoder(enc_inps)\n",
        "          states_enc = [hs]\n",
        "\n",
        "      oa = []\n",
        "\n",
        "      dec_inp = np.zeros((1, 1, dec_tok_num))\n",
        "      dec_inp[:, 0, 0] = 1 \n",
        "\n",
        "      inputs = dec_inp\n",
        "      dec_outs = hs\n",
        "      states = states_enc\n",
        "\n",
        "      w_a =[]\n",
        "\n",
        "      for t in range(len_max_dec):\n",
        "\n",
        "          vec_cxt, a_w = attn(dec_outs, enc_outs)\n",
        "\n",
        "          a_w = tf.reshape(a_w, (-1, ))\n",
        "          w_a.append(a_w)\n",
        "\n",
        "          attn_plot[t] = a_w.numpy()\n",
        "\n",
        "          dec_outs=tf.expand_dims(dec_outs, 1)\n",
        "\n",
        "          vec_cxt = tf.expand_dims(vec_cxt, 1)\n",
        "          inputs = tf.concat([vec_cxt, inputs], axis=-1)\n",
        "\n",
        "          if self.Type == 'LSTM':\n",
        "\n",
        "              dec_outs, state_h, state_c = decoder(inputs, initial_state=states)\n",
        "          \n",
        "          if self.Type == 'GRU':\n",
        "          \n",
        "              dec_outs, state_h = decoder(inputs, initial_state=states)\n",
        "          \n",
        "          if self.Type == 'RNN':\n",
        "          \n",
        "              dec_outs, state_h = decoder(inputs, initial_state=states)\n",
        "\n",
        "          outputs = dec_den(dec_outs) \n",
        "          outputs = tf.expand_dims(outputs, 1)\n",
        "          oa.append(outputs)\n",
        "          inputs = outputs\n",
        "\n",
        "          if self.Type == 'LSTM':\n",
        "              \n",
        "              states = [state_h, state_c]\n",
        "          \n",
        "          if self.Type == 'GRU' or self.Type == 'RNN':\n",
        "              \n",
        "              states = [state_h]\n",
        "\n",
        "      dec_outs = Lambda(lambda x: K.concatenate(x, axis=1))(oa)\n",
        "      seq_outs = dec_outs[0]\n",
        "      seq_out = tf.argmax(seq_outs, axis=1)\n",
        "      seq_out = seq_out.numpy()\n",
        "      si = tf.argmax(si, axis = 1)\n",
        "      si = si.numpy()\n",
        "      list(filter(lambda num: num != 0, si))\n",
        "      list(filter(lambda num: num != 0, seq_out))\n",
        "\n",
        "      return si, seq_out, attn_plot, w_a\n",
        "\n",
        "  def plot_attention(self,attention, sequence, predicted_sequence, idx,fig):\n",
        "\n",
        "      ax = fig.add_subplot(4, 3, idx)\n",
        "      ax.matshow(attention, cmap='viridis')\n",
        "\n",
        "      fontdict = {'fontsize': 16}\n",
        "      seq = ''\n",
        "      for i in range(len(sequence)):\n",
        "          seq = seq + rsci[sequence[i]]\n",
        "\n",
        "      pred = ''\n",
        "      for i in range(len(predicted_sequence)):\n",
        "          pred = pred + rtci[predicted_sequence[i]]\n",
        "\n",
        "      ax.set_xticklabels(seq, fontdict=fontdict)\n",
        "      ax.set_yticklabels(pred, fontdict=fontdict, fontproperties = hindi_font)\n",
        "\n",
        "      ax.xaxis.set_major_locator(ticker.MultipleLocator(1))\n",
        "      ax.yaxis.set_major_locator(ticker.MultipleLocator(1))\n",
        "\n",
        "\n",
        "  def translate(self,si, idx,fig):\n",
        "      si, seq_out, attn_plot, w_a = self.evaluate(si)\n",
        "\n",
        "      a = [0]\n",
        "      for i in range(len(si)):\n",
        "            if si[i] != 0:\n",
        "              a.append(si[i])\n",
        "\n",
        "      b = []\n",
        "      for i in range(len(seq_out)):\n",
        "            if seq_out[i] != 0:\n",
        "              b.append(seq_out[i])\n",
        "\n",
        "      b = b[:len(b)-1]\n",
        "      attn_plot = attn_plot[:len(b), :len(a)]\n",
        "      self.plot_attention(attn_plot, a, b, idx,fig)  \n",
        "\n",
        "      return w_a\n",
        "\n",
        "  def attn_plot(self,val_input):\n",
        "      w_a = []\n",
        "      fig = plt.figure(figsize=(16,18))\n",
        "      for i in range(1,13,1): \n",
        "          si = val_input[i*9]\n",
        "          w_a = self.translate(si,i,fig)  \n",
        "          w_a.append(w_a)\n",
        "      plt.savefig('attention_plots.png')\n",
        "      plt.show()\n",
        "      return w_a"
      ]
    },
    {
      "cell_type": "code",
      "execution_count": 29,
      "metadata": {
        "id": "3H8C__mqymd-"
      },
      "outputs": [],
      "source": [
        "model_rnn = model_with_attention(Type = 'LSTM', hid_layer_size=128, l_r= 1e-3,\n",
        "                        drop_prob=0.2, number_of_epochs = 15, batch_size = 128, attn = 'bahdanau')"
      ]
    },
    {
      "cell_type": "code",
      "execution_count": null,
      "metadata": {
        "colab": {
          "base_uri": "https://localhost:8080/"
        },
        "id": "h2iRrBYTEoCh",
        "outputId": "7bd7ad4e-6e51-4790-bdc2-8f91039b4838"
      },
      "outputs": [
        {
          "output_type": "stream",
          "name": "stderr",
          "text": [
            "/usr/local/lib/python3.7/dist-packages/keras/optimizer_v2/adam.py:105: UserWarning: The `lr` argument is deprecated, use `learning_rate` instead.\n",
            "  super(Adam, self).__init__(name, **kwargs)\n"
          ]
        },
        {
          "output_type": "stream",
          "name": "stdout",
          "text": [
            "Epoch 1/15\n",
            "345/345 [==============================] - 59s 97ms/step - loss: 1.3121 - accuracy: 0.6813\n",
            "Epoch 2/15\n",
            "345/345 [==============================] - 33s 96ms/step - loss: 1.1240 - accuracy: 0.7009\n",
            "Epoch 3/15\n",
            "345/345 [==============================] - 33s 96ms/step - loss: 1.0543 - accuracy: 0.7119\n",
            "Epoch 4/15\n",
            "345/345 [==============================] - 33s 96ms/step - loss: 0.9666 - accuracy: 0.7270\n",
            "Epoch 5/15\n",
            "345/345 [==============================] - 33s 96ms/step - loss: 0.9064 - accuracy: 0.7391\n",
            "Epoch 6/15\n",
            "345/345 [==============================] - 33s 96ms/step - loss: 0.8614 - accuracy: 0.7500\n",
            "Epoch 7/15\n",
            "345/345 [==============================] - 33s 96ms/step - loss: 0.8263 - accuracy: 0.7584\n",
            "Epoch 8/15\n",
            "345/345 [==============================] - 33s 96ms/step - loss: 0.7964 - accuracy: 0.7651\n",
            "Epoch 9/15\n",
            "345/345 [==============================] - 33s 96ms/step - loss: 0.7718 - accuracy: 0.7713\n",
            "Epoch 10/15\n",
            "345/345 [==============================] - 33s 96ms/step - loss: 0.7468 - accuracy: 0.7767\n",
            "Epoch 11/15\n",
            "345/345 [==============================] - 33s 96ms/step - loss: 0.7248 - accuracy: 0.7817\n",
            "Epoch 12/15\n",
            "345/345 [==============================] - 33s 96ms/step - loss: 0.7061 - accuracy: 0.7862\n",
            "Epoch 13/15\n",
            "345/345 [==============================] - 33s 96ms/step - loss: 0.6879 - accuracy: 0.7914\n",
            "Epoch 14/15\n",
            "345/345 [==============================] - 33s 96ms/step - loss: 0.6695 - accuracy: 0.7963\n",
            "Epoch 15/15\n",
            "345/345 [==============================] - 33s 96ms/step - loss: 0.6549 - accuracy: 0.7997\n"
          ]
        }
      ],
      "source": [
        "encoder,attn,decoder,dec_den = model_rnn.fit(enc_inp,dec_tar)"
      ]
    },
    {
      "cell_type": "code",
      "execution_count": null,
      "metadata": {
        "colab": {
          "base_uri": "https://localhost:8080/",
          "height": 1000
        },
        "id": "iB36aNtQuBwh",
        "outputId": "45c5496e-6ae8-43a3-888f-9fe4bc996a0f"
      },
      "outputs": [
        {
          "output_type": "display_data",
          "data": {
            "text/plain": [
              "<Figure size 1152x1296 with 12 Axes>"
            ],
            "image/png": "[encoded data removed]"
          },
          "metadata": {
            "needs_background": "light"
          }
        }
      ],
      "source": [
        "w_a = model_rnn.attn_plot(inp_val_enc_dt)"
      ]
    },
    {
      "cell_type": "code",
      "source": [
        ""
      ],
      "metadata": {
        "id": "khCFN414fO0b"
      },
      "execution_count": null,
      "outputs": []
    }
  ],
  "metadata": {
    "accelerator": "GPU",
    "colab": {
      "collapsed_sections": [],
      "machine_shape": "hm",
      "name": "attention_visualization.ipynb",
      "provenance": []
    },
    "kernelspec": {
      "display_name": "Python 3 (ipykernel)",
      "language": "python",
      "name": "python3"
    },
    "language_info": {
      "codemirror_mode": {
        "name": "ipython",
        "version": 3
      },
      "file_extension": ".py",
      "mimetype": "text/x-python",
      "name": "python",
      "nbconvert_exporter": "python",
      "pygments_lexer": "ipython3",
      "version": "3.7.10"
    }
  },
  "nbformat": 4,
  "nbformat_minor": 0
}
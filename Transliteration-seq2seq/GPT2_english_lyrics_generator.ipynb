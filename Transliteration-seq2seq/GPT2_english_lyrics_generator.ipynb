{
  "nbformat": 4,
  "nbformat_minor": 0,
  "metadata": {
    "colab": {
      "name": "GPT2_english_lyrics_generator.ipynb",
      "provenance": [],
      "collapsed_sections": [],
      "include_colab_link": true
    },
    "kernelspec": {
      "name": "python3",
      "display_name": "Python 3"
    },
    "accelerator": "GPU"
  },
  "cells": [
    {
      "cell_type": "markdown",
      "metadata": {
        "id": "view-in-github",
        "colab_type": "text"
      },
      "source": [
        "<a href=\"https://colab.research.google.com/github/Shubhammt/cs6910_assignment3/blob/main/GPT2_english_lyrics_generator.ipynb\" target=\"_parent\"><img src=\"https://colab.research.google.com/assets/colab-badge.svg\" alt=\"Open In Colab\"/></a>"
      ]
    },
    {
      "cell_type": "code",
      "metadata": {
        "id": "4fsZX2Az4h_i",
        "colab": {
          "base_uri": "https://localhost:8080/"
        },
        "outputId": "2dbeb28d-634a-4002-d049-169dd1c0f1b5"
      },
      "source": [
        "import os\n",
        "import pandas as pd\n",
        "\n",
        "%tensorflow_version 1.x\n",
        "\n",
        "try:\n",
        "  import gpt_2_simple as gpt2\n",
        "except:\n",
        "  !pip3 -q install gpt-2-simple\n",
        "  import gpt_2_simple as gpt2"
      ],
      "execution_count": null,
      "outputs": [
        {
          "output_type": "stream",
          "name": "stdout",
          "text": [
            "TensorFlow 1.x selected.\n",
            "\u001b[K     |████████████████████████████████| 497.5 MB 26 kB/s \n",
            "\u001b[K     |████████████████████████████████| 462 kB 43.9 MB/s \n",
            "\u001b[K     |████████████████████████████████| 5.8 MB 31.0 MB/s \n",
            "\u001b[K     |████████████████████████████████| 1.4 MB 35.7 MB/s \n",
            "\u001b[?25h  Building wheel for gpt-2-simple (setup.py) ... \u001b[?25l\u001b[?25hdone\n"
          ]
        }
      ]
    },
    {
      "cell_type": "code",
      "metadata": {
        "id": "krE-3R4r4lIA"
      },
      "source": [
        "# We used the following dataset\n",
        "dfs = []\n",
        "\n",
        "link = ('https://raw.githubusercontent.com/ThomasVrancken/'\n",
        "        'lyrics_generation/master/songdata_{}.csv')\n",
        "\n",
        "for i in range(4):\n",
        "  dfs.append(pd.read_csv(link.format(i)))\n",
        "\n",
        "df = pd.concat(dfs).reset_index(drop=True)"
      ],
      "execution_count": null,
      "outputs": []
    },
    {
      "cell_type": "code",
      "metadata": {
        "id": "HOyOde-8kCme"
      },
      "source": [
        "if not os.path.exists('content'):\n",
        "    os.makedirs('content')\n",
        "  \n",
        "pd.DataFrame({\"lyrics\": df['text']})\\\n",
        "    .to_csv(os.path.join('content', 'lyrics.csv'), index=False)"
      ],
      "execution_count": null,
      "outputs": []
    },
    {
      "cell_type": "code",
      "metadata": {
        "id": "5XjSlbuijLtE",
        "outputId": "948e6030-e3dd-419a-f2ba-5e35ca95c15c",
        "colab": {
          "base_uri": "https://localhost:8080/"
        }
      },
      "source": [
        "for model_name in [\"124M\"]:  \n",
        "    gpt2.download_gpt2(model_name=model_name)   "
      ],
      "execution_count": null,
      "outputs": [
        {
          "output_type": "stream",
          "name": "stderr",
          "text": [
            "Fetching checkpoint: 1.05Mit [00:00, 138Mit/s]                                                      \n",
            "Fetching encoder.json: 1.05Mit [00:00, 4.57Mit/s]\n",
            "Fetching hparams.json: 1.05Mit [00:00, 618Mit/s]                                                    \n",
            "Fetching model.ckpt.data-00000-of-00001: 498Mit [00:10, 48.7Mit/s]                                  \n",
            "Fetching model.ckpt.index: 1.05Mit [00:00, 360Mit/s]                                                \n",
            "Fetching model.ckpt.meta: 1.05Mit [00:00, 6.80Mit/s]\n",
            "Fetching vocab.bpe: 1.05Mit [00:00, 5.82Mit/s]\n"
          ]
        }
      ]
    },
    {
      "cell_type": "code",
      "metadata": {
        "id": "sh8n7rafi6ew"
      },
      "source": [
        "learning_rate = 0.0001\n",
        "optimizer = 'adam' \n",
        "batch_size = 1\n",
        "model_name = \"124M\" \n",
        "sess = gpt2.start_tf_sess()"
      ],
      "execution_count": null,
      "outputs": []
    },
    {
      "cell_type": "code",
      "metadata": {
        "id": "s-AkAspY4kHr",
        "outputId": "41160710-4e56-4ebe-c22c-884d3938ae35",
        "colab": {
          "base_uri": "https://localhost:8080/"
        }
      },
      "source": [
        "gpt2.finetune(sess,\n",
        "              'content/lyrics.csv',\n",
        "              model_name=model_name,\n",
        "              sample_every=50,\n",
        "              save_every=50,\n",
        "              print_every=10,\n",
        "              learning_rate=learning_rate,\n",
        "              batch_size=batch_size,\n",
        "              restore_from='latest',\n",
        "              steps=100)   "
      ],
      "execution_count": null,
      "outputs": [
        {
          "output_type": "stream",
          "name": "stdout",
          "text": [
            "Loading checkpoint models/124M/model.ckpt\n",
            "INFO:tensorflow:Restoring parameters from models/124M/model.ckpt\n",
            "Loading dataset...\n"
          ]
        },
        {
          "output_type": "stream",
          "name": "stderr",
          "text": [
            "100%|██████████| 1/1 [00:01<00:00,  1.51s/it]\n"
          ]
        },
        {
          "output_type": "stream",
          "name": "stdout",
          "text": [
            "dataset has 23199731 tokens\n",
            "Training...\n",
            "[10 | 50.64] loss=2.39 avg=2.39\n",
            "[20 | 96.51] loss=2.07 avg=2.23\n",
            "[30 | 142.40] loss=2.14 avg=2.20\n",
            "[40 | 188.40] loss=2.28 avg=2.22\n",
            "[50 | 234.39] loss=2.72 avg=2.32\n",
            "Saving checkpoint/run1/model-50\n",
            "======== SAMPLE 1 ========\n",
            " get you on your feet in this race we never will be without you and me  \n",
            "  \n",
            "So go on the way and on the way  \n",
            "  \n",
            "And ride your way  \n",
            "  \n",
            "This is no time for nothing  \n",
            "  \n",
            "And this is no time for  \n",
            "  \n",
            "Take your first step  \n",
            "Steps  \n",
            "Through darkness and darkness  \n",
            "  \n",
            "You might look like that  \n",
            "But you will look like a hero when you get to know him  \n",
            "And you'll be fine  \n",
            "We go by that name again  \n",
            "  \n",
            "  \n",
            "So go on the way and on the way  \n",
            "Go on the way and on the way  \n",
            "You might look like that but your friends will make you like that  \n",
            "And you'll be fine  \n",
            "Our friend and we'll ride  \n",
            "A few of us, we'll ride our merry way  \n",
            "We'll make you look even more great today  \n",
            "  \n",
            "Oh you don't sound like that  \n",
            "Oh you're a coward  \n",
            "I could see all the sun there's going on  \n",
            "If it wasn't a star  \n",
            "  \n",
            "Come on on the way and on the way out  \n",
            "And ride your way  \n",
            "I think we are the only ones who feel so good  \n",
            "We'd better stick with them when they die  \n",
            "  \n",
            "Well no it wasn't a star  \n",
            "But you're a coward  \n",
            "I could see all the sun there's going on  \n",
            "If it wasn't a star  \n",
            "Oh you don't sound like that  \n",
            "Oh you're a coward  \n",
            "  \n",
            "Oh you don't sound like that  \n",
            "<|endoftext|>\n",
            "<|startoftext|>Your sister is just sitting at a bookshop  \n",
            "She's in a nice chair she's getting old  \n",
            "Oh when you go on she says her name so  \n",
            "You're so too old for that  \n",
            "  \n",
            "You've got to get your mind together  \n",
            "But I've got lots of stuff to take  \n",
            "And it's got to be a good book  \n",
            "And don't give me wrong again  \n",
            "  \n",
            "And you got to get your mind together  \n",
            "But I've got lots of stuff to take  \n",
            "And it's got to be a good book  \n",
            "And don't give me wrong again\n",
            "\n",
            "<|endoftext|>\n",
            "<|startoftext|>This is not the end of the road  \n",
            "It's not the end of the world  \n",
            "It's not the end of the world in which we live  \n",
            "  \n",
            "  \n",
            "  \n",
            "So go on the way and on the way  \n",
            "Go on the way and on the way out  \n",
            "And ride your way  \n",
            "  \n",
            "And ride your way  \n",
            "  \n",
            "This is not the end of the road.  \n",
            "It's not the end of the world.  \n",
            "Go on the way and on the way out  \n",
            "And ride your way to the west  \n",
            "And ride your way to the east  \n",
            "And ride your way to the west  \n",
            " and ride your way back  \n",
            "  \n",
            "\n",
            "<|endoftext|>\n",
            "<|startoftext|>I'm here to sing  \n",
            "I'm here to dance  \n",
            "  \n",
            "Yeah, I'm singing about the times  \n",
            "I'm singing about the times  \n",
            "  \n",
            "When you come with me...\n",
            "\n",
            "<|endoftext|>\n",
            "<|startoftext|>I'm here to sing  \n",
            "I'm here to dance  \n",
            "  \n",
            "I'm here to sing  \n",
            "  \n",
            "I'm here to sing  \n",
            "I'm here to dance  \n",
            "  \n",
            "I'm here to sing  \n",
            "  \n",
            "I'm here to sing  \n",
            "I'm here to ride  \n",
            "I'm here to ride  \n",
            "  \n",
            "I'm here to sing  \n",
            "I'm here to ride  \n",
            "  \n",
            "I'm here to sing  \n",
            "I'm here to ride  \n",
            "  \n",
            "I'm here to sing  \n",
            "I'm here to ride  \n",
            "  \n",
            "I'm here to sing  \n",
            "I'm here to ride  \n",
            "  \n",
            "This is not the end of the road  \n",
            "It's not the end of the world  \n",
            "Go on the way and on the way out  \n",
            "And ride your way  \n",
            "  \n",
            "I'm here to sing  \n",
            "\n",
            "\n",
            "[60 | 304.08] loss=2.04 avg=2.27\n",
            "[70 | 349.97] loss=2.17 avg=2.26\n",
            "[80 | 395.88] loss=2.17 avg=2.25\n",
            "[90 | 441.76] loss=2.26 avg=2.25\n",
            "[100 | 487.70] loss=2.42 avg=2.27\n",
            "Saving checkpoint/run1/model-100\n",
            "WARNING:tensorflow:From /usr/local/lib/python3.7/dist-packages/tensorflow/python/training/saver.py:1054: remove_checkpoint (from tensorflow.python.training.checkpoint_management) is deprecated and will be removed in a future version.\n",
            "Instructions for updating:\n",
            "Use standard file APIs to delete files with this prefix.\n"
          ]
        }
      ]
    },
    {
      "cell_type": "code",
      "metadata": {
        "id": "PaBvoGRVJB-2"
      },
      "source": [
        "lst_results=gpt2.generate(\n",
        "    sess,\n",
        "    prefix=\"I love Deep Learning\",\n",
        "    nsamples=4,\n",
        "    temperature=0.8, \n",
        "    top_p=0.9, \n",
        "    return_as_list=True,\n",
        "    truncate=\"<|endoftext|>\",\n",
        "    include_prefix=True\n",
        "    )"
      ],
      "execution_count": null,
      "outputs": []
    },
    {
      "cell_type": "code",
      "metadata": {
        "id": "sAleBLtrglgl",
        "colab": {
          "base_uri": "https://localhost:8080/"
        },
        "outputId": "e18e2725-f69e-42f1-9514-ddda7d33e1e3"
      },
      "source": [
        "for res in lst_results:\n",
        "  print(res)\n",
        "  print('\\n -------//------ \\n')"
      ],
      "execution_count": null,
      "outputs": [
        {
          "output_type": "stream",
          "name": "stdout",
          "text": [
            "I love Deep Learning\n",
            "\n",
            "\n",
            "\n",
            " -------//------ \n",
            "\n",
            "I love Deep Learning\n",
            "\n",
            "[Chorus]\n",
            "\n",
            "I love Deep Learning\n",
            "\n",
            "[Chorus]\n",
            "\n",
            "You're right, you're right, yeah, yeah, yeah, yeah, yeah, yeah, yeah, yeah\n",
            "\n",
            "\n",
            "\n",
            " -------//------ \n",
            "\n",
            "I love Deep Learning, we just need some love in this room!  \n",
            "  \n",
            "This time I'm going to try and be a great human being, this time I'm going to try and be a great human being  \n",
            "  \n",
            "You've got to love this game, you've got to love this game  \n",
            "  \n",
            "You've got to love this game, you've got to love this game  \n",
            "  \n",
            "You've got to love this game, you've got to love this game  \n",
            "  \n",
            "You've got to love this game, you've got to love this game  \n",
            "  \n",
            "You've got to love this game, you've got to love this game  \n",
            "  \n",
            "You've got to love this game, you've got to love this game  \n",
            "  \n",
            "You've got to love this game, you've got to love this game  \n",
            "  \n",
            "You've got to love this game, you've got to love this game  \n",
            "  \n",
            "You've got to love this game, you've got to love this game  \n",
            "  \n",
            "You've got to love this game, you've got to love this game  \n",
            "  \n",
            "You've got to love this game, you've got to love this game  \n",
            "  \n",
            "You've got to love this game, you've got to love this game  \n",
            "  \n",
            "You've got to love this game, you've got to love this game  \n",
            "  \n",
            "You've got to love this game, you've got to love this game  \n",
            "  \n",
            "You've got to love this game, you've got to love this game  \n",
            "  \n",
            "You've got to love this game, you've got to love this game  \n",
            "  \n",
            "You've got to love this game, you've got to love this game  \n",
            "  \n",
            "You've got to love this game, you've got to love this game  \n",
            "  \n",
            "You've got to love this game, you've got to love this game  \n",
            "  \n",
            "You've got to love this game, you've got to love this game  \n",
            "  \n",
            "You've got to love this game, you've got to love this game  \n",
            "  \n",
            "You've got to love this game, you've got to love this game  \n",
            "  \n",
            "You've got to love this game, you've got to love this game  \n",
            "  \n",
            "You've got to love this game, you've got to love this game  \n",
            "  \n",
            "You've got to love this game, you've got to love this game  \n",
            "  \n",
            "You've got to love this game, you've got to love this game  \n",
            "  \n",
            "You've got to love this game, you've got to love this game  \n",
            "  \n",
            "You've got to love this game, you've got to love this game  \n",
            "  \n",
            "You've got to love this game, you've got to love this game  \n",
            "  \n",
            "You've got to love this game, you've got to love this game  \n",
            "  \n",
            "You've got to love this game, you've got to love this game  \n",
            "  \n",
            "You've got to love this game, you've got to love this game  \n",
            "  \n",
            "You've got to love this game, you've got to love this game  \n",
            "  \n",
            "You've got to love this game, you've got to love this game  \n",
            "  \n",
            "You've got to love this game, you've got to love this game  \n",
            "  \n",
            "You've got to love this game, you've got to love this game  \n",
            "  \n",
            "You've got to love this game, you've got to love this game  \n",
            "  \n",
            "You've got to love this game, you've got to love this game  \n",
            "  \n",
            "You've got to love this game, you've got to love this game  \n",
            "  \n",
            "You've got to love this game, you've got to love this game  \n",
            "  \n",
            "You've got to love this game, you've got to love this game  \n",
            "  \n",
            "You've got to love this game, you've got to love this game  \n",
            "  \n",
            "You've got to love this game, you've got to love this game  \n",
            "  \n",
            "You've got to love this game, you've got to love this game  \n",
            "  \n",
            "You've got to love this game, you've got to love this game  \n",
            "  \n",
            "You've got to love this game, you've got to love this game  \n",
            "  \n",
            "You've got to\n",
            "\n",
            " -------//------ \n",
            "\n",
            "I love Deep Learning.\"\n",
            "\n",
            "\n",
            "\n",
            " -------//------ \n",
            "\n"
          ]
        }
      ]
    }
  ]
}
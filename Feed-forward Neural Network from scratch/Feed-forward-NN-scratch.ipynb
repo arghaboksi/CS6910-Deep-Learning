{
 "cells": [
  {
   "cell_type": "markdown",
   "metadata": {
    "colab_type": "text",
    "id": "view-in-github"
   },
   "source": [
    "<a href=\"https://colab.research.google.com/github/arghaboksi/CS6910-Deep-Learning/blob/main/CS6910_Assignment_1.ipynb\" target=\"_parent\"><img src=\"https://colab.research.google.com/assets/colab-badge.svg\" alt=\"Open In Colab\"/></a>"
   ]
  },
  {
   "cell_type": "code",
   "execution_count": 5,
   "metadata": {
    "colab": {
     "base_uri": "https://localhost:8080/"
    },
    "id": "pKw7qB84jovo",
    "outputId": "b782e96a-52d2-47d6-adea-fa7f907732ef"
   },
   "outputs": [],
   "source": [
    "#!pip install wandb -qqq\n",
    "import wandb\n",
    "from wandb.keras import WandbCallback"
   ]
  },
  {
   "cell_type": "code",
   "execution_count": 6,
   "metadata": {
    "id": "YpBvjy3klblh"
   },
   "outputs": [],
   "source": [
    "from tensorflow import keras\n",
    "import numpy as np\n",
    "import matplotlib.pyplot as plt\n",
    "from tensorflow.keras.utils import to_categorical\n",
    "import math\n",
    "from sklearn.metrics import accuracy_score"
   ]
  },
  {
   "cell_type": "code",
   "execution_count": 7,
   "metadata": {
    "colab": {
     "base_uri": "https://localhost:8080/",
     "height": 102
    },
    "id": "XeE92hHckmmU",
    "outputId": "9477b175-5f2a-4b6a-f4d8-66d88f51c19e"
   },
   "outputs": [
    {
     "name": "stderr",
     "output_type": "stream",
     "text": [
      "\u001b[34m\u001b[1mwandb\u001b[0m: Currently logged in as: \u001b[33mma20m022\u001b[0m (use `wandb login --relogin` to force relogin)\n"
     ]
    },
    {
     "data": {
      "text/plain": [
       "True"
      ]
     },
     "execution_count": 7,
     "metadata": {},
     "output_type": "execute_result"
    }
   ],
   "source": [
    "wandb.login()"
   ]
  },
  {
   "cell_type": "code",
   "execution_count": 8,
   "metadata": {
    "colab": {
     "base_uri": "https://localhost:8080/",
     "height": 73
    },
    "id": "MXn7I2w7vR40",
    "outputId": "01f643fd-bbe9-4a9f-f840-decf42802a57"
   },
   "outputs": [
    {
     "data": {
      "text/html": [
       "\n",
       "                    Syncing run <strong><a href=\"https://wandb.ai/shubham-argha/ma20m022_cs21d407/runs/1fttfiqt\" target=\"_blank\">giddy-terrain-205</a></strong> to <a href=\"https://wandb.ai/shubham-argha/ma20m022_cs21d407\" target=\"_blank\">Weights & Biases</a> (<a href=\"https://docs.wandb.com/integrations/jupyter.html\" target=\"_blank\">docs</a>).<br/>\n",
       "\n",
       "                "
      ],
      "text/plain": [
       "<IPython.core.display.HTML object>"
      ]
     },
     "metadata": {},
     "output_type": "display_data"
    },
    {
     "data": {
      "text/html": [
       "<button onClick=\"this.nextSibling.style.display='block';this.style.display='none';\">Display W&B run</button><iframe src=\"https://wandb.ai/shubham-argha/ma20m022_cs21d407/runs/1fttfiqt?jupyter=true\" style=\"border:none;width:100%;height:420px;display:none;\"></iframe>"
      ],
      "text/plain": [
       "<wandb.sdk.wandb_run.Run at 0x2268bc0acc8>"
      ]
     },
     "execution_count": 8,
     "metadata": {},
     "output_type": "execute_result"
    }
   ],
   "source": [
    "wandb.init(project=\"ma20m022_cs21d407\", entity=\"shubham-argha\")"
   ]
  },
  {
   "cell_type": "code",
   "execution_count": 9,
   "metadata": {
    "id": "t1Spjb5Hk19V"
   },
   "outputs": [],
   "source": [
    "#fashion mnist data \n",
    "fashion_mnist = keras.datasets.fashion_mnist"
   ]
  },
  {
   "cell_type": "code",
   "execution_count": 10,
   "metadata": {
    "colab": {
     "base_uri": "https://localhost:8080/"
    },
    "id": "ItqABFpFmoZP",
    "outputId": "30c212aa-1feb-4578-8654-4f9bccaaeed0"
   },
   "outputs": [],
   "source": [
    "#training data and test data\n",
    "(training_images, training_labels), (test_images, test_labels) = fashion_mnist.load_data()"
   ]
  },
  {
   "cell_type": "code",
   "execution_count": 11,
   "metadata": {
    "id": "PQMAh6PHf4bQ"
   },
   "outputs": [],
   "source": [
    "#training and validation data\n",
    "from sklearn.model_selection import train_test_split\n",
    "training_images, val_images, training_labels, val_labels = train_test_split(training_images, training_labels, test_size=0.10, random_state=42)"
   ]
  },
  {
   "cell_type": "code",
   "execution_count": 12,
   "metadata": {
    "colab": {
     "base_uri": "https://localhost:8080/"
    },
    "id": "7MdcUHBsnWAj",
    "outputId": "6f05fc41-e227-4888-ec73-afc0c789c7ff"
   },
   "outputs": [
    {
     "name": "stdout",
     "output_type": "stream",
     "text": [
      "(54000, 28, 28)\n",
      "(54000,)\n",
      "(10000, 28, 28)\n",
      "(10000,)\n",
      "(6000, 28, 28)\n",
      "(6000,)\n"
     ]
    }
   ],
   "source": [
    "print(training_images.shape)     #54k training images\n",
    "print(training_labels.shape)     \n",
    "print(test_images.shape)         #10k test images\n",
    "print(test_labels.shape)\n",
    "print(val_images.shape)         #6k test images\n",
    "print(val_labels.shape)"
   ]
  },
  {
   "cell_type": "code",
   "execution_count": 13,
   "metadata": {
    "colab": {
     "base_uri": "https://localhost:8080/"
    },
    "id": "dHER_zRnbZSU",
    "outputId": "6064d359-2288-4ffa-e291-17c65e9c740b"
   },
   "outputs": [
    {
     "name": "stdout",
     "output_type": "stream",
     "text": [
      "(784, 54000)\n",
      "(784, 10000)\n",
      "(784, 6000)\n",
      "train data shape :  (784, 54000)\n",
      "test data shape :  (784, 10000)\n",
      "val data shape :  (784, 6000)\n"
     ]
    }
   ],
   "source": [
    "#Flattening the training and test examples\n",
    "#Each column is a flattened image\n",
    "training_images_flatten = training_images.reshape(training_images.shape[0], -1).T\n",
    "print(training_images_flatten.shape)\n",
    "test_images_flatten = test_images.reshape(test_images.shape[0], -1).T\n",
    "print(test_images_flatten.shape)\n",
    "val_images_flatten = val_images.reshape(val_images.shape[0], -1).T\n",
    "print(val_images_flatten.shape)\n",
    "\n",
    "\n",
    "# Standardize data\n",
    "train_data = training_images_flatten/255\n",
    "test_data = test_images_flatten/255\n",
    "val_data = val_images_flatten/255\n",
    "print(\"train data shape : \", train_data.shape)\n",
    "print(\"test data shape : \", test_data.shape)\n",
    "print(\"val data shape : \", val_data.shape)"
   ]
  },
  {
   "cell_type": "code",
   "execution_count": 14,
   "metadata": {
    "colab": {
     "base_uri": "https://localhost:8080/"
    },
    "id": "iP1kTk8atVgN",
    "outputId": "faa5650b-5588-4c0e-b9ee-b896ad9a08dd"
   },
   "outputs": [
    {
     "name": "stdout",
     "output_type": "stream",
     "text": [
      "(10, 54000)\n",
      "(10, 10000)\n",
      "(10, 6000)\n"
     ]
    }
   ],
   "source": [
    "#One hot Encoding for labels\n",
    "train_labels = np.transpose(to_categorical(training_labels))\n",
    "testing_labels = np.transpose(to_categorical(test_labels))\n",
    "validation_labels = np.transpose(to_categorical(val_labels))\n",
    "print(train_labels.shape)\n",
    "print(testing_labels.shape)\n",
    "print(validation_labels.shape)"
   ]
  },
  {
   "cell_type": "code",
   "execution_count": 15,
   "metadata": {
    "colab": {
     "base_uri": "https://localhost:8080/",
     "height": 299
    },
    "id": "VKka5Kd1EEE2",
    "outputId": "b062a4d7-bd5b-44d8-9a99-b08fe1c935da"
   },
   "outputs": [
    {
     "name": "stdout",
     "output_type": "stream",
     "text": [
      "[0. 0. 0. 0. 0. 0. 0. 0. 1. 0.]\n"
     ]
    },
    {
     "data": {
      "text/plain": [
       "<matplotlib.image.AxesImage at 0x226913cb748>"
      ]
     },
     "execution_count": 15,
     "metadata": {},
     "output_type": "execute_result"
    },
    {
     "data": {
      "image/png": "[encoded data removed]",
      "text/plain": [
       "<Figure size 432x288 with 1 Axes>"
      ]
     },
     "metadata": {
      "needs_background": "light"
     },
     "output_type": "display_data"
    }
   ],
   "source": [
    "print(train_labels[:, 205])\n",
    "plt.imshow(training_images[205])"
   ]
  },
  {
   "cell_type": "code",
   "execution_count": 16,
   "metadata": {
    "colab": {
     "base_uri": "https://localhost:8080/",
     "height": 282
    },
    "id": "ZpxEJ_2AFYML",
    "outputId": "43355350-5c32-4af9-f9d4-6e42d80a16f2"
   },
   "outputs": [
    {
     "data": {
      "text/plain": [
       "<matplotlib.image.AxesImage at 0x22691451c08>"
      ]
     },
     "execution_count": 16,
     "metadata": {},
     "output_type": "execute_result"
    },
    {
     "data": {
      "image/png": "[encoded data removed]",
      "text/plain": [
       "<Figure size 432x288 with 1 Axes>"
      ]
     },
     "metadata": {
      "needs_background": "light"
     },
     "output_type": "display_data"
    }
   ],
   "source": [
    "plt.imshow(training_images_flatten[:, 205].reshape(28,28))"
   ]
  },
  {
   "cell_type": "code",
   "execution_count": 17,
   "metadata": {
    "id": "7ZpHJNoCnsRO"
   },
   "outputs": [],
   "source": [
    "# Question 1\n",
    "# 0: T-shirt/top\n",
    "# 1: Trouser\n",
    "# 2: Pullover\n",
    "# 3: Dress\n",
    "# 4: Coat\n",
    "# 5: Sandal\n",
    "# 6: Shirt\n",
    "# 7: Sneaker\n",
    "# 8: Bag\n",
    "# 9: Ankle boot\n",
    "\n",
    "image = [];\n",
    "items = [\"T-shirt/top\", \"Trouser\", \"Pullover\", \"Dress\", \"Coat\", \"Sandal\", \"Shirt\", \"Sneaker\", \"Bag\", \"Ankle boot\"]\n",
    "labels = [0,1,2,3,4,5,6,7,8,9]\n",
    "\n",
    "for k in labels:\n",
    "    for j in range(len(training_labels)):\n",
    "        if k == training_labels[j]:\n",
    "            image.append(training_images[j])\n",
    "            break \n",
    "\n",
    "wandb.log({\"Examples\": [ wandb.Image(img, caption=caption) for img, caption in zip(image,items)]})"
   ]
  },
  {
   "cell_type": "code",
   "execution_count": 18,
   "metadata": {
    "id": "gURGD8pMdefp"
   },
   "outputs": [],
   "source": [
    "# L : a list containing no. of neurons in different layers, L = [4,4,2] means 4 input neurons, one hidden layer with 4 neurons, 2 output neurons\n",
    "# params : a dictionary containing weights and biases of different layers\n",
    "\n",
    "def parameter_initialise_random(L):\n",
    "    no_of_layers = len(L)\n",
    "    params = {}\n",
    "    for i in range(1, no_of_layers):\n",
    "        params['W' + str(i)] = np.random.randn(L[i], L[i-1]) * 0.01\n",
    "        params['b' + str(i)] = np.zeros((L[i], 1))\n",
    "    return params"
   ]
  },
  {
   "cell_type": "code",
   "execution_count": 19,
   "metadata": {
    "id": "BzNKICRjz9EQ"
   },
   "outputs": [],
   "source": [
    "# Xavier Weight Initialization\n",
    "\n",
    "def parameter_initialise_xavier(L):\n",
    "    no_of_layers = len(L)\n",
    "    params = {}\n",
    "    for i in range(1, no_of_layers):\n",
    "        lower = -1/ np.sqrt(L[i-1])\n",
    "        upper = 1/ np.sqrt(L[i-1])\n",
    "        params[\"W\" + str(i)] = lower + np.random.randn(L[i], L[i-1])*(upper- lower)\n",
    "        params[\"b\" + str(i)] = lower + np.random.randn(L[i],1)*(upper - lower)\n",
    "    return params"
   ]
  },
  {
   "cell_type": "code",
   "execution_count": 20,
   "metadata": {
    "id": "q6jn2XQhrvgu"
   },
   "outputs": [],
   "source": [
    "# Linear Computation of a layer\n",
    "def linear_computation_of_a_layer(activations_prev_layer, weights_of_current_layer, biases_of_current_layer):\n",
    "    preactivation = np.dot(weights_of_current_layer, activations_prev_layer) + biases_of_current_layer\n",
    "    return preactivation"
   ]
  },
  {
   "cell_type": "code",
   "execution_count": 21,
   "metadata": {
    "id": "6WQUbtlu1gxd"
   },
   "outputs": [],
   "source": [
    "# Relu activation function\n",
    "def relu(v):\n",
    "    return np.maximum(0,v)"
   ]
  },
  {
   "cell_type": "code",
   "execution_count": 22,
   "metadata": {
    "id": "GIlH6kHg16X_"
   },
   "outputs": [],
   "source": [
    "# Sigmoid activation function\n",
    "def sigmoid(v):\n",
    "    return 1/(1+np.exp(-v))"
   ]
  },
  {
   "cell_type": "code",
   "execution_count": 23,
   "metadata": {
    "id": "uvD779CjMVMM"
   },
   "outputs": [],
   "source": [
    "# tanh activation function\n",
    "def tanh(x):\n",
    "\t  return np.tanh(x)"
   ]
  },
  {
   "cell_type": "code",
   "execution_count": 24,
   "metadata": {
    "id": "3bEOCSBHeadY"
   },
   "outputs": [],
   "source": [
    "def softmax(vector):\n",
    "\te = np.exp(vector)\n",
    "\treturn e / e.sum()"
   ]
  },
  {
   "cell_type": "code",
   "execution_count": 25,
   "metadata": {
    "id": "tn4T41Yxf4bY"
   },
   "outputs": [],
   "source": [
    "def relu_derivative(vector):\n",
    "    return (vector>0)*(np.ones(np.shape(vector)))"
   ]
  },
  {
   "cell_type": "code",
   "execution_count": 26,
   "metadata": {
    "id": "Ut4nmoFa0P3e"
   },
   "outputs": [],
   "source": [
    "#activation of a layer\n",
    "def activation_of_a_layer(activations_prev_layer, weights_of_current_layer, biases_of_current_layer, activation_function):\n",
    "    preactivation = linear_computation_of_a_layer(activations_prev_layer, weights_of_current_layer, biases_of_current_layer)\n",
    "    if activation_function == \"sigmoid\":\n",
    "        activation = sigmoid(preactivation)\n",
    "    if activation_function == \"tanh\":\n",
    "        activation = tanh(preactivation)\n",
    "    if activation_function == \"relu\":\n",
    "        activation = relu(preactivation)\n",
    "    return preactivation, activation"
   ]
  },
  {
   "cell_type": "code",
   "execution_count": 27,
   "metadata": {
    "id": "HCkCvNxIQ_Og"
   },
   "outputs": [],
   "source": [
    "# Forward propagation for a single training example\n",
    "def forward_propagation(input_vector, parameters, activation_function):\n",
    "    activation_preactivation_dictionary = {}\n",
    "    activation_preactivation_dictionary['h0'] = input_vector\n",
    "    activation = input_vector\n",
    "    L = len(parameters)//2     \n",
    "    for i in range(1, L):      #calculates activation of L-1 layers\n",
    "        A_temp = activation\n",
    "        preactivation, activation = activation_of_a_layer(A_temp, parameters['W'+str(i)], parameters['b'+str(i)], activation_function)\n",
    "        activation_preactivation_dictionary['a'+str(i)] = preactivation\n",
    "        activation_preactivation_dictionary['h'+str(i)] = activation\n",
    "    #Output layer is softmax, need to write the softmax code here\n",
    "    preactivation = linear_computation_of_a_layer(activation, parameters['W'+str(L)], parameters['b'+str(L)])\n",
    "    output_layer_activation = softmax(preactivation)\n",
    "    activation_preactivation_dictionary['a'+str(L)] = preactivation\n",
    "    activation_preactivation_dictionary['h'+str(L)] = output_layer_activation\n",
    "    return output_layer_activation, activation_preactivation_dictionary"
   ]
  },
  {
   "cell_type": "code",
   "execution_count": 28,
   "metadata": {
    "id": "cciYFp7Df4ba"
   },
   "outputs": [],
   "source": [
    "def predictions(input_batch, parameters, activation_function):\n",
    "    no_of_examples = np.shape(input_batch)[1]\n",
    "    predictions = []\n",
    "    for i in range(no_of_examples):\n",
    "        prediction, _ = forward_propagation(input_batch[:, i].reshape(784,1), parameters, activation_function)\n",
    "        predictions.append(np.argmax(prediction,axis = 0))\n",
    "    return predictions"
   ]
  },
  {
   "cell_type": "code",
   "execution_count": 29,
   "metadata": {
    "id": "3IayZ8MErQuU"
   },
   "outputs": [],
   "source": [
    "# Cross Entropy Loss\n",
    "def cross_entropy(target,output):\n",
    "    return -np.log(np.dot(target,np.transpose(output)))"
   ]
  },
  {
   "cell_type": "code",
   "execution_count": 30,
   "metadata": {
    "id": "2Y8zNKNukJ6n"
   },
   "outputs": [],
   "source": [
    "def get_losses(input_batch, input_labels,parameters, activation_function):\n",
    "    no_of_examples = np.shape(input_batch)[1]\n",
    "    loss = 0\n",
    "    for i in range(no_of_examples):\n",
    "        prediction, _ = forward_propagation(input_batch[:, i].reshape(784,1), parameters, activation_function)\n",
    "        loss+=cross_entropy(input_labels[:, i], prediction.reshape(10,))\n",
    "    loss = (1/no_of_examples)*loss\n",
    "    return loss"
   ]
  },
  {
   "cell_type": "code",
   "execution_count": 31,
   "metadata": {
    "id": "cJC7ZXjGnJ2Z"
   },
   "outputs": [],
   "source": [
    "# Backpropagation for a single training example\n",
    "def backward_propagation(target, output,act_preact_dict,input_shape,parameters, activation_function,reg_par):\n",
    "    L = (len(parameters))//2\n",
    "    act_preact_dict['a0'] = np.zeros((input_shape,1))\n",
    "    derivatives = dict()\n",
    "    derivatives['delta_a'+str(L)] = -1*(target.reshape((-1,1))-output)\n",
    "    for i in range(L,0,-1):\n",
    "        derivatives['delta_w'+str(i)] = np.dot(derivatives['delta_a'+str(i)],(act_preact_dict['h'+str(i-1)]).T)+reg_par*parameters['W' + str(i)]\n",
    "        derivatives['delta_b'+str(i)] = derivatives['delta_a'+str(i)]\n",
    "        derivatives['delta_h'+str(i-1)] = np.dot((parameters['W' + str(i)]).T,derivatives['delta_a'+str(i)])\n",
    "        if activation_function == \"sigmoid\":\n",
    "            derivatives['delta_a' + str(i-1)] = (derivatives['delta_h' + str(i-1)])*sigmoid(act_preact_dict[\"a\" + str(i-1)])*(1-sigmoid(act_preact_dict[\"a\" + str(i-1)]))\n",
    "        elif activation_function == \"tanh\":\n",
    "            derivatives['delta_a' + str(i-1)] = (derivatives['delta_h' + str(i-1)])*(1-(tanh(act_preact_dict[\"a\" + str(i-1)]))**2)\n",
    "        elif activation_function == \"relu\":\n",
    "            derivatives['delta_a' + str(i-1)] = (derivatives['delta_h' + str(i-1)])*(relu_derivative(act_preact_dict[\"a\" + str(i-1)]))\n",
    "    return derivatives"
   ]
  },
  {
   "cell_type": "code",
   "execution_count": 32,
   "metadata": {
    "id": "H6ks4CxZonnf"
   },
   "outputs": [],
   "source": [
    "def mini_batch_gradient_descent_update_rule(parameters, learning_rate, derivatives):\n",
    "\n",
    "    L = len(parameters) // 2 \n",
    "\n",
    "    for l in range(L):\n",
    "        parameters[\"W\" + str(l+1)] = parameters[\"W\" + str(l+1)] - learning_rate*derivatives[\"dw\" + str(l+1)]\n",
    "        parameters[\"b\" + str(l+1)] = parameters[\"b\" + str(l+1)] - learning_rate*derivatives[\"db\" + str(l+1)]\n",
    "\n",
    "    return parameters"
   ]
  },
  {
   "cell_type": "code",
   "execution_count": 33,
   "metadata": {
    "id": "3fuGko6kooQR"
   },
   "outputs": [],
   "source": [
    "def forward_backward(train_data, train_labels, parameters, layer_dimensions, activation_function,reg_par):\n",
    "  \n",
    "    no_of_examples = np.shape(train_data)[1]\n",
    "    L = len(parameters)//2\n",
    "    loss = 0\n",
    "    # Initialise Gradient Dictionary, after processing all the training examples this will contain the gradients\n",
    "    gradients = {}\n",
    "    for k in range(1, L+1):\n",
    "        gradients[\"dw\" + str(k)] = np.zeros((layer_dimensions[k], layer_dimensions[k-1]))\n",
    "        gradients[\"db\" + str(k)] = np.zeros((layer_dimensions[k],1))\n",
    "\n",
    "    # Forward  and Backward propagation for m training examples\n",
    "    for i in range(no_of_examples):\n",
    "\n",
    "        # Forward prop for ith training example\n",
    "        predictions, act_preact_dict = forward_propagation(train_data[:, i].reshape(784,1), parameters, activation_function)\n",
    "        \n",
    "        # Backward prop for ith training example\n",
    "        derivative_dict = backward_propagation(train_labels[:, i], predictions, act_preact_dict, 784, parameters,activation_function,reg_par)\n",
    "\n",
    "        for key in gradients.keys():\n",
    "            gradients[key] += derivative_dict['delta_'+key[1:]]\n",
    "\n",
    "        loss += cross_entropy(train_labels[:, i], predictions.reshape(10,))\n",
    "\n",
    "    # Need to take the average of the gradients and loss\n",
    "    for key in gradients.keys():\n",
    "        gradients[key] = (1/no_of_examples)*gradients[key]\n",
    "\n",
    "    loss = (1/no_of_examples)*loss\n",
    "    \n",
    "    return (loss, gradients)\n"
   ]
  },
  {
   "cell_type": "code",
   "execution_count": 34,
   "metadata": {
    "id": "jPiApaer2XIx"
   },
   "outputs": [],
   "source": [
    "# Generates mini batches from the training data\n",
    "def mini_batch_generation(train_data, train_labels, batch_size = 64):\n",
    "    \n",
    "    no_of_training_examples = train_data.shape[1]                 \n",
    "    batches = []\n",
    "\n",
    "    number_of_complete_minibatches = math.floor(no_of_training_examples/batch_size)\n",
    "\n",
    "    for i in range(number_of_complete_minibatches):\n",
    "        batch_input = train_data[:, i*batch_size : (i+1)*batch_size]\n",
    "        batch_output = train_labels[:, i*batch_size : (i+1)*batch_size]\n",
    "        created_batch = (batch_input, batch_output)\n",
    "        batches.append(created_batch)\n",
    "    \n",
    "    if no_of_training_examples % batch_size != 0:\n",
    "        last_batch_input = train_data[:, int(no_of_training_examples/batch_size)*batch_size : ]\n",
    "        last_batch_output = train_labels[:, int(no_of_training_examples/batch_size)*batch_size : ]\n",
    "        last_batch = (last_batch_input, last_batch_output)\n",
    "        batches.append(last_batch)\n",
    "    \n",
    "    return batches"
   ]
  },
  {
   "cell_type": "code",
   "execution_count": 37,
   "metadata": {
    "id": "6q7tNXhfCHvw"
   },
   "outputs": [],
   "source": [
    "# if batch_size = 1, then this function implements SGD\n",
    "# if batch_size = m, then this function implements Vanilla Gradient Descent\n",
    "def mini_batch_gradient_descent(train_data, train_labels, number_of_hidden_layers, hidden_layer_size, learning_rate, batch_size, number_of_epochs, activation_function, initialization,reg_par):\n",
    "    \n",
    "    l = []\n",
    "    for i in range(number_of_hidden_layers):\n",
    "        l.append(hidden_layer_size)\n",
    "    layer_dimensions = [784] + l + [10]\n",
    "\n",
    "    number_of_training_examples = np.shape(train_data)[1]\n",
    "    \n",
    "    if initialization == 'random':\n",
    "        parameters = parameter_initialise_random(layer_dimensions)\n",
    "    if initialization == \"xavier\":\n",
    "        parameters = parameter_initialise_xavier(layer_dimensions)\n",
    "    \n",
    "    number_of_layers = len(layer_dimensions)\n",
    "    batches = mini_batch_generation(train_data, train_labels, batch_size)\n",
    "    losses = []\n",
    "\n",
    "    for i in range(number_of_epochs):\n",
    "        for batch in batches:\n",
    "            (current_batch_input, current_batch_output) = batch\n",
    "            (loss, gradients) = forward_backward(current_batch_input, current_batch_output, parameters, layer_dimensions, activation_function,reg_par)\n",
    "            losses.append(loss)\n",
    "            parameters = mini_batch_gradient_descent_update_rule(parameters, learning_rate, gradients)\n",
    "        preds_val = predictions(val_data, parameters, activation_function)\n",
    "        acc_val = accuracy_score(val_labels, preds_val)\n",
    "        preds_train = predictions(train_data, parameters, activation_function)\n",
    "        acc_train = accuracy_score(training_labels, preds_train)\n",
    "        val_loss = get_losses(val_data, validation_labels,parameters,activation_function)\n",
    "        #wandb.log({\"train_acc\": acc_train, \"train_loss\": losses[-1], \"val_acc\": acc_val, \"val_loss\":val_loss, 'accuracy': acc_val})\n",
    "        # wandb.log({\"val_acc\": acc_val})\n",
    "        # wandb.log({'accuracy': acc_val})\n",
    "        # wandb.log({'train_acc': acc_train})\n",
    "        # wandb.log({'train_loss': losses[-1]})\n",
    "        # wandb.log({'val_loss': val_loss})\n",
    "    return losses,parameters"
   ]
  },
  {
   "cell_type": "code",
   "execution_count": 38,
   "metadata": {},
   "outputs": [],
   "source": [
    "losses,parameters = mini_batch_gradient_descent(train_data, train_labels, 2,16, 0.01, 64, 2, 'sigmoid', 'xavier',0)"
   ]
  },
  {
   "cell_type": "code",
   "execution_count": 40,
   "metadata": {},
   "outputs": [
    {
     "data": {
      "image/png": "[encoded data removed]",
      "text/plain": [
       "<Figure size 432x288 with 1 Axes>"
      ]
     },
     "metadata": {
      "needs_background": "light"
     },
     "output_type": "display_data"
    }
   ],
   "source": [
    "plt.plot(losses)\n",
    "plt.show()"
   ]
  },
  {
   "cell_type": "code",
   "execution_count": 41,
   "metadata": {
    "id": "3YiwD3d4Jl_a"
   },
   "outputs": [],
   "source": [
    "def momentum(train_data, train_labels, number_of_hidden_layers, hidden_layer_size, learning_rate, batch_size, number_of_epochs,gamma, activation_function, initialization,reg_par):\n",
    "    l = []\n",
    "    for i in range(number_of_hidden_layers):\n",
    "        l.append(hidden_layer_size)\n",
    "    layer_dimensions = [784] + l + [10]\n",
    "    number_of_training_examples = np.shape(train_data)[1]\n",
    "    \n",
    "    if initialization == 'random':\n",
    "        parameters = parameter_initialise_random(layer_dimensions)\n",
    "    if initialization == \"xavier\":\n",
    "        parameters = parameter_initialise_xavier(layer_dimensions)\n",
    "    \n",
    "    L = len(parameters)//2\n",
    "    number_of_layers = len(layer_dimensions)\n",
    "    batches = mini_batch_generation(train_data, train_labels, batch_size)\n",
    "    momentum = {}\n",
    "    losses = []\n",
    "    \n",
    "    for k in range(1, L+1):\n",
    "        momentum[\"dw\" + str(k)] = np.zeros((layer_dimensions[k], layer_dimensions[k-1]))\n",
    "        momentum[\"db\" + str(k)] = np.zeros((layer_dimensions[k],1))\n",
    "    \n",
    "    momentum_prev = {}\n",
    "    \n",
    "    for k in range(1, L+1):\n",
    "        momentum_prev[\"dw\" + str(k)] = np.zeros((layer_dimensions[k], layer_dimensions[k-1]))\n",
    "        momentum_prev[\"db\" + str(k)] = np.zeros((layer_dimensions[k],1))\n",
    "    \n",
    "    for i in range(number_of_epochs):\n",
    "        \n",
    "        for batch in batches:\n",
    "            (current_batch_input, current_batch_output) = batch\n",
    "            (loss, gradients) = forward_backward(current_batch_input, current_batch_output, parameters, layer_dimensions, activation_function,reg_par)\n",
    "            losses.append(loss)\n",
    "            \n",
    "            for k in range(1, L+1):\n",
    "                momentum[\"dw\" + str(k)] = gamma*momentum_prev[\"dw\" + str(k)]+learning_rate*gradients[\"dw\" + str(k)]\n",
    "                momentum[\"db\" + str(k)] = gamma*momentum_prev[\"db\" + str(k)]+learning_rate*gradients[\"db\" + str(k)]\n",
    "                parameters['W'+str(k)] = parameters['W'+str(k)] - momentum[\"dw\" + str(k)]\n",
    "                parameters['b'+str(k)] = parameters['b'+str(k)] - momentum[\"db\" + str(k)]\n",
    "                momentum_prev[\"dw\" + str(k)] = momentum[\"dw\" + str(k)]\n",
    "                momentum_prev[\"db\" + str(k)] = momentum[\"db\" + str(k)]\n",
    "    \n",
    "        preds_val = predictions(val_data, parameters, activation_function)\n",
    "        acc_val = accuracy_score(val_labels, preds_val)\n",
    "        preds_train = predictions(train_data, parameters, activation_function)\n",
    "        acc_train = accuracy_score(training_labels, preds_train)\n",
    "        val_loss = get_losses(val_data, validation_labels,parameters,activation_function)\n",
    "        #wandb.log({\"train_acc\": acc_train, \"train_loss\": losses[-1], \"val_acc\": acc_val, \"val_loss\":val_loss, 'accuracy': acc_val})\n",
    "        # wandb.log({\"val_acc\": acc_val})\n",
    "        # wandb.log({'accuracy': acc_val})\n",
    "        # wandb.log({'train_acc': acc_train})\n",
    "        # wandb.log({'train_loss': losses[-1]})\n",
    "        # wandb.log({'val_loss': val_loss})\n",
    "    \n",
    "    return losses,parameters"
   ]
  },
  {
   "cell_type": "code",
   "execution_count": 43,
   "metadata": {},
   "outputs": [],
   "source": [
    "losses,parameters = momentum(train_data, train_labels, 3,32, 2, 64, 1,0.1, 'sigmoid', 'xavier',0)"
   ]
  },
  {
   "cell_type": "code",
   "execution_count": 44,
   "metadata": {},
   "outputs": [
    {
     "data": {
      "image/png": "[encoded data removed]",
      "text/plain": [
       "<Figure size 432x288 with 1 Axes>"
      ]
     },
     "metadata": {
      "needs_background": "light"
     },
     "output_type": "display_data"
    }
   ],
   "source": [
    "plt.plot(losses)\n",
    "plt.show()"
   ]
  },
  {
   "cell_type": "code",
   "execution_count": 46,
   "metadata": {
    "id": "Od_CWHGhJl_c"
   },
   "outputs": [],
   "source": [
    "def nesterov(train_data, train_labels, number_of_hidden_layers, hidden_layer_size, learning_rate, batch_size, number_of_epochs,gamma, activation_function, initialization,reg_par):\n",
    "    l = []\n",
    "    for i in range(number_of_hidden_layers):\n",
    "        l.append(hidden_layer_size)\n",
    "    layer_dimensions = [784] + l + [10]\n",
    "    number_of_training_examples = np.shape(train_data)[1]\n",
    "    \n",
    "    if initialization == 'random':\n",
    "        parameters = parameter_initialise_random(layer_dimensions)\n",
    "    if initialization == \"xavier\":\n",
    "        parameters = parameter_initialise_xavier(layer_dimensions)\n",
    "    \n",
    "    L = len(parameters)//2\n",
    "    number_of_layers = len(layer_dimensions)\n",
    "    batches = mini_batch_generation(train_data, train_labels, batch_size)\n",
    "    momentum = {}\n",
    "    losses = []\n",
    "    \n",
    "    for k in range(1, L+1):\n",
    "        momentum[\"dw\" + str(k)] = np.zeros((layer_dimensions[k], layer_dimensions[k-1]))\n",
    "        momentum[\"db\" + str(k)] = np.zeros((layer_dimensions[k],1))\n",
    "    \n",
    "    momentum_prev = {}\n",
    "    \n",
    "    for k in range(1, L+1):\n",
    "        momentum_prev[\"dw\" + str(k)] = np.zeros((layer_dimensions[k], layer_dimensions[k-1]))\n",
    "        momentum_prev[\"db\" + str(k)] = np.zeros((layer_dimensions[k],1))\n",
    "    \n",
    "    for i in range(number_of_epochs):\n",
    "        \n",
    "        for batch in batches:\n",
    "            (current_batch_input, current_batch_output) = batch\n",
    "            look_ahead = {}\n",
    "            \n",
    "            for k in range(1, L+1):\n",
    "                look_ahead['W'+str(k)] = parameters['W'+str(k)] - gamma*momentum_prev[\"dw\" + str(k)]\n",
    "                look_ahead['b'+str(k)] = parameters['b'+str(k)] - gamma*momentum_prev[\"db\" + str(k)]\n",
    "            \n",
    "            (loss, gradients) = forward_backward(current_batch_input, current_batch_output, look_ahead, layer_dimensions, activation_function,reg_par)\n",
    "            losses.append(loss)\n",
    "            \n",
    "            for k in range(1, L+1):\n",
    "                momentum[\"dw\" + str(k)] = gamma*momentum_prev[\"dw\" + str(k)]+learning_rate*gradients[\"dw\" + str(k)]\n",
    "                momentum[\"db\" + str(k)] = gamma*momentum_prev[\"db\" + str(k)]+learning_rate*gradients[\"db\" + str(k)]\n",
    "                parameters['W'+str(k)] = parameters['W'+str(k)] - momentum[\"dw\" + str(k)]\n",
    "                parameters['b'+str(k)] = parameters['b'+str(k)] - momentum[\"db\" + str(k)]\n",
    "                momentum_prev[\"dw\" + str(k)] = momentum[\"dw\" + str(k)]\n",
    "                momentum_prev[\"db\" + str(k)] = momentum[\"db\" + str(k)]\n",
    "\n",
    "        preds_val = predictions(val_data, parameters, activation_function)\n",
    "        acc_val = accuracy_score(val_labels, preds_val)\n",
    "        preds_train = predictions(train_data, parameters, activation_function)\n",
    "        acc_train = accuracy_score(training_labels, preds_train)\n",
    "        val_loss = get_losses(val_data, validation_labels,parameters,activation_function)\n",
    "        #wandb.log({\"train_acc\": acc_train, \"train_loss\": losses[-1], \"val_acc\": acc_val, \"val_loss\":val_loss, 'accuracy': acc_val})\n",
    "        # wandb.log({\"val_acc\": acc_val})\n",
    "        # wandb.log({'accuracy': acc_val})\n",
    "        # wandb.log({'train_acc': acc_train})\n",
    "        # wandb.log({'train_loss': losses[-1]})\n",
    "        # wandb.log({'val_loss': val_loss})\n",
    "    \n",
    "    return losses,parameters"
   ]
  },
  {
   "cell_type": "code",
   "execution_count": 47,
   "metadata": {},
   "outputs": [],
   "source": [
    "losses,parameters = nesterov(train_data, train_labels, 3,32, 2, 64, 1,0.1, \"sigmoid\", \"xavier\",0)"
   ]
  },
  {
   "cell_type": "code",
   "execution_count": 48,
   "metadata": {},
   "outputs": [
    {
     "data": {
      "image/png": "[encoded data removed]",
      "text/plain": [
       "<Figure size 432x288 with 1 Axes>"
      ]
     },
     "metadata": {
      "needs_background": "light"
     },
     "output_type": "display_data"
    }
   ],
   "source": [
    "plt.plot(losses)\n",
    "plt.show()"
   ]
  },
  {
   "cell_type": "code",
   "execution_count": 49,
   "metadata": {
    "id": "yiKsgG6iJl_c"
   },
   "outputs": [],
   "source": [
    "def rms_prop(train_data, train_labels, number_of_hidden_layers, hidden_layer_size, learning_rate, batch_size, number_of_epochs,beta,epsilon, activation_function, initialization,reg_par):\n",
    "    l = []\n",
    "    for i in range(number_of_hidden_layers):\n",
    "        l.append(hidden_layer_size)\n",
    "    layer_dimensions = [784] + l + [10]\n",
    "    number_of_training_examples = np.shape(train_data)[1]\n",
    "    if initialization == 'random':\n",
    "        parameters = parameter_initialise_random(layer_dimensions)\n",
    "    if initialization == \"xavier\":\n",
    "        parameters = parameter_initialise_xavier(layer_dimensions)\n",
    "    L = len(parameters)//2\n",
    "    number_of_layers = len(layer_dimensions)\n",
    "    batches = mini_batch_generation(train_data, train_labels, batch_size)\n",
    "    momentum = {}\n",
    "    losses = []\n",
    "    for k in range(1, L+1):\n",
    "        momentum[\"dw\" + str(k)] = np.zeros((layer_dimensions[k], layer_dimensions[k-1]))\n",
    "        momentum[\"db\" + str(k)] = np.zeros((layer_dimensions[k],1))\n",
    "    momentum_prev = {}\n",
    "    for k in range(1, L+1):\n",
    "        momentum_prev[\"dw\" + str(k)] = np.zeros((layer_dimensions[k], layer_dimensions[k-1]))\n",
    "        momentum_prev[\"db\" + str(k)] = np.zeros((layer_dimensions[k],1))\n",
    "    for i in range(number_of_epochs):\n",
    "        for batch in batches:\n",
    "            (current_batch_input, current_batch_output) = batch\n",
    "            (loss, gradients) = forward_backward(current_batch_input, current_batch_output, parameters, layer_dimensions, activation_function,reg_par)\n",
    "            losses.append(loss)\n",
    "            for k in range(1, L+1):\n",
    "                momentum[\"dw\" + str(k)] = beta*momentum_prev[\"dw\" + str(k)]+(1-beta)*(gradients[\"dw\" + str(k)]**2)\n",
    "                momentum[\"db\" + str(k)] = beta*momentum_prev[\"db\" + str(k)]+(1-beta)*(gradients[\"db\" + str(k)]**2)\n",
    "                parameters['W'+str(k)] = parameters['W'+str(k)] - (learning_rate/np.sqrt(momentum[\"dw\" + str(k)]+epsilon))*gradients[\"dw\" + str(k)]\n",
    "                parameters['b'+str(k)] = parameters['b'+str(k)] - (learning_rate/np.sqrt(momentum[\"db\" + str(k)]+epsilon))*gradients[\"db\" + str(k)]\n",
    "                momentum_prev[\"dw\" + str(k)] = momentum[\"dw\" + str(k)]\n",
    "                momentum_prev[\"db\" + str(k)] = momentum[\"db\" + str(k)]\n",
    "        preds_val = predictions(val_data, parameters, activation_function)\n",
    "        acc_val = accuracy_score(val_labels, preds_val)\n",
    "        preds_train = predictions(train_data, parameters, activation_function)\n",
    "        acc_train = accuracy_score(training_labels, preds_train)\n",
    "        val_loss = get_losses(val_data, validation_labels,parameters,activation_function)\n",
    "        #wandb.log({\"train_acc\": acc_train, \"train_loss\": losses[-1], \"val_acc\": acc_val, \"val_loss\":val_loss, 'accuracy': acc_val})\n",
    "        # wandb.log({\"val_acc\": acc_val})\n",
    "        # wandb.log({'accuracy': acc_val})\n",
    "        # wandb.log({'train_acc': acc_train})\n",
    "        # wandb.log({'train_loss': losses[-1]})\n",
    "        # wandb.log({'val_loss': val_loss})\n",
    "    return losses,parameters"
   ]
  },
  {
   "cell_type": "code",
   "execution_count": 50,
   "metadata": {},
   "outputs": [],
   "source": [
    "losses,parameters = rms_prop(train_data, train_labels, 3,32, 0.1, 64, 1,0.9,10**-5, \"sigmoid\", \"xavier\",0)"
   ]
  },
  {
   "cell_type": "code",
   "execution_count": 51,
   "metadata": {},
   "outputs": [
    {
     "data": {
      "image/png": "[encoded data removed]",
      "text/plain": [
       "<Figure size 432x288 with 1 Axes>"
      ]
     },
     "metadata": {
      "needs_background": "light"
     },
     "output_type": "display_data"
    }
   ],
   "source": [
    "plt.plot(losses)\n",
    "plt.show()"
   ]
  },
  {
   "cell_type": "code",
   "execution_count": 53,
   "metadata": {
    "id": "KcgYcOWjJl_e"
   },
   "outputs": [],
   "source": [
    "def adam(train_data, train_labels, number_of_hidden_layers, hidden_layer_size, learning_rate, batch_size, number_of_epochs,beta1,beta2,epsilon, activation_function, initialization,reg_par):\n",
    "\n",
    "    l = []\n",
    "    for i in range(number_of_hidden_layers):\n",
    "        l.append(hidden_layer_size)\n",
    "    layer_dimensions = [784] + l + [10]\n",
    "\n",
    "    number_of_training_examples = np.shape(train_data)[1]\n",
    "    if initialization == 'random':\n",
    "        parameters = parameter_initialise_random(layer_dimensions)\n",
    "    if initialization == \"xavier\":\n",
    "        parameters = parameter_initialise_xavier(layer_dimensions)\n",
    "    L = len(parameters)//2\n",
    "    number_of_layers = len(layer_dimensions)\n",
    "    batches = mini_batch_generation(train_data, train_labels, batch_size)\n",
    "    losses = []\n",
    "    time = 0\n",
    "    m = {}\n",
    "    for k in range(1, L+1):\n",
    "        m[\"dw\" + str(k)] = np.zeros((layer_dimensions[k], layer_dimensions[k-1]))\n",
    "        m[\"db\" + str(k)] = np.zeros((layer_dimensions[k],1))\n",
    "    m_prev = {}\n",
    "    for k in range(1, L+1):\n",
    "        m_prev[\"dw\" + str(k)] = np.zeros((layer_dimensions[k], layer_dimensions[k-1]))\n",
    "        m_prev[\"db\" + str(k)] = np.zeros((layer_dimensions[k],1))\n",
    "        \n",
    "    v = {}\n",
    "    for k in range(1, L+1):\n",
    "        v[\"dw\" + str(k)] = np.zeros((layer_dimensions[k], layer_dimensions[k-1]))\n",
    "        v[\"db\" + str(k)] = np.zeros((layer_dimensions[k],1))\n",
    "    v_prev = {}\n",
    "    for k in range(1, L+1):\n",
    "        v_prev[\"dw\" + str(k)] = np.zeros((layer_dimensions[k], layer_dimensions[k-1]))\n",
    "        v_prev[\"db\" + str(k)] = np.zeros((layer_dimensions[k],1))\n",
    "        \n",
    "    for i in range(number_of_epochs):\n",
    "        for batch in batches:\n",
    "            (current_batch_input, current_batch_output) = batch\n",
    "            (loss, gradients) = forward_backward(current_batch_input, current_batch_output, parameters, layer_dimensions, activation_function,reg_par)\n",
    "            losses.append(loss)\n",
    "            time+=1\n",
    "            for k in range(1, L+1):\n",
    "                m[\"dw\" + str(k)] = beta1*m_prev[\"dw\" + str(k)]+(1-beta1)*(gradients[\"dw\" + str(k)])\n",
    "                m[\"db\" + str(k)] = beta1*m_prev[\"db\" + str(k)]+(1-beta1)*(gradients[\"db\" + str(k)])\n",
    "                \n",
    "                v[\"dw\" + str(k)] = beta2*v_prev[\"dw\" + str(k)]+(1-beta2)*(gradients[\"dw\" + str(k)]**2)\n",
    "                v[\"db\" + str(k)] = beta2*v_prev[\"db\" + str(k)]+(1-beta2)*(gradients[\"db\" + str(k)]**2)\n",
    "                \n",
    "                m_hat_w = m[\"dw\" + str(k)]/(1 - np.power(beta1, time))\n",
    "                v_hat_w = v[\"dw\" + str(k)]/(1 - np.power(beta2, time))\n",
    "                m_hat_b = m[\"db\" + str(k)]/(1 - np.power(beta1, time))\n",
    "                v_hat_b = v[\"db\" + str(k)]/(1 - np.power(beta2, time))\n",
    "                \n",
    "                parameters['W'+str(k)] = parameters['W'+str(k)] - (learning_rate/np.sqrt(v_hat_w + epsilon))*m_hat_w\n",
    "                parameters['b'+str(k)] = parameters['b'+str(k)] - (learning_rate/np.sqrt(v_hat_b+epsilon))*m_hat_b\n",
    "                \n",
    "                m_prev[\"dw\" + str(k)] = m[\"dw\" + str(k)]\n",
    "                m_prev[\"db\" + str(k)] = m[\"db\" + str(k)]\n",
    "                \n",
    "                v_prev[\"dw\" + str(k)] = v[\"dw\" + str(k)]\n",
    "                v_prev[\"db\" + str(k)] = v[\"db\" + str(k)]\n",
    "          \n",
    "        preds_val = predictions(val_data, parameters, activation_function)\n",
    "        acc_val = accuracy_score(val_labels, preds_val)\n",
    "        preds_train = predictions(train_data, parameters, activation_function)\n",
    "        acc_train = accuracy_score(training_labels, preds_train)\n",
    "        val_loss = get_losses(val_data, validation_labels,parameters,activation_function)\n",
    "        #wandb.log({\"train_acc\": acc_train, \"train_loss\": losses[-1], \"val_acc\": acc_val, \"val_loss\":val_loss, 'accuracy': acc_val})\n",
    "        # wandb.log({\"val_acc\": acc_val})\n",
    "        # wandb.log({'accuracy': acc_val})\n",
    "        # wandb.log({'train_acc': acc_train})\n",
    "        # wandb.log({'train_loss': losses[-1]})\n",
    "        # wandb.log({'val_loss': val_loss})\n",
    "        # wand.log({}, {})\n",
    "    return losses, parameters"
   ]
  },
  {
   "cell_type": "code",
   "execution_count": 54,
   "metadata": {},
   "outputs": [],
   "source": [
    "losses, parameters = adam(train_data, train_labels, 3,32, 0.1, 64, 1,0.9,0.999,10**-5, \"sigmoid\", \"xavier\",0)"
   ]
  },
  {
   "cell_type": "code",
   "execution_count": 55,
   "metadata": {},
   "outputs": [
    {
     "data": {
      "image/png": "[encoded data removed]",
      "text/plain": [
       "<Figure size 432x288 with 1 Axes>"
      ]
     },
     "metadata": {
      "needs_background": "light"
     },
     "output_type": "display_data"
    }
   ],
   "source": [
    "plt.plot(losses)\n",
    "plt.show()"
   ]
  },
  {
   "cell_type": "code",
   "execution_count": 56,
   "metadata": {
    "id": "0uuSUElrf4bp"
   },
   "outputs": [],
   "source": [
    "def nadam(train_data, train_labels, number_of_hidden_layers, hidden_layer_size, learning_rate, batch_size, number_of_epochs,beta1,beta2,epsilon, activation_function, initialization,reg_par):\n",
    "    l = []\n",
    "    for i in range(number_of_hidden_layers):\n",
    "        l.append(hidden_layer_size)\n",
    "    layer_dimensions = [784] + l + [10]\n",
    "    number_of_training_examples = np.shape(train_data)[1]\n",
    "    if initialization == 'random':\n",
    "        parameters = parameter_initialise_random(layer_dimensions)\n",
    "    if initialization == \"xavier\":\n",
    "        parameters = parameter_initialise_xavier(layer_dimensions)\n",
    "    L = len(parameters)//2\n",
    "    number_of_layers = len(layer_dimensions)\n",
    "    batches = mini_batch_generation(train_data, train_labels, batch_size)\n",
    "    losses = []\n",
    "    time = 0\n",
    "    m = {}\n",
    "    for k in range(1, L+1):\n",
    "        m[\"dw\" + str(k)] = np.zeros((layer_dimensions[k], layer_dimensions[k-1]))\n",
    "        m[\"db\" + str(k)] = np.zeros((layer_dimensions[k],1))\n",
    "    m_prev = {}\n",
    "    for k in range(1, L+1):\n",
    "        m_prev[\"dw\" + str(k)] = np.zeros((layer_dimensions[k], layer_dimensions[k-1]))\n",
    "        m_prev[\"db\" + str(k)] = np.zeros((layer_dimensions[k],1))\n",
    "        \n",
    "    v = {}\n",
    "    for k in range(1, L+1):\n",
    "        v[\"dw\" + str(k)] = np.zeros((layer_dimensions[k], layer_dimensions[k-1]))\n",
    "        v[\"db\" + str(k)] = np.zeros((layer_dimensions[k],1))\n",
    "    v_prev = {}\n",
    "    for k in range(1, L+1):\n",
    "        v_prev[\"dw\" + str(k)] = np.zeros((layer_dimensions[k], layer_dimensions[k-1]))\n",
    "        v_prev[\"db\" + str(k)] = np.zeros((layer_dimensions[k],1))\n",
    "        \n",
    "    \n",
    "    for i in range(number_of_epochs):\n",
    "        for batch in batches:\n",
    "            (current_batch_input, current_batch_output) = batch\n",
    "            (loss, gradients) = forward_backward(current_batch_input, current_batch_output, parameters, layer_dimensions, activation_function,reg_par)\n",
    "            losses.append(loss)\n",
    "            time+=1\n",
    "            for k in range(1, L+1):\n",
    "                m[\"dw\" + str(k)] = beta1*m_prev[\"dw\" + str(k)]+(1-beta1)*(gradients[\"dw\" + str(k)])\n",
    "                m[\"db\" + str(k)] = beta1*m_prev[\"db\" + str(k)]+(1-beta1)*(gradients[\"db\" + str(k)])\n",
    "                \n",
    "                v[\"dw\" + str(k)] = beta2*v_prev[\"dw\" + str(k)]+(1-beta2)*(gradients[\"dw\" + str(k)]**2)\n",
    "                v[\"db\" + str(k)] = beta2*v_prev[\"db\" + str(k)]+(1-beta2)*(gradients[\"db\" + str(k)]**2)\n",
    "                \n",
    "                m_hat_w = m[\"dw\" + str(k)]/(1 - np.power(beta1, time))\n",
    "                v_hat_w = v[\"dw\" + str(k)]/(1 - np.power(beta2, time))\n",
    "                m_hat_b = m[\"db\" + str(k)]/(1 - np.power(beta1, time))\n",
    "                v_hat_b = v[\"db\" + str(k)]/(1 - np.power(beta2, time))\n",
    "                \n",
    "                m_hat_w = beta1*m_hat_w+(1-beta1)*(gradients[\"dw\" + str(k)])\n",
    "                m_hat_b = beta1*m_hat_b+(1-beta1)*(gradients[\"db\" + str(k)])\n",
    "                \n",
    "                parameters['W'+str(k)] = parameters['W'+str(k)] - (learning_rate/np.sqrt(v_hat_w + epsilon))*m_hat_w\n",
    "                parameters['b'+str(k)] = parameters['b'+str(k)] - (learning_rate/np.sqrt(v_hat_b+epsilon))*m_hat_b\n",
    "                \n",
    "                m_prev[\"dw\" + str(k)] = m[\"dw\" + str(k)]\n",
    "                m_prev[\"db\" + str(k)] = m[\"db\" + str(k)]\n",
    "                \n",
    "                v_prev[\"dw\" + str(k)] = v[\"dw\" + str(k)]\n",
    "                v_prev[\"db\" + str(k)] = v[\"db\" + str(k)]\n",
    "        preds_val = predictions(val_data, parameters, activation_function)\n",
    "        acc_val = accuracy_score(val_labels, preds_val)\n",
    "        preds_train = predictions(train_data, parameters, activation_function)\n",
    "        acc_train = accuracy_score(training_labels, preds_train)\n",
    "        val_loss = get_losses(val_data, validation_labels,parameters,activation_function)\n",
    "        #wandb.log({\"train_acc\": acc_train, \"train_loss\": losses[-1], \"val_acc\": acc_val, \"val_loss\":val_loss, 'accuracy': acc_val})\n",
    "        # wandb.log({\"val_acc\": acc_val})\n",
    "        # wandb.log({'accuracy': acc_val})\n",
    "        # wandb.log({'train_acc': acc_train})\n",
    "        # wandb.log({'train_loss': losses[-1]})\n",
    "        # wandb.log({'val_loss': val_loss})\n",
    "    return losses, parameters"
   ]
  },
  {
   "cell_type": "code",
   "execution_count": 57,
   "metadata": {},
   "outputs": [],
   "source": [
    "losses, parameters = nadam(train_data, train_labels, 3,32, 0.1, 64, 1,0.9,0.999,10**-5, \"sigmoid\", \"xavier\",0)"
   ]
  },
  {
   "cell_type": "code",
   "execution_count": 58,
   "metadata": {},
   "outputs": [
    {
     "data": {
      "image/png": "[encoded data removed]",
      "text/plain": [
       "<Figure size 432x288 with 1 Axes>"
      ]
     },
     "metadata": {
      "needs_background": "light"
     },
     "output_type": "display_data"
    }
   ],
   "source": [
    "plt.plot(losses)\n",
    "plt.show()"
   ]
  },
  {
   "cell_type": "code",
   "execution_count": 37,
   "metadata": {
    "id": "A8yH0I0Gf4bq"
   },
   "outputs": [],
   "source": [
    "sweep_config = {\n",
    "    'method': 'bayes',\n",
    "    'metric': {\n",
    "      'name': 'accuracy',\n",
    "      'goal': 'maximize'   \n",
    "    },\n",
    "    'early_terminate': {\n",
    "            'type': 'hyperband',\n",
    "            'min_iter': [3],\n",
    "            's': [2]\n",
    "    },\n",
    "    'parameters': {\n",
    "        'num_of_epochs': {\n",
    "            'values': [5,10] \n",
    "        },\n",
    "        'number_of_hidden_layers': {\n",
    "            'values': [3, 4, 5] \n",
    "        },\n",
    "        'reg_para': {\n",
    "            'values': [0, 0.0005, 0.5] \n",
    "        },\n",
    "        'hidden_layer_size': {\n",
    "            'values': [32, 64, 128] \n",
    "        },\n",
    "        'learning_rate': {\n",
    "            'values': [1e-3,1e-5] \n",
    "        },\n",
    "        'optimizer': {\n",
    "            'values': ['adam','nadam',\"momentum\",'nesterov',\"rmsprop\", 'sgd']\n",
    "        },\n",
    "        'batch_size' : {\n",
    "            'values':[16, 32, 64]\n",
    "        },\n",
    "        'weight_initialization': {\n",
    "            'values': ['random','xavier']\n",
    "        },\n",
    "        'activation': {\n",
    "            'values': ['sigmoid','tanh','relu']\n",
    "        }\n",
    "        }\n",
    "}"
   ]
  },
  {
   "cell_type": "code",
   "execution_count": 38,
   "metadata": {
    "colab": {
     "base_uri": "https://localhost:8080/"
    },
    "id": "pF7eNddN4PWr",
    "outputId": "5f56208d-5862-48ed-b097-34115d99b2f5"
   },
   "outputs": [
    {
     "name": "stderr",
     "output_type": "stream",
     "text": [
      "\u001b[34m\u001b[1mwandb\u001b[0m: \u001b[33mWARNING\u001b[0m Malformed sweep config detected! This may cause your sweep to behave in unexpected ways.\n",
      "\u001b[34m\u001b[1mwandb\u001b[0m: \u001b[33mWARNING\u001b[0m To avoid this, please fix the sweep config schema violations below:\n",
      "\u001b[34m\u001b[1mwandb\u001b[0m: \u001b[33mWARNING\u001b[0m   Violation 1. {'min_iter': [3], 's': [2], 'type': 'hyperband'} is not valid under any of the given schemas\n"
     ]
    },
    {
     "name": "stdout",
     "output_type": "stream",
     "text": [
      "Create sweep with ID: mu2j24xv\n",
      "Sweep URL: https://wandb.ai/shubham-argha/ma20m022_cs21d407/sweeps/mu2j24xv\n"
     ]
    }
   ],
   "source": [
    "sweep_id = wandb.sweep(sweep_config, entity=\"shubham-argha\", project=\"ma20m022_cs21d407\")"
   ]
  },
  {
   "cell_type": "code",
   "execution_count": 46,
   "metadata": {
    "id": "LhBbjwmV6ZiW"
   },
   "outputs": [],
   "source": [
    "def train():\n",
    "    config_defaults = {\n",
    "        'num_of_epochs': 10,\n",
    "        'number_of_hidden_layers': 5,\n",
    "        'reg_para': 0,\n",
    "        'hidden_layer_size': 64,\n",
    "        'learning_rate': 1e-3,\n",
    "        'optimizer': 'adam',\n",
    "        'batch_size': 64,\n",
    "        'activation': 'relu',\n",
    "        'weight_initialization': 'xavier',\n",
    "        'gamma' : 0.9,\n",
    "        'epsilon' : 1e-5,\n",
    "        'beta': 0.95,\n",
    "        'beta1' : 0.9,\n",
    "        'beta2' : 0.999\n",
    "    }\n",
    "\n",
    "    wandb.init(config=config_defaults,resume=True)\n",
    "    config = wandb.config \n",
    "    wandb.run.name = \"hl_\" + str(config.number_of_hidden_layers)+ \"_layer-size_\" + str(config.hidden_layer_size) + \"_bs_\"+str(config.batch_size)+\"_ac_\"+ config.activation + \"_init_\" + str(config.weight_initialization) + \"_opt_\" + str(config.optimizer)\n",
    "    \n",
    "\n",
    "    if config.optimizer=='adam':\n",
    "        adam(train_data, train_labels, config.number_of_hidden_layers, config.hidden_layer_size, config.learning_rate, config.batch_size, config.num_of_epochs, \n",
    "           config.beta1, config.beta2, config.epsilon, config.activation, config.weight_initialization,config.reg_para)\n",
    "    elif config.optimizer=='nadam':\n",
    "        nadam(train_data, train_labels, config.number_of_hidden_layers, config.hidden_layer_size, config.learning_rate, config.batch_size, config.num_of_epochs, \n",
    "            config.beta1, config.beta2, config.epsilon, config.activation, config.weight_initialization,config.reg_para)\n",
    "    elif config.optimizer==\"momentum\":  \n",
    "        momentum(train_data, train_labels, config.number_of_hidden_layers, config.hidden_layer_size, config.learning_rate, config.batch_size, config.num_of_epochs,\n",
    "               config.gamma, config.activation, config.weight_initialization,config.reg_para)\n",
    "    elif config.optimizer=='nesterov':\n",
    "        nesterov(train_data, train_labels, config.number_of_hidden_layers, config.hidden_layer_size, config.learning_rate, config.batch_size, config.num_of_epochs,\n",
    "               config.gamma, config.activation, config.weight_initialization,config.reg_para)\n",
    "    elif config.optimizer==\"rmsprop\":\n",
    "        rms_prop(train_data, train_labels, config.number_of_hidden_layers, config.hidden_layer_size, config.learning_rate, config.batch_size, config.num_of_epochs, \n",
    "               config.beta, config.epsilon, config.activation, config.weight_initialization,config.reg_para)\n",
    "    elif config.optimizer==\"sgd\":\n",
    "        mini_batch_gradient_descent(train_data, train_labels, config.number_of_hidden_layers,config.hidden_layer_size, config.learning_rate, config.batch_size, \n",
    "                config.number_of_epochs,config.activation, config.weight_initialization,config.reg_para)\n",
    "    \n"
   ]
  },
  {
   "cell_type": "code",
   "execution_count": 47,
   "metadata": {
    "colab": {
     "base_uri": "https://localhost:8080/",
     "height": 426,
     "referenced_widgets": [
      "ff8b6a680a9d4def9383399a3ea6a210",
      "fc2141c7697d45d4800853a6abc8efa0",
      "dd2012263df04e2493920494a528e8ae",
      "27c90e29dacc4b97b7b68442a7872ebd",
      "34e7f012798945ce873eb9835434a4c9",
      "ee7c7d41e12644f49aafa322a1bd18ac",
      "71eaddd7bc4747a5ac7e14022c88fdfc",
      "f851b920dd894b5cb64d0f1163df8459",
      ""
     ]
    },
    "id": "K48ephSL7rLV",
    "outputId": "c65daecc-4b0a-4643-e7b1-2ecbfc309188"
   },
   "outputs": [
    {
     "name": "stderr",
     "output_type": "stream",
     "text": [
      "\u001b[34m\u001b[1mwandb\u001b[0m: \u001b[33mWARNING\u001b[0m Calling wandb.login() after wandb.init() has no effect.\n",
      "\u001b[34m\u001b[1mwandb\u001b[0m: Agent Starting Run: 65k7b0v0 with config:\n",
      "\u001b[34m\u001b[1mwandb\u001b[0m: \tactivation: relu\n",
      "\u001b[34m\u001b[1mwandb\u001b[0m: \tbatch_size: 16\n",
      "\u001b[34m\u001b[1mwandb\u001b[0m: \thidden_layer_size: 64\n",
      "\u001b[34m\u001b[1mwandb\u001b[0m: \tlearning_rate: 1e-05\n",
      "\u001b[34m\u001b[1mwandb\u001b[0m: \tnum_of_epochs: 5\n",
      "\u001b[34m\u001b[1mwandb\u001b[0m: \tnumber_of_hidden_layers: 4\n",
      "\u001b[34m\u001b[1mwandb\u001b[0m: \toptimizer: adam\n",
      "\u001b[34m\u001b[1mwandb\u001b[0m: \treg_para: 0.5\n",
      "\u001b[34m\u001b[1mwandb\u001b[0m: \tweight_initialization: xavier\n"
     ]
    },
    {
     "data": {
      "text/html": [
       "\n",
       "                    Resuming run <strong><a href=\"https://wandb.ai/shubham-argha/ma20m022_cs21d407/runs/65k7b0v0\" target=\"_blank\">divine-sweep-1</a></strong> to <a href=\"https://wandb.ai/shubham-argha/ma20m022_cs21d407\" target=\"_blank\">Weights & Biases</a> (<a href=\"https://docs.wandb.com/integrations/jupyter.html\" target=\"_blank\">docs</a>).<br/>\n",
       "Sweep page: <a href=\"https://wandb.ai/shubham-argha/ma20m022_cs21d407/sweeps/mu2j24xv\" target=\"_blank\">https://wandb.ai/shubham-argha/ma20m022_cs21d407/sweeps/mu2j24xv</a><br/>\n",
       "\n",
       "                "
      ],
      "text/plain": [
       "<IPython.core.display.HTML object>"
      ]
     },
     "metadata": {},
     "output_type": "display_data"
    },
    {
     "data": {
      "text/html": [
       "<br/>Waiting for W&B process to finish, PID 13448... <strong style=\"color:green\">(success).</strong>"
      ],
      "text/plain": [
       "<IPython.core.display.HTML object>"
      ]
     },
     "metadata": {},
     "output_type": "display_data"
    },
    {
     "data": {
      "application/vnd.jupyter.widget-view+json": {
       "model_id": "",
       "version_major": 2,
       "version_minor": 0
      },
      "text/plain": [
       "VBox(children=(Label(value=' 0.00MB of 0.00MB uploaded (0.00MB deduped)\\r'), FloatProgress(value=1.0, max=1.0)…"
      ]
     },
     "metadata": {},
     "output_type": "display_data"
    },
    {
     "data": {
      "text/html": [
       "<style>\n",
       "    table.wandb td:nth-child(1) { padding: 0 10px; text-align: right }\n",
       "    .wandb-row { display: flex; flex-direction: row; flex-wrap: wrap; width: 100% }\n",
       "    .wandb-col { display: flex; flex-direction: column; flex-basis: 100%; flex: 1; padding: 10px; }\n",
       "    </style>\n",
       "<div class=\"wandb-row\"><div class=\"wandb-col\">\n",
       "<h3>Run history:</h3><br/><table class=\"wandb\"><tr><td>accuracy</td><td>▁▁▁▁▁</td></tr><tr><td>train_acc</td><td>▁▁▁▁▁</td></tr><tr><td>train_loss</td><td>█▅▃▃▁</td></tr><tr><td>val_acc</td><td>▁▁▁▁▁</td></tr><tr><td>val_loss</td><td>█▆▄▂▁</td></tr></table><br/></div><div class=\"wandb-col\">\n",
       "<h3>Run summary:</h3><br/><table class=\"wandb\"><tr><td>accuracy</td><td>0.10183</td></tr><tr><td>train_acc</td><td>0.0998</td></tr><tr><td>train_loss</td><td>2.30329</td></tr><tr><td>val_acc</td><td>0.10183</td></tr><tr><td>val_loss</td><td>2.31215</td></tr></table>\n",
       "</div></div>\n",
       "Synced 2 W&B file(s), 0 media file(s), 0 artifact file(s) and 0 other file(s)\n",
       "<br/>Synced <strong style=\"color:#cdcd00\">divine-sweep-1</strong>: <a href=\"https://wandb.ai/shubham-argha/ma20m022_cs21d407/runs/65k7b0v0\" target=\"_blank\">https://wandb.ai/shubham-argha/ma20m022_cs21d407/runs/65k7b0v0</a><br/>\n",
       "Find logs at: <code>.\\wandb\\run-20220225_144459-65k7b0v0\\logs</code><br/>\n"
      ],
      "text/plain": [
       "<IPython.core.display.HTML object>"
      ]
     },
     "metadata": {},
     "output_type": "display_data"
    },
    {
     "name": "stderr",
     "output_type": "stream",
     "text": [
      "\u001b[34m\u001b[1mwandb\u001b[0m: Agent Starting Run: 3x5bmbt7 with config:\n",
      "\u001b[34m\u001b[1mwandb\u001b[0m: \tactivation: sigmoid\n",
      "\u001b[34m\u001b[1mwandb\u001b[0m: \tbatch_size: 16\n",
      "\u001b[34m\u001b[1mwandb\u001b[0m: \thidden_layer_size: 32\n",
      "\u001b[34m\u001b[1mwandb\u001b[0m: \tlearning_rate: 1e-05\n",
      "\u001b[34m\u001b[1mwandb\u001b[0m: \tnum_of_epochs: 10\n",
      "\u001b[34m\u001b[1mwandb\u001b[0m: \tnumber_of_hidden_layers: 3\n",
      "\u001b[34m\u001b[1mwandb\u001b[0m: \toptimizer: rmsprop\n",
      "\u001b[34m\u001b[1mwandb\u001b[0m: \treg_para: 0.5\n",
      "\u001b[34m\u001b[1mwandb\u001b[0m: \tweight_initialization: random\n",
      "\u001b[34m\u001b[1mwandb\u001b[0m: Currently logged in as: \u001b[33mma20m022\u001b[0m (use `wandb login --relogin` to force relogin)\n"
     ]
    },
    {
     "data": {
      "text/html": [
       "\n",
       "                    Resuming run <strong><a href=\"https://wandb.ai/shubham-argha/ma20m022_cs21d407/runs/3x5bmbt7\" target=\"_blank\">silver-sweep-2</a></strong> to <a href=\"https://wandb.ai/shubham-argha/ma20m022_cs21d407\" target=\"_blank\">Weights & Biases</a> (<a href=\"https://docs.wandb.com/integrations/jupyter.html\" target=\"_blank\">docs</a>).<br/>\n",
       "Sweep page: <a href=\"https://wandb.ai/shubham-argha/ma20m022_cs21d407/sweeps/mu2j24xv\" target=\"_blank\">https://wandb.ai/shubham-argha/ma20m022_cs21d407/sweeps/mu2j24xv</a><br/>\n",
       "\n",
       "                "
      ],
      "text/plain": [
       "<IPython.core.display.HTML object>"
      ]
     },
     "metadata": {},
     "output_type": "display_data"
    },
    {
     "data": {
      "text/html": [
       "<br/>Waiting for W&B process to finish, PID 16224... <strong style=\"color:green\">(success).</strong>"
      ],
      "text/plain": [
       "<IPython.core.display.HTML object>"
      ]
     },
     "metadata": {},
     "output_type": "display_data"
    },
    {
     "data": {
      "application/vnd.jupyter.widget-view+json": {
       "model_id": "",
       "version_major": 2,
       "version_minor": 0
      },
      "text/plain": [
       "VBox(children=(Label(value=' 0.00MB of 0.00MB uploaded (0.00MB deduped)\\r'), FloatProgress(value=1.0, max=1.0)…"
      ]
     },
     "metadata": {},
     "output_type": "display_data"
    },
    {
     "data": {
      "text/html": [
       "<style>\n",
       "    table.wandb td:nth-child(1) { padding: 0 10px; text-align: right }\n",
       "    .wandb-row { display: flex; flex-direction: row; flex-wrap: wrap; width: 100% }\n",
       "    .wandb-col { display: flex; flex-direction: column; flex-basis: 100%; flex: 1; padding: 10px; }\n",
       "    </style>\n",
       "<div class=\"wandb-row\"><div class=\"wandb-col\">\n",
       "<h3>Run history:</h3><br/><table class=\"wandb\"><tr><td>accuracy</td><td>▁▁▁▁▁▁▁▁▁▁</td></tr><tr><td>train_acc</td><td>▁▁▁▁▁▁▁▁▁▁</td></tr><tr><td>train_loss</td><td>▁▅▇███████</td></tr><tr><td>val_acc</td><td>▁▁▁▁▁▁▁▁▁▁</td></tr><tr><td>val_loss</td><td>█▃▂▁▁▁▁▁▁▁</td></tr></table><br/></div><div class=\"wandb-col\">\n",
       "<h3>Run summary:</h3><br/><table class=\"wandb\"><tr><td>accuracy</td><td>0.09167</td></tr><tr><td>train_acc</td><td>0.10093</td></tr><tr><td>train_loss</td><td>2.30282</td></tr><tr><td>val_acc</td><td>0.09167</td></tr><tr><td>val_loss</td><td>2.30263</td></tr></table>\n",
       "</div></div>\n",
       "Synced 2 W&B file(s), 0 media file(s), 0 artifact file(s) and 0 other file(s)\n",
       "<br/>Synced <strong style=\"color:#cdcd00\">silver-sweep-2</strong>: <a href=\"https://wandb.ai/shubham-argha/ma20m022_cs21d407/runs/3x5bmbt7\" target=\"_blank\">https://wandb.ai/shubham-argha/ma20m022_cs21d407/runs/3x5bmbt7</a><br/>\n",
       "Find logs at: <code>.\\wandb\\run-20220225_144822-3x5bmbt7\\logs</code><br/>\n"
      ],
      "text/plain": [
       "<IPython.core.display.HTML object>"
      ]
     },
     "metadata": {},
     "output_type": "display_data"
    },
    {
     "name": "stderr",
     "output_type": "stream",
     "text": [
      "\u001b[34m\u001b[1mwandb\u001b[0m: Agent Starting Run: qam1oi62 with config:\n",
      "\u001b[34m\u001b[1mwandb\u001b[0m: \tactivation: sigmoid\n",
      "\u001b[34m\u001b[1mwandb\u001b[0m: \tbatch_size: 16\n",
      "\u001b[34m\u001b[1mwandb\u001b[0m: \thidden_layer_size: 32\n",
      "\u001b[34m\u001b[1mwandb\u001b[0m: \tlearning_rate: 0.001\n",
      "\u001b[34m\u001b[1mwandb\u001b[0m: \tnum_of_epochs: 10\n",
      "\u001b[34m\u001b[1mwandb\u001b[0m: \tnumber_of_hidden_layers: 3\n",
      "\u001b[34m\u001b[1mwandb\u001b[0m: \toptimizer: nadam\n",
      "\u001b[34m\u001b[1mwandb\u001b[0m: \treg_para: 0.0005\n",
      "\u001b[34m\u001b[1mwandb\u001b[0m: \tweight_initialization: random\n"
     ]
    },
    {
     "data": {
      "text/html": [
       "\n",
       "                    Resuming run <strong><a href=\"https://wandb.ai/shubham-argha/ma20m022_cs21d407/runs/qam1oi62\" target=\"_blank\">treasured-sweep-3</a></strong> to <a href=\"https://wandb.ai/shubham-argha/ma20m022_cs21d407\" target=\"_blank\">Weights & Biases</a> (<a href=\"https://docs.wandb.com/integrations/jupyter.html\" target=\"_blank\">docs</a>).<br/>\n",
       "Sweep page: <a href=\"https://wandb.ai/shubham-argha/ma20m022_cs21d407/sweeps/mu2j24xv\" target=\"_blank\">https://wandb.ai/shubham-argha/ma20m022_cs21d407/sweeps/mu2j24xv</a><br/>\n",
       "\n",
       "                "
      ],
      "text/plain": [
       "<IPython.core.display.HTML object>"
      ]
     },
     "metadata": {},
     "output_type": "display_data"
    },
    {
     "data": {
      "text/html": [
       "<br/>Waiting for W&B process to finish, PID 11020... <strong style=\"color:green\">(success).</strong>"
      ],
      "text/plain": [
       "<IPython.core.display.HTML object>"
      ]
     },
     "metadata": {},
     "output_type": "display_data"
    },
    {
     "data": {
      "application/vnd.jupyter.widget-view+json": {
       "model_id": "",
       "version_major": 2,
       "version_minor": 0
      },
      "text/plain": [
       "VBox(children=(Label(value=' 0.00MB of 0.00MB uploaded (0.00MB deduped)\\r'), FloatProgress(value=1.0, max=1.0)…"
      ]
     },
     "metadata": {},
     "output_type": "display_data"
    },
    {
     "data": {
      "text/html": [
       "<style>\n",
       "    table.wandb td:nth-child(1) { padding: 0 10px; text-align: right }\n",
       "    .wandb-row { display: flex; flex-direction: row; flex-wrap: wrap; width: 100% }\n",
       "    .wandb-col { display: flex; flex-direction: column; flex-basis: 100%; flex: 1; padding: 10px; }\n",
       "    </style>\n",
       "<div class=\"wandb-row\"><div class=\"wandb-col\">\n",
       "<h3>Run history:</h3><br/><table class=\"wandb\"><tr><td>accuracy</td><td>▁▁▁▂▃▅▆▇▇█</td></tr><tr><td>train_acc</td><td>▁▁▁▂▃▅▆▇▇█</td></tr><tr><td>train_loss</td><td>███▆▅▅▄▂▁▁</td></tr><tr><td>val_acc</td><td>▁▁▁▂▃▅▆▇▇█</td></tr><tr><td>val_loss</td><td>███▆▅▄▃▂▁▁</td></tr></table><br/></div><div class=\"wandb-col\">\n",
       "<h3>Run summary:</h3><br/><table class=\"wandb\"><tr><td>accuracy</td><td>0.81533</td></tr><tr><td>train_acc</td><td>0.8218</td></tr><tr><td>train_loss</td><td>0.71642</td></tr><tr><td>val_acc</td><td>0.81533</td></tr><tr><td>val_loss</td><td>0.57177</td></tr></table>\n",
       "</div></div>\n",
       "Synced 2 W&B file(s), 0 media file(s), 0 artifact file(s) and 0 other file(s)\n",
       "<br/>Synced <strong style=\"color:#cdcd00\">treasured-sweep-3</strong>: <a href=\"https://wandb.ai/shubham-argha/ma20m022_cs21d407/runs/qam1oi62\" target=\"_blank\">https://wandb.ai/shubham-argha/ma20m022_cs21d407/runs/qam1oi62</a><br/>\n",
       "Find logs at: <code>.\\wandb\\run-20220225_145255-qam1oi62\\logs</code><br/>\n"
      ],
      "text/plain": [
       "<IPython.core.display.HTML object>"
      ]
     },
     "metadata": {},
     "output_type": "display_data"
    },
    {
     "name": "stderr",
     "output_type": "stream",
     "text": [
      "\u001b[34m\u001b[1mwandb\u001b[0m: Agent Starting Run: 676jgfgn with config:\n",
      "\u001b[34m\u001b[1mwandb\u001b[0m: \tactivation: relu\n",
      "\u001b[34m\u001b[1mwandb\u001b[0m: \tbatch_size: 16\n",
      "\u001b[34m\u001b[1mwandb\u001b[0m: \thidden_layer_size: 128\n",
      "\u001b[34m\u001b[1mwandb\u001b[0m: \tlearning_rate: 1e-05\n",
      "\u001b[34m\u001b[1mwandb\u001b[0m: \tnum_of_epochs: 5\n",
      "\u001b[34m\u001b[1mwandb\u001b[0m: \tnumber_of_hidden_layers: 5\n",
      "\u001b[34m\u001b[1mwandb\u001b[0m: \toptimizer: rmsprop\n",
      "\u001b[34m\u001b[1mwandb\u001b[0m: \treg_para: 0.5\n",
      "\u001b[34m\u001b[1mwandb\u001b[0m: \tweight_initialization: xavier\n"
     ]
    },
    {
     "data": {
      "text/html": [
       "\n",
       "                    Resuming run <strong><a href=\"https://wandb.ai/shubham-argha/ma20m022_cs21d407/runs/676jgfgn\" target=\"_blank\">rich-sweep-4</a></strong> to <a href=\"https://wandb.ai/shubham-argha/ma20m022_cs21d407\" target=\"_blank\">Weights & Biases</a> (<a href=\"https://docs.wandb.com/integrations/jupyter.html\" target=\"_blank\">docs</a>).<br/>\n",
       "Sweep page: <a href=\"https://wandb.ai/shubham-argha/ma20m022_cs21d407/sweeps/mu2j24xv\" target=\"_blank\">https://wandb.ai/shubham-argha/ma20m022_cs21d407/sweeps/mu2j24xv</a><br/>\n",
       "\n",
       "                "
      ],
      "text/plain": [
       "<IPython.core.display.HTML object>"
      ]
     },
     "metadata": {},
     "output_type": "display_data"
    },
    {
     "data": {
      "text/html": [
       "<br/>Waiting for W&B process to finish, PID 14144... <strong style=\"color:green\">(success).</strong>"
      ],
      "text/plain": [
       "<IPython.core.display.HTML object>"
      ]
     },
     "metadata": {},
     "output_type": "display_data"
    },
    {
     "data": {
      "application/vnd.jupyter.widget-view+json": {
       "model_id": "",
       "version_major": 2,
       "version_minor": 0
      },
      "text/plain": [
       "VBox(children=(Label(value=' 0.00MB of 0.00MB uploaded (0.00MB deduped)\\r'), FloatProgress(value=1.0, max=1.0)…"
      ]
     },
     "metadata": {},
     "output_type": "display_data"
    },
    {
     "data": {
      "text/html": [
       "<style>\n",
       "    table.wandb td:nth-child(1) { padding: 0 10px; text-align: right }\n",
       "    .wandb-row { display: flex; flex-direction: row; flex-wrap: wrap; width: 100% }\n",
       "    .wandb-col { display: flex; flex-direction: column; flex-basis: 100%; flex: 1; padding: 10px; }\n",
       "    </style>\n",
       "<div class=\"wandb-row\"><div class=\"wandb-col\">\n",
       "<h3>Run history:</h3><br/><table class=\"wandb\"><tr><td>accuracy</td><td>▁▁▁▁▁</td></tr><tr><td>train_acc</td><td>▁▁▁▁▁</td></tr><tr><td>train_loss</td><td>▅█▆▄▁</td></tr><tr><td>val_acc</td><td>▁▁▁▁▁</td></tr><tr><td>val_loss</td><td>█▆▄▃▁</td></tr></table><br/></div><div class=\"wandb-col\">\n",
       "<h3>Run summary:</h3><br/><table class=\"wandb\"><tr><td>accuracy</td><td>0.1045</td></tr><tr><td>train_acc</td><td>0.0995</td></tr><tr><td>train_loss</td><td>2.32652</td></tr><tr><td>val_acc</td><td>0.1045</td></tr><tr><td>val_loss</td><td>2.30694</td></tr></table>\n",
       "</div></div>\n",
       "Synced 2 W&B file(s), 0 media file(s), 0 artifact file(s) and 0 other file(s)\n",
       "<br/>Synced <strong style=\"color:#cdcd00\">rich-sweep-4</strong>: <a href=\"https://wandb.ai/shubham-argha/ma20m022_cs21d407/runs/676jgfgn\" target=\"_blank\">https://wandb.ai/shubham-argha/ma20m022_cs21d407/runs/676jgfgn</a><br/>\n",
       "Find logs at: <code>.\\wandb\\run-20220225_145805-676jgfgn\\logs</code><br/>\n"
      ],
      "text/plain": [
       "<IPython.core.display.HTML object>"
      ]
     },
     "metadata": {},
     "output_type": "display_data"
    },
    {
     "name": "stderr",
     "output_type": "stream",
     "text": [
      "\u001b[34m\u001b[1mwandb\u001b[0m: Agent Starting Run: gye188xj with config:\n",
      "\u001b[34m\u001b[1mwandb\u001b[0m: \tactivation: sigmoid\n",
      "\u001b[34m\u001b[1mwandb\u001b[0m: \tbatch_size: 32\n",
      "\u001b[34m\u001b[1mwandb\u001b[0m: \thidden_layer_size: 32\n",
      "\u001b[34m\u001b[1mwandb\u001b[0m: \tlearning_rate: 1e-05\n",
      "\u001b[34m\u001b[1mwandb\u001b[0m: \tnum_of_epochs: 10\n",
      "\u001b[34m\u001b[1mwandb\u001b[0m: \tnumber_of_hidden_layers: 3\n",
      "\u001b[34m\u001b[1mwandb\u001b[0m: \toptimizer: nadam\n",
      "\u001b[34m\u001b[1mwandb\u001b[0m: \treg_para: 0.5\n",
      "\u001b[34m\u001b[1mwandb\u001b[0m: \tweight_initialization: xavier\n"
     ]
    },
    {
     "data": {
      "text/html": [
       "\n",
       "                    Resuming run <strong><a href=\"https://wandb.ai/shubham-argha/ma20m022_cs21d407/runs/gye188xj\" target=\"_blank\">smooth-sweep-5</a></strong> to <a href=\"https://wandb.ai/shubham-argha/ma20m022_cs21d407\" target=\"_blank\">Weights & Biases</a> (<a href=\"https://docs.wandb.com/integrations/jupyter.html\" target=\"_blank\">docs</a>).<br/>\n",
       "Sweep page: <a href=\"https://wandb.ai/shubham-argha/ma20m022_cs21d407/sweeps/mu2j24xv\" target=\"_blank\">https://wandb.ai/shubham-argha/ma20m022_cs21d407/sweeps/mu2j24xv</a><br/>\n",
       "\n",
       "                "
      ],
      "text/plain": [
       "<IPython.core.display.HTML object>"
      ]
     },
     "metadata": {},
     "output_type": "display_data"
    },
    {
     "data": {
      "text/html": [
       "<br/>Waiting for W&B process to finish, PID 1920... <strong style=\"color:green\">(success).</strong>"
      ],
      "text/plain": [
       "<IPython.core.display.HTML object>"
      ]
     },
     "metadata": {},
     "output_type": "display_data"
    },
    {
     "data": {
      "application/vnd.jupyter.widget-view+json": {
       "model_id": "",
       "version_major": 2,
       "version_minor": 0
      },
      "text/plain": [
       "VBox(children=(Label(value=' 0.00MB of 0.00MB uploaded (0.00MB deduped)\\r'), FloatProgress(value=1.0, max=1.0)…"
      ]
     },
     "metadata": {},
     "output_type": "display_data"
    },
    {
     "data": {
      "text/html": [
       "<style>\n",
       "    table.wandb td:nth-child(1) { padding: 0 10px; text-align: right }\n",
       "    .wandb-row { display: flex; flex-direction: row; flex-wrap: wrap; width: 100% }\n",
       "    .wandb-col { display: flex; flex-direction: column; flex-basis: 100%; flex: 1; padding: 10px; }\n",
       "    </style>\n",
       "<div class=\"wandb-row\"><div class=\"wandb-col\">\n",
       "<h3>Run history:</h3><br/><table class=\"wandb\"><tr><td>accuracy</td><td>▇▇▇▁▁▁█▇▇▇</td></tr><tr><td>train_acc</td><td>▇▇▆▄▁▁▆███</td></tr><tr><td>train_loss</td><td>▂▁▁▃▅▇█▇▄▁</td></tr><tr><td>val_acc</td><td>▇▇▇▁▁▁█▇▇▇</td></tr><tr><td>val_loss</td><td>█▅▃▁▁▂▄▅▅▄</td></tr></table><br/></div><div class=\"wandb-col\">\n",
       "<h3>Run summary:</h3><br/><table class=\"wandb\"><tr><td>accuracy</td><td>0.09167</td></tr><tr><td>train_acc</td><td>0.10093</td></tr><tr><td>train_loss</td><td>2.4784</td></tr><tr><td>val_acc</td><td>0.09167</td></tr><tr><td>val_loss</td><td>2.37008</td></tr></table>\n",
       "</div></div>\n",
       "Synced 2 W&B file(s), 0 media file(s), 0 artifact file(s) and 0 other file(s)\n",
       "<br/>Synced <strong style=\"color:#cdcd00\">smooth-sweep-5</strong>: <a href=\"https://wandb.ai/shubham-argha/ma20m022_cs21d407/runs/gye188xj\" target=\"_blank\">https://wandb.ai/shubham-argha/ma20m022_cs21d407/runs/gye188xj</a><br/>\n",
       "Find logs at: <code>.\\wandb\\run-20220225_150451-gye188xj\\logs</code><br/>\n"
      ],
      "text/plain": [
       "<IPython.core.display.HTML object>"
      ]
     },
     "metadata": {},
     "output_type": "display_data"
    },
    {
     "name": "stderr",
     "output_type": "stream",
     "text": [
      "\u001b[34m\u001b[1mwandb\u001b[0m: Agent Starting Run: 0uhcjhpi with config:\n",
      "\u001b[34m\u001b[1mwandb\u001b[0m: \tactivation: relu\n",
      "\u001b[34m\u001b[1mwandb\u001b[0m: \tbatch_size: 16\n",
      "\u001b[34m\u001b[1mwandb\u001b[0m: \thidden_layer_size: 128\n",
      "\u001b[34m\u001b[1mwandb\u001b[0m: \tlearning_rate: 1e-05\n",
      "\u001b[34m\u001b[1mwandb\u001b[0m: \tnum_of_epochs: 10\n",
      "\u001b[34m\u001b[1mwandb\u001b[0m: \tnumber_of_hidden_layers: 3\n",
      "\u001b[34m\u001b[1mwandb\u001b[0m: \toptimizer: rmsprop\n",
      "\u001b[34m\u001b[1mwandb\u001b[0m: \treg_para: 0.0005\n",
      "\u001b[34m\u001b[1mwandb\u001b[0m: \tweight_initialization: random\n"
     ]
    },
    {
     "data": {
      "text/html": [
       "\n",
       "                    Resuming run <strong><a href=\"https://wandb.ai/shubham-argha/ma20m022_cs21d407/runs/0uhcjhpi\" target=\"_blank\">eternal-sweep-6</a></strong> to <a href=\"https://wandb.ai/shubham-argha/ma20m022_cs21d407\" target=\"_blank\">Weights & Biases</a> (<a href=\"https://docs.wandb.com/integrations/jupyter.html\" target=\"_blank\">docs</a>).<br/>\n",
       "Sweep page: <a href=\"https://wandb.ai/shubham-argha/ma20m022_cs21d407/sweeps/mu2j24xv\" target=\"_blank\">https://wandb.ai/shubham-argha/ma20m022_cs21d407/sweeps/mu2j24xv</a><br/>\n",
       "\n",
       "                "
      ],
      "text/plain": [
       "<IPython.core.display.HTML object>"
      ]
     },
     "metadata": {},
     "output_type": "display_data"
    },
    {
     "data": {
      "text/html": [
       "<br/>Waiting for W&B process to finish, PID 19192... <strong style=\"color:green\">(success).</strong>"
      ],
      "text/plain": [
       "<IPython.core.display.HTML object>"
      ]
     },
     "metadata": {},
     "output_type": "display_data"
    },
    {
     "data": {
      "application/vnd.jupyter.widget-view+json": {
       "model_id": "",
       "version_major": 2,
       "version_minor": 0
      },
      "text/plain": [
       "VBox(children=(Label(value=' 0.00MB of 0.00MB uploaded (0.00MB deduped)\\r'), FloatProgress(value=1.0, max=1.0)…"
      ]
     },
     "metadata": {},
     "output_type": "display_data"
    },
    {
     "data": {
      "text/html": [
       "<style>\n",
       "    table.wandb td:nth-child(1) { padding: 0 10px; text-align: right }\n",
       "    .wandb-row { display: flex; flex-direction: row; flex-wrap: wrap; width: 100% }\n",
       "    .wandb-col { display: flex; flex-direction: column; flex-basis: 100%; flex: 1; padding: 10px; }\n",
       "    </style>\n",
       "<div class=\"wandb-row\"><div class=\"wandb-col\">\n",
       "<h3>Run history:</h3><br/><table class=\"wandb\"><tr><td>accuracy</td><td>▁▁▁▁▁▁▂▄▅█</td></tr><tr><td>train_acc</td><td>▁▁▁▁▁▁▃▄▅█</td></tr><tr><td>train_loss</td><td>████████▇▁</td></tr><tr><td>val_acc</td><td>▁▁▁▁▁▁▂▄▅█</td></tr><tr><td>val_loss</td><td>████████▇▁</td></tr></table><br/></div><div class=\"wandb-col\">\n",
       "<h3>Run summary:</h3><br/><table class=\"wandb\"><tr><td>accuracy</td><td>0.40183</td></tr><tr><td>train_acc</td><td>0.39848</td></tr><tr><td>train_loss</td><td>1.54921</td></tr><tr><td>val_acc</td><td>0.40183</td></tr><tr><td>val_loss</td><td>1.50305</td></tr></table>\n",
       "</div></div>\n",
       "Synced 2 W&B file(s), 0 media file(s), 0 artifact file(s) and 0 other file(s)\n",
       "<br/>Synced <strong style=\"color:#cdcd00\">eternal-sweep-6</strong>: <a href=\"https://wandb.ai/shubham-argha/ma20m022_cs21d407/runs/0uhcjhpi\" target=\"_blank\">https://wandb.ai/shubham-argha/ma20m022_cs21d407/runs/0uhcjhpi</a><br/>\n",
       "Find logs at: <code>.\\wandb\\run-20220225_150912-0uhcjhpi\\logs</code><br/>\n"
      ],
      "text/plain": [
       "<IPython.core.display.HTML object>"
      ]
     },
     "metadata": {},
     "output_type": "display_data"
    },
    {
     "name": "stderr",
     "output_type": "stream",
     "text": [
      "\u001b[34m\u001b[1mwandb\u001b[0m: Agent Starting Run: g7fkvw5v with config:\n",
      "\u001b[34m\u001b[1mwandb\u001b[0m: \tactivation: relu\n",
      "\u001b[34m\u001b[1mwandb\u001b[0m: \tbatch_size: 64\n",
      "\u001b[34m\u001b[1mwandb\u001b[0m: \thidden_layer_size: 32\n",
      "\u001b[34m\u001b[1mwandb\u001b[0m: \tlearning_rate: 1e-05\n",
      "\u001b[34m\u001b[1mwandb\u001b[0m: \tnum_of_epochs: 5\n",
      "\u001b[34m\u001b[1mwandb\u001b[0m: \tnumber_of_hidden_layers: 5\n",
      "\u001b[34m\u001b[1mwandb\u001b[0m: \toptimizer: nesterov\n",
      "\u001b[34m\u001b[1mwandb\u001b[0m: \treg_para: 0.5\n",
      "\u001b[34m\u001b[1mwandb\u001b[0m: \tweight_initialization: xavier\n"
     ]
    },
    {
     "data": {
      "text/html": [
       "\n",
       "                    Resuming run <strong><a href=\"https://wandb.ai/shubham-argha/ma20m022_cs21d407/runs/g7fkvw5v\" target=\"_blank\">generous-sweep-7</a></strong> to <a href=\"https://wandb.ai/shubham-argha/ma20m022_cs21d407\" target=\"_blank\">Weights & Biases</a> (<a href=\"https://docs.wandb.com/integrations/jupyter.html\" target=\"_blank\">docs</a>).<br/>\n",
       "Sweep page: <a href=\"https://wandb.ai/shubham-argha/ma20m022_cs21d407/sweeps/mu2j24xv\" target=\"_blank\">https://wandb.ai/shubham-argha/ma20m022_cs21d407/sweeps/mu2j24xv</a><br/>\n",
       "\n",
       "                "
      ],
      "text/plain": [
       "<IPython.core.display.HTML object>"
      ]
     },
     "metadata": {},
     "output_type": "display_data"
    },
    {
     "data": {
      "text/html": [
       "<br/>Waiting for W&B process to finish, PID 2604... <strong style=\"color:green\">(success).</strong>"
      ],
      "text/plain": [
       "<IPython.core.display.HTML object>"
      ]
     },
     "metadata": {},
     "output_type": "display_data"
    },
    {
     "data": {
      "application/vnd.jupyter.widget-view+json": {
       "model_id": "",
       "version_major": 2,
       "version_minor": 0
      },
      "text/plain": [
       "VBox(children=(Label(value=' 0.00MB of 0.00MB uploaded (0.00MB deduped)\\r'), FloatProgress(value=1.0, max=1.0)…"
      ]
     },
     "metadata": {},
     "output_type": "display_data"
    },
    {
     "data": {
      "text/html": [
       "<style>\n",
       "    table.wandb td:nth-child(1) { padding: 0 10px; text-align: right }\n",
       "    .wandb-row { display: flex; flex-direction: row; flex-wrap: wrap; width: 100% }\n",
       "    .wandb-col { display: flex; flex-direction: column; flex-basis: 100%; flex: 1; padding: 10px; }\n",
       "    </style>\n",
       "<div class=\"wandb-row\"><div class=\"wandb-col\">\n",
       "<h3>Run history:</h3><br/><table class=\"wandb\"><tr><td>accuracy</td><td>▁▁▁▁▁</td></tr><tr><td>train_acc</td><td>▁▁▁▁▁</td></tr><tr><td>train_loss</td><td>█▆▄▃▁</td></tr><tr><td>val_acc</td><td>▁▁▁▁▁</td></tr><tr><td>val_loss</td><td>█▆▄▂▁</td></tr></table><br/></div><div class=\"wandb-col\">\n",
       "<h3>Run summary:</h3><br/><table class=\"wandb\"><tr><td>accuracy</td><td>0.09833</td></tr><tr><td>train_acc</td><td>0.10019</td></tr><tr><td>train_loss</td><td>2.45504</td></tr><tr><td>val_acc</td><td>0.09833</td></tr><tr><td>val_loss</td><td>2.3735</td></tr></table>\n",
       "</div></div>\n",
       "Synced 2 W&B file(s), 0 media file(s), 0 artifact file(s) and 0 other file(s)\n",
       "<br/>Synced <strong style=\"color:#cdcd00\">generous-sweep-7</strong>: <a href=\"https://wandb.ai/shubham-argha/ma20m022_cs21d407/runs/g7fkvw5v\" target=\"_blank\">https://wandb.ai/shubham-argha/ma20m022_cs21d407/runs/g7fkvw5v</a><br/>\n",
       "Find logs at: <code>.\\wandb\\run-20220225_151754-g7fkvw5v\\logs</code><br/>\n"
      ],
      "text/plain": [
       "<IPython.core.display.HTML object>"
      ]
     },
     "metadata": {},
     "output_type": "display_data"
    },
    {
     "name": "stderr",
     "output_type": "stream",
     "text": [
      "\u001b[34m\u001b[1mwandb\u001b[0m: Agent Starting Run: y1t4njbd with config:\n",
      "\u001b[34m\u001b[1mwandb\u001b[0m: \tactivation: tanh\n",
      "\u001b[34m\u001b[1mwandb\u001b[0m: \tbatch_size: 16\n",
      "\u001b[34m\u001b[1mwandb\u001b[0m: \thidden_layer_size: 32\n",
      "\u001b[34m\u001b[1mwandb\u001b[0m: \tlearning_rate: 1e-05\n",
      "\u001b[34m\u001b[1mwandb\u001b[0m: \tnum_of_epochs: 5\n",
      "\u001b[34m\u001b[1mwandb\u001b[0m: \tnumber_of_hidden_layers: 5\n",
      "\u001b[34m\u001b[1mwandb\u001b[0m: \toptimizer: nadam\n",
      "\u001b[34m\u001b[1mwandb\u001b[0m: \treg_para: 0\n",
      "\u001b[34m\u001b[1mwandb\u001b[0m: \tweight_initialization: random\n"
     ]
    },
    {
     "data": {
      "text/html": [
       "\n",
       "                    Resuming run <strong><a href=\"https://wandb.ai/shubham-argha/ma20m022_cs21d407/runs/y1t4njbd\" target=\"_blank\">helpful-sweep-8</a></strong> to <a href=\"https://wandb.ai/shubham-argha/ma20m022_cs21d407\" target=\"_blank\">Weights & Biases</a> (<a href=\"https://docs.wandb.com/integrations/jupyter.html\" target=\"_blank\">docs</a>).<br/>\n",
       "Sweep page: <a href=\"https://wandb.ai/shubham-argha/ma20m022_cs21d407/sweeps/mu2j24xv\" target=\"_blank\">https://wandb.ai/shubham-argha/ma20m022_cs21d407/sweeps/mu2j24xv</a><br/>\n",
       "\n",
       "                "
      ],
      "text/plain": [
       "<IPython.core.display.HTML object>"
      ]
     },
     "metadata": {},
     "output_type": "display_data"
    },
    {
     "data": {
      "text/html": [
       "<br/>Waiting for W&B process to finish, PID 12200... <strong style=\"color:green\">(success).</strong>"
      ],
      "text/plain": [
       "<IPython.core.display.HTML object>"
      ]
     },
     "metadata": {},
     "output_type": "display_data"
    },
    {
     "data": {
      "application/vnd.jupyter.widget-view+json": {
       "model_id": "",
       "version_major": 2,
       "version_minor": 0
      },
      "text/plain": [
       "VBox(children=(Label(value=' 0.00MB of 0.00MB uploaded (0.00MB deduped)\\r'), FloatProgress(value=1.0, max=1.0)…"
      ]
     },
     "metadata": {},
     "output_type": "display_data"
    },
    {
     "data": {
      "text/html": [
       "<style>\n",
       "    table.wandb td:nth-child(1) { padding: 0 10px; text-align: right }\n",
       "    .wandb-row { display: flex; flex-direction: row; flex-wrap: wrap; width: 100% }\n",
       "    .wandb-col { display: flex; flex-direction: column; flex-basis: 100%; flex: 1; padding: 10px; }\n",
       "    </style>\n",
       "<div class=\"wandb-row\"><div class=\"wandb-col\">\n",
       "<h3>Run history:</h3><br/><table class=\"wandb\"><tr><td>accuracy</td><td>▁▁▁▁▁</td></tr><tr><td>train_acc</td><td>▁▁▁▁▁</td></tr><tr><td>train_loss</td><td>█▆▄▃▁</td></tr><tr><td>val_acc</td><td>▁▁▁▁▁</td></tr><tr><td>val_loss</td><td>▁▃▅▆█</td></tr></table><br/></div><div class=\"wandb-col\">\n",
       "<h3>Run summary:</h3><br/><table class=\"wandb\"><tr><td>accuracy</td><td>0.09167</td></tr><tr><td>train_acc</td><td>0.10093</td></tr><tr><td>train_loss</td><td>2.30255</td></tr><tr><td>val_acc</td><td>0.09167</td></tr><tr><td>val_loss</td><td>2.30262</td></tr></table>\n",
       "</div></div>\n",
       "Synced 2 W&B file(s), 0 media file(s), 0 artifact file(s) and 0 other file(s)\n",
       "<br/>Synced <strong style=\"color:#cdcd00\">helpful-sweep-8</strong>: <a href=\"https://wandb.ai/shubham-argha/ma20m022_cs21d407/runs/y1t4njbd\" target=\"_blank\">https://wandb.ai/shubham-argha/ma20m022_cs21d407/runs/y1t4njbd</a><br/>\n",
       "Find logs at: <code>.\\wandb\\run-20220225_152026-y1t4njbd\\logs</code><br/>\n"
      ],
      "text/plain": [
       "<IPython.core.display.HTML object>"
      ]
     },
     "metadata": {},
     "output_type": "display_data"
    },
    {
     "name": "stderr",
     "output_type": "stream",
     "text": [
      "\u001b[34m\u001b[1mwandb\u001b[0m: Sweep Agent: Waiting for job.\n",
      "\u001b[34m\u001b[1mwandb\u001b[0m: Job received.\n",
      "\u001b[34m\u001b[1mwandb\u001b[0m: Agent Starting Run: 3qnu6uer with config:\n",
      "\u001b[34m\u001b[1mwandb\u001b[0m: \tactivation: tanh\n",
      "\u001b[34m\u001b[1mwandb\u001b[0m: \tbatch_size: 32\n",
      "\u001b[34m\u001b[1mwandb\u001b[0m: \thidden_layer_size: 128\n",
      "\u001b[34m\u001b[1mwandb\u001b[0m: \tlearning_rate: 0.001\n",
      "\u001b[34m\u001b[1mwandb\u001b[0m: \tnum_of_epochs: 5\n",
      "\u001b[34m\u001b[1mwandb\u001b[0m: \tnumber_of_hidden_layers: 4\n",
      "\u001b[34m\u001b[1mwandb\u001b[0m: \toptimizer: nadam\n",
      "\u001b[34m\u001b[1mwandb\u001b[0m: \treg_para: 0\n",
      "\u001b[34m\u001b[1mwandb\u001b[0m: \tweight_initialization: random\n"
     ]
    },
    {
     "data": {
      "text/html": [
       "\n",
       "                    Resuming run <strong><a href=\"https://wandb.ai/shubham-argha/ma20m022_cs21d407/runs/3qnu6uer\" target=\"_blank\">peach-sweep-9</a></strong> to <a href=\"https://wandb.ai/shubham-argha/ma20m022_cs21d407\" target=\"_blank\">Weights & Biases</a> (<a href=\"https://docs.wandb.com/integrations/jupyter.html\" target=\"_blank\">docs</a>).<br/>\n",
       "Sweep page: <a href=\"https://wandb.ai/shubham-argha/ma20m022_cs21d407/sweeps/mu2j24xv\" target=\"_blank\">https://wandb.ai/shubham-argha/ma20m022_cs21d407/sweeps/mu2j24xv</a><br/>\n",
       "\n",
       "                "
      ],
      "text/plain": [
       "<IPython.core.display.HTML object>"
      ]
     },
     "metadata": {},
     "output_type": "display_data"
    },
    {
     "data": {
      "text/html": [
       "<br/>Waiting for W&B process to finish, PID 8092... <strong style=\"color:green\">(success).</strong>"
      ],
      "text/plain": [
       "<IPython.core.display.HTML object>"
      ]
     },
     "metadata": {},
     "output_type": "display_data"
    },
    {
     "data": {
      "application/vnd.jupyter.widget-view+json": {
       "model_id": "",
       "version_major": 2,
       "version_minor": 0
      },
      "text/plain": [
       "VBox(children=(Label(value=' 0.00MB of 0.00MB uploaded (0.00MB deduped)\\r'), FloatProgress(value=1.0, max=1.0)…"
      ]
     },
     "metadata": {},
     "output_type": "display_data"
    },
    {
     "data": {
      "text/html": [
       "<style>\n",
       "    table.wandb td:nth-child(1) { padding: 0 10px; text-align: right }\n",
       "    .wandb-row { display: flex; flex-direction: row; flex-wrap: wrap; width: 100% }\n",
       "    .wandb-col { display: flex; flex-direction: column; flex-basis: 100%; flex: 1; padding: 10px; }\n",
       "    </style>\n",
       "<div class=\"wandb-row\"><div class=\"wandb-col\">\n",
       "<h3>Run history:</h3><br/><table class=\"wandb\"><tr><td>accuracy</td><td>▁▇███</td></tr><tr><td>train_acc</td><td>▁▇▇██</td></tr><tr><td>train_loss</td><td>█▄▃▁▁</td></tr><tr><td>val_acc</td><td>▁▇███</td></tr><tr><td>val_loss</td><td>█▂▂▁▁</td></tr></table><br/></div><div class=\"wandb-col\">\n",
       "<h3>Run summary:</h3><br/><table class=\"wandb\"><tr><td>accuracy</td><td>0.86167</td></tr><tr><td>train_acc</td><td>0.87643</td></tr><tr><td>train_loss</td><td>0.45587</td></tr><tr><td>val_acc</td><td>0.86167</td></tr><tr><td>val_loss</td><td>0.37778</td></tr></table>\n",
       "</div></div>\n",
       "Synced 2 W&B file(s), 0 media file(s), 0 artifact file(s) and 0 other file(s)\n",
       "<br/>Synced <strong style=\"color:#cdcd00\">peach-sweep-9</strong>: <a href=\"https://wandb.ai/shubham-argha/ma20m022_cs21d407/runs/3qnu6uer\" target=\"_blank\">https://wandb.ai/shubham-argha/ma20m022_cs21d407/runs/3qnu6uer</a><br/>\n",
       "Find logs at: <code>.\\wandb\\run-20220225_152310-3qnu6uer\\logs</code><br/>\n"
      ],
      "text/plain": [
       "<IPython.core.display.HTML object>"
      ]
     },
     "metadata": {},
     "output_type": "display_data"
    },
    {
     "name": "stderr",
     "output_type": "stream",
     "text": [
      "\u001b[34m\u001b[1mwandb\u001b[0m: Agent Starting Run: 2c50lkqj with config:\n",
      "\u001b[34m\u001b[1mwandb\u001b[0m: \tactivation: relu\n",
      "\u001b[34m\u001b[1mwandb\u001b[0m: \tbatch_size: 16\n",
      "\u001b[34m\u001b[1mwandb\u001b[0m: \thidden_layer_size: 32\n",
      "\u001b[34m\u001b[1mwandb\u001b[0m: \tlearning_rate: 0.001\n",
      "\u001b[34m\u001b[1mwandb\u001b[0m: \tnum_of_epochs: 5\n",
      "\u001b[34m\u001b[1mwandb\u001b[0m: \tnumber_of_hidden_layers: 5\n",
      "\u001b[34m\u001b[1mwandb\u001b[0m: \toptimizer: sgd\n",
      "\u001b[34m\u001b[1mwandb\u001b[0m: \treg_para: 0.5\n",
      "\u001b[34m\u001b[1mwandb\u001b[0m: \tweight_initialization: random\n"
     ]
    },
    {
     "data": {
      "text/html": [
       "\n",
       "                    Resuming run <strong><a href=\"https://wandb.ai/shubham-argha/ma20m022_cs21d407/runs/2c50lkqj\" target=\"_blank\">hopeful-sweep-10</a></strong> to <a href=\"https://wandb.ai/shubham-argha/ma20m022_cs21d407\" target=\"_blank\">Weights & Biases</a> (<a href=\"https://docs.wandb.com/integrations/jupyter.html\" target=\"_blank\">docs</a>).<br/>\n",
       "Sweep page: <a href=\"https://wandb.ai/shubham-argha/ma20m022_cs21d407/sweeps/mu2j24xv\" target=\"_blank\">https://wandb.ai/shubham-argha/ma20m022_cs21d407/sweeps/mu2j24xv</a><br/>\n",
       "\n",
       "                "
      ],
      "text/plain": [
       "<IPython.core.display.HTML object>"
      ]
     },
     "metadata": {},
     "output_type": "display_data"
    },
    {
     "data": {
      "text/html": [
       "<br/>Waiting for W&B process to finish, PID 12444... <strong style=\"color:red\">(failed 1).</strong> Press ctrl-c to abort syncing."
      ],
      "text/plain": [
       "<IPython.core.display.HTML object>"
      ]
     },
     "metadata": {},
     "output_type": "display_data"
    },
    {
     "data": {
      "application/vnd.jupyter.widget-view+json": {
       "model_id": "",
       "version_major": 2,
       "version_minor": 0
      },
      "text/plain": [
       "VBox(children=(Label(value=' 0.00MB of 0.00MB uploaded (0.00MB deduped)\\r'), FloatProgress(value=1.0, max=1.0)…"
      ]
     },
     "metadata": {},
     "output_type": "display_data"
    },
    {
     "data": {
      "text/html": [
       "<style>\n",
       "    table.wandb td:nth-child(1) { padding: 0 10px; text-align: right }\n",
       "    .wandb-row { display: flex; flex-direction: row; flex-wrap: wrap; width: 100% }\n",
       "    .wandb-col { display: flex; flex-direction: column; flex-basis: 100%; flex: 1; padding: 10px; }\n",
       "    </style>\n",
       "<div class=\"wandb-row\"><div class=\"wandb-col\">\n",
       "</div><div class=\"wandb-col\">\n",
       "</div></div>\n",
       "Synced 2 W&B file(s), 0 media file(s), 0 artifact file(s) and 0 other file(s)\n",
       "<br/>Synced <strong style=\"color:#cdcd00\">hopeful-sweep-10</strong>: <a href=\"https://wandb.ai/shubham-argha/ma20m022_cs21d407/runs/2c50lkqj\" target=\"_blank\">https://wandb.ai/shubham-argha/ma20m022_cs21d407/runs/2c50lkqj</a><br/>\n",
       "Find logs at: <code>.\\wandb\\run-20220225_152828-2c50lkqj\\logs</code><br/>\n"
      ],
      "text/plain": [
       "<IPython.core.display.HTML object>"
      ]
     },
     "metadata": {},
     "output_type": "display_data"
    },
    {
     "name": "stderr",
     "output_type": "stream",
     "text": [
      "\u001b[34m\u001b[1mwandb\u001b[0m: \u001b[32m\u001b[41mERROR\u001b[0m Run 2c50lkqj errored: KeyError('number_of_epochs')\n"
     ]
    }
   ],
   "source": [
    "wandb.agent('mu2j24xv',train,count=10)"
   ]
  },
  {
   "cell_type": "code",
   "execution_count": 50,
   "metadata": {
    "id": "P4-ZR-i_kJ6v"
   },
   "outputs": [],
   "source": [
    "from sklearn.metrics import confusion_matrix\n",
    "losses,parameters = rms_prop(train_data, train_labels, 3,128, 0.001, 32, 10,0.95,10**-5, \"sigmoid\", \"xavier\",0)\n",
    "preds = predictions(test_data, parameters, 'sigmoid')"
   ]
  },
  {
   "cell_type": "code",
   "execution_count": 52,
   "metadata": {
    "colab": {
     "base_uri": "https://localhost:8080/"
    },
    "id": "ZZEUcmZU1cn6",
    "outputId": "f96974e1-caf1-4242-b144-7fa5b30a5d7b"
   },
   "outputs": [
    {
     "data": {
      "text/plain": [
       "0.8526"
      ]
     },
     "execution_count": 52,
     "metadata": {},
     "output_type": "execute_result"
    }
   ],
   "source": [
    "accuracy_score(test_labels, preds)"
   ]
  },
  {
   "cell_type": "code",
   "execution_count": 54,
   "metadata": {
    "colab": {
     "base_uri": "https://localhost:8080/",
     "height": 428
    },
    "id": "NGKzxZS2kJ6w",
    "outputId": "cc97cb0e-9d83-465e-9758-749804e4ebc2"
   },
   "outputs": [
    {
     "data": {
      "image/png": "[encoded data removed]",
      "text/plain": [
       "<Figure size 720x504 with 2 Axes>"
      ]
     },
     "metadata": {
      "needs_background": "light"
     },
     "output_type": "display_data"
    }
   ],
   "source": [
    "import seaborn as sn\n",
    "import pandas as pd\n",
    "import matplotlib.pyplot as plt\n",
    "test_preds = predictions(test_data, parameters, 'sigmoid')\n",
    "arr = confusion_matrix(test_labels, test_preds)\n",
    "df_cm = pd.DataFrame(arr, index = [i for i in \"0123456789\"],\n",
    "                  columns = [i for i in \"0123456789\"])\n",
    "plt.figure(figsize = (10,7))\n",
    "sn.heatmap(df_cm, annot=True)\n",
    "\n",
    "plt.savefig('Confusion Matrix.jpg')"
   ]
  },
  {
   "cell_type": "code",
   "execution_count": 4,
   "metadata": {
    "colab": {
     "base_uri": "https://localhost:8080/",
     "height": 279
    },
    "id": "TH9D4GcLkJ6w",
    "outputId": "ea2a0f0f-1e6a-4570-b603-e01ae15cabee"
   },
   "outputs": [
    {
     "data": {
      "image/png": "[encoded data removed]",
      "text/plain": [
       "<Figure size 432x288 with 1 Axes>"
      ]
     },
     "metadata": {
      "needs_background": "light"
     },
     "output_type": "display_data"
    }
   ],
   "source": [
    "import numpy as np\n",
    "import matplotlib.pyplot as plt\n",
    "def vec(y):\n",
    "    ans = np.zeros((10,1))\n",
    "    ans[0] = y\n",
    "    for i in range(1,10):\n",
    "        ans[i] = (1-y)/9.0\n",
    "    return ans\n",
    "y = []\n",
    "cross = []\n",
    "mse = []\n",
    "target = np.zeros((10,1))\n",
    "target[0] = 1\n",
    "for i in np.arange(0.001,1,0.001):\n",
    "    y.append(i)\n",
    "    cross.append(-np.log(i))\n",
    "    mse.append(0.5*np.dot((target-vec(i)).T,target-vec(i))[0][0])\n",
    "plt.plot(y,cross,'r-')\n",
    "plt.plot(y,mse,'k-')\n",
    "plt.xlabel('y')\n",
    "plt.ylabel('loss')\n",
    "plt.legend(['cross entropy', 'Squared error'])\n",
    "plt.savefig('cross_entropy_vs_se.jpg')\n",
    "plt.show()"
   ]
  },
  {
   "cell_type": "code",
   "execution_count": null,
   "metadata": {},
   "outputs": [],
   "source": []
  }
 ],
 "metadata": {
  "accelerator": "GPU",
  "colab": {
   "collapsed_sections": [],
   "include_colab_link": true,
   "name": "CS6910 - Assignment 1.ipynb",
   "provenance": []
  },
  "kernelspec": {
   "display_name": "Python 3 (ipykernel)",
   "language": "python",
   "name": "python3"
  },
  "language_info": {
   "codemirror_mode": {
    "name": "ipython",
    "version": 3
   },
   "file_extension": ".py",
   "mimetype": "text/x-python",
   "name": "python",
   "nbconvert_exporter": "python",
   "pygments_lexer": "ipython3",
   "version": "3.7.10"
  },
  "widgets": {
   "application/vnd.jupyter.widget-state+json": {
    "27c90e29dacc4b97b7b68442a7872ebd": {
     "model_module": "@jupyter-widgets/controls",
     "model_module_version": "1.5.0",
     "model_name": "FloatProgressModel",
     "state": {
      "_dom_classes": [],
      "_model_module": "@jupyter-widgets/controls",
      "_model_module_version": "1.5.0",
      "_model_name": "FloatProgressModel",
      "_view_count": null,
      "_view_module": "@jupyter-widgets/controls",
      "_view_module_version": "1.5.0",
      "_view_name": "ProgressView",
      "bar_style": "",
      "description": "",
      "description_tooltip": null,
      "layout": "IPY_MODEL_f851b920dd894b5cb64d0f1163df8459",
      "max": 1,
      "min": 0,
      "orientation": "horizontal",
      "style": "IPY_MODEL_71eaddd7bc4747a5ac7e14022c88fdfc",
      "value": 1
     }
    },
    "34e7f012798945ce873eb9835434a4c9": {
     "model_module": "@jupyter-widgets/controls",
     "model_module_version": "1.5.0",
     "model_name": "DescriptionStyleModel",
     "state": {
      "_model_module": "@jupyter-widgets/controls",
      "_model_module_version": "1.5.0",
      "_model_name": "DescriptionStyleModel",
      "_view_count": null,
      "_view_module": "@jupyter-widgets/base",
      "_view_module_version": "1.2.0",
      "_view_name": "StyleView",
      "description_width": ""
     }
    },
    "71eaddd7bc4747a5ac7e14022c88fdfc": {
     "model_module": "@jupyter-widgets/controls",
     "model_module_version": "1.5.0",
     "model_name": "ProgressStyleModel",
     "state": {
      "_model_module": "@jupyter-widgets/controls",
      "_model_module_version": "1.5.0",
      "_model_name": "ProgressStyleModel",
      "_view_count": null,
      "_view_module": "@jupyter-widgets/base",
      "_view_module_version": "1.2.0",
      "_view_name": "StyleView",
      "bar_color": null,
      "description_width": ""
     }
    },
    "dd2012263df04e2493920494a528e8ae": {
     "model_module": "@jupyter-widgets/controls",
     "model_module_version": "1.5.0",
     "model_name": "LabelModel",
     "state": {
      "_dom_classes": [],
      "_model_module": "@jupyter-widgets/controls",
      "_model_module_version": "1.5.0",
      "_model_name": "LabelModel",
      "_view_count": null,
      "_view_module": "@jupyter-widgets/controls",
      "_view_module_version": "1.5.0",
      "_view_name": "LabelView",
      "description": "",
      "description_tooltip": null,
      "layout": "IPY_MODEL_ee7c7d41e12644f49aafa322a1bd18ac",
      "placeholder": "​",
      "style": "IPY_MODEL_34e7f012798945ce873eb9835434a4c9",
      "value": " 0.00MB of 0.00MB uploaded (0.00MB deduped)\r"
     }
    },
    "ee7c7d41e12644f49aafa322a1bd18ac": {
     "model_module": "@jupyter-widgets/base",
     "model_module_version": "1.2.0",
     "model_name": "LayoutModel",
     "state": {
      "_model_module": "@jupyter-widgets/base",
      "_model_module_version": "1.2.0",
      "_model_name": "LayoutModel",
      "_view_count": null,
      "_view_module": "@jupyter-widgets/base",
      "_view_module_version": "1.2.0",
      "_view_name": "LayoutView",
      "align_content": null,
      "align_items": null,
      "align_self": null,
      "border": null,
      "bottom": null,
      "display": null,
      "flex": null,
      "flex_flow": null,
      "grid_area": null,
      "grid_auto_columns": null,
      "grid_auto_flow": null,
      "grid_auto_rows": null,
      "grid_column": null,
      "grid_gap": null,
      "grid_row": null,
      "grid_template_areas": null,
      "grid_template_columns": null,
      "grid_template_rows": null,
      "height": null,
      "justify_content": null,
      "justify_items": null,
      "left": null,
      "margin": null,
      "max_height": null,
      "max_width": null,
      "min_height": null,
      "min_width": null,
      "object_fit": null,
      "object_position": null,
      "order": null,
      "overflow": null,
      "overflow_x": null,
      "overflow_y": null,
      "padding": null,
      "right": null,
      "top": null,
      "visibility": null,
      "width": null
     }
    },
    "f851b920dd894b5cb64d0f1163df8459": {
     "model_module": "@jupyter-widgets/base",
     "model_module_version": "1.2.0",
     "model_name": "LayoutModel",
     "state": {
      "_model_module": "@jupyter-widgets/base",
      "_model_module_version": "1.2.0",
      "_model_name": "LayoutModel",
      "_view_count": null,
      "_view_module": "@jupyter-widgets/base",
      "_view_module_version": "1.2.0",
      "_view_name": "LayoutView",
      "align_content": null,
      "align_items": null,
      "align_self": null,
      "border": null,
      "bottom": null,
      "display": null,
      "flex": null,
      "flex_flow": null,
      "grid_area": null,
      "grid_auto_columns": null,
      "grid_auto_flow": null,
      "grid_auto_rows": null,
      "grid_column": null,
      "grid_gap": null,
      "grid_row": null,
      "grid_template_areas": null,
      "grid_template_columns": null,
      "grid_template_rows": null,
      "height": null,
      "justify_content": null,
      "justify_items": null,
      "left": null,
      "margin": null,
      "max_height": null,
      "max_width": null,
      "min_height": null,
      "min_width": null,
      "object_fit": null,
      "object_position": null,
      "order": null,
      "overflow": null,
      "overflow_x": null,
      "overflow_y": null,
      "padding": null,
      "right": null,
      "top": null,
      "visibility": null,
      "width": null
     }
    },
    "fc2141c7697d45d4800853a6abc8efa0": {
     "model_module": "@jupyter-widgets/base",
     "model_module_version": "1.2.0",
     "model_name": "LayoutModel",
     "state": {
      "_model_module": "@jupyter-widgets/base",
      "_model_module_version": "1.2.0",
      "_model_name": "LayoutModel",
      "_view_count": null,
      "_view_module": "@jupyter-widgets/base",
      "_view_module_version": "1.2.0",
      "_view_name": "LayoutView",
      "align_content": null,
      "align_items": null,
      "align_self": null,
      "border": null,
      "bottom": null,
      "display": null,
      "flex": null,
      "flex_flow": null,
      "grid_area": null,
      "grid_auto_columns": null,
      "grid_auto_flow": null,
      "grid_auto_rows": null,
      "grid_column": null,
      "grid_gap": null,
      "grid_row": null,
      "grid_template_areas": null,
      "grid_template_columns": null,
      "grid_template_rows": null,
      "height": null,
      "justify_content": null,
      "justify_items": null,
      "left": null,
      "margin": null,
      "max_height": null,
      "max_width": null,
      "min_height": null,
      "min_width": null,
      "object_fit": null,
      "object_position": null,
      "order": null,
      "overflow": null,
      "overflow_x": null,
      "overflow_y": null,
      "padding": null,
      "right": null,
      "top": null,
      "visibility": null,
      "width": null
     }
    },
    "ff8b6a680a9d4def9383399a3ea6a210": {
     "model_module": "@jupyter-widgets/controls",
     "model_module_version": "1.5.0",
     "model_name": "VBoxModel",
     "state": {
      "_dom_classes": [],
      "_model_module": "@jupyter-widgets/controls",
      "_model_module_version": "1.5.0",
      "_model_name": "VBoxModel",
      "_view_count": null,
      "_view_module": "@jupyter-widgets/controls",
      "_view_module_version": "1.5.0",
      "_view_name": "VBoxView",
      "box_style": "",
      "children": [
       "IPY_MODEL_dd2012263df04e2493920494a528e8ae",
       "IPY_MODEL_27c90e29dacc4b97b7b68442a7872ebd"
      ],
      "layout": "IPY_MODEL_fc2141c7697d45d4800853a6abc8efa0"
     }
    }
   }
  }
 },
 "nbformat": 4,
 "nbformat_minor": 1
}

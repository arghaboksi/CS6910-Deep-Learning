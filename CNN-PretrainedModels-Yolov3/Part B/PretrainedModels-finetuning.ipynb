{
 "cells": [
  {
   "cell_type": "markdown",
   "metadata": {
    "colab_type": "text",
    "id": "view-in-github"
   },
   "source": [
    "<a href=\"https://colab.research.google.com/github/Shubhammt/cs6910_assignment2/blob/main/CS6910_Assignment_2_Part_B.ipynb\" target=\"_parent\"><img src=\"https://colab.research.google.com/assets/colab-badge.svg\" alt=\"Open In Colab\"/></a>"
   ]
  },
  {
   "cell_type": "code",
   "execution_count": 1,
   "metadata": {
    "id": "6g6JZeCpdXNr"
   },
   "outputs": [],
   "source": [
    "#!pip install wandb -qqq\n",
    "import wandb\n",
    "from wandb.keras import WandbCallback"
   ]
  },
  {
   "cell_type": "code",
   "execution_count": 2,
   "metadata": {
    "id": "QFl9NLLng30H"
   },
   "outputs": [],
   "source": [
    "import numpy as np\n",
    "import tensorflow as tf\n",
    "from tensorflow import keras\n",
    "from keras.applications.inception_v3 import InceptionV3\n",
    "from keras.applications.xception import Xception\n",
    "from keras.applications.inception_resnet_v2 import InceptionResNetV2\n",
    "from keras.applications.resnet_v2 import ResNet50V2\n",
    "from keras.models import Sequential\n",
    "from keras.layers import Dense, Flatten"
   ]
  },
  {
   "cell_type": "code",
   "execution_count": 16,
   "metadata": {
    "colab": {
     "base_uri": "https://localhost:8080/"
    },
    "id": "93L4bN1vg35g",
    "outputId": "f4189152-924d-4dd5-fa31-faa8b5206f24"
   },
   "outputs": [
    {
     "name": "stdout",
     "output_type": "stream",
     "text": [
      "--2022-03-24 07:20:39--  https://storage.googleapis.com/wandb_datasets/nature_12K.zip\n",
      "Resolving storage.googleapis.com (storage.googleapis.com)... 142.250.141.128, 2607:f8b0:4023:c0b::80\n",
      "Connecting to storage.googleapis.com (storage.googleapis.com)|142.250.141.128|:443... connected.\n",
      "HTTP request sent, awaiting response... 200 OK\n",
      "Length: 3816687935 (3.6G) [application/zip]\n",
      "Saving to: ‘/home/data.zip’\n",
      "\n",
      "/home/data.zip      100%[===================>]   3.55G   173MB/s    in 23s     \n",
      "\n",
      "2022-03-24 07:21:01 (162 MB/s) - ‘/home/data.zip’ saved [3816687935/3816687935]\n",
      "\n"
     ]
    }
   ],
   "source": [
    "# Downloading the dataset\n",
    "!wget --no-check-certificate \\\n",
    "    https://storage.googleapis.com/wandb_datasets/nature_12K.zip \\\n",
    "    -O /home/data.zip"
   ]
  },
  {
   "cell_type": "code",
   "execution_count": null,
   "metadata": {
    "id": "0ZyramiSg3-u"
   },
   "outputs": [],
   "source": [
    "import os\n",
    "import zipfile\n",
    "zip_path = '/home/data.zip'\n",
    "#reading the zip file\n",
    "zip_ref = zipfile.ZipFile(zip_path, 'r')\n",
    "#extracting the zip file \n",
    "zip_ref.extractall('/home/dataset')\n",
    "zip_ref.close()"
   ]
  },
  {
   "cell_type": "code",
   "execution_count": 18,
   "metadata": {
    "id": "VIMw7034g4Fk"
   },
   "outputs": [],
   "source": [
    "train_dir = '/home/dataset/inaturalist_12K/train'\n",
    "test_dir = '/home/dataset/inaturalist_12K/val'"
   ]
  },
  {
   "cell_type": "code",
   "execution_count": 3,
   "metadata": {
    "colab": {
     "base_uri": "https://localhost:8080/"
    },
    "id": "O9SpG_SHhF1c",
    "outputId": "5f9736eb-1db6-4ecb-ebe8-3d60314070b6"
   },
   "outputs": [
    {
     "name": "stderr",
     "output_type": "stream",
     "text": [
      "\u001b[34m\u001b[1mwandb\u001b[0m: Currently logged in as: \u001b[33mma20m022\u001b[0m (use `wandb login --relogin` to force relogin)\n"
     ]
    },
    {
     "data": {
      "text/plain": [
       "True"
      ]
     },
     "execution_count": 3,
     "metadata": {},
     "output_type": "execute_result"
    }
   ],
   "source": [
    "wandb.login()"
   ]
  },
  {
   "cell_type": "code",
   "execution_count": 4,
   "metadata": {
    "colab": {
     "base_uri": "https://localhost:8080/",
     "height": 209,
     "referenced_widgets": [
      "2792c0ac14a84578917b5b355d0798f3",
      "10915ca6810b44afaadf1b625b24e707",
      "a6b26603ac3d4389a525f24de6f1e413",
      "102d173cb6e9469c819ab87a825ddd63",
      "418cee8499694043a06d75a62102a049",
      "31301354107b4fbdbce06d7569504969",
      "26eb0a2aee3d401495053845c6a22399",
      "8e96f818dbac47018d70dceb09405952"
     ]
    },
    "id": "4vao5w4shF5Q",
    "outputId": "c18e1b12-50bb-453a-863b-04e7cfa5c50c"
   },
   "outputs": [
    {
     "name": "stderr",
     "output_type": "stream",
     "text": [
      "\u001b[34m\u001b[1mwandb\u001b[0m: wandb version 0.12.11 is available!  To upgrade, please run:\n",
      "\u001b[34m\u001b[1mwandb\u001b[0m:  $ pip install wandb --upgrade\n"
     ]
    },
    {
     "data": {
      "text/html": [
       "\n",
       "                    Syncing run <strong><a href=\"https://wandb.ai/shubham-argha/Assignment%202%20-Part%20B/runs/12vyq17r\" target=\"_blank\">usual-sea-4</a></strong> to <a href=\"https://wandb.ai/shubham-argha/Assignment%202%20-Part%20B\" target=\"_blank\">Weights & Biases</a> (<a href=\"https://docs.wandb.com/integrations/jupyter.html\" target=\"_blank\">docs</a>).<br/>\n",
       "\n",
       "                "
      ],
      "text/plain": [
       "<IPython.core.display.HTML object>"
      ]
     },
     "metadata": {},
     "output_type": "display_data"
    },
    {
     "data": {
      "text/html": [
       "<button onClick=\"this.nextSibling.style.display='block';this.style.display='none';\">Display W&B run</button><iframe src=\"https://wandb.ai/shubham-argha/Assignment%202%20-Part%20B/runs/12vyq17r?jupyter=true\" style=\"border:none;width:100%;height:420px;display:none;\"></iframe>"
      ],
      "text/plain": [
       "<wandb.sdk.wandb_run.Run at 0x2479be13248>"
      ]
     },
     "execution_count": 4,
     "metadata": {},
     "output_type": "execute_result"
    }
   ],
   "source": [
    "wandb.init(project=\"Assignment 2\", entity=\"shubham-argha\")"
   ]
  },
  {
   "cell_type": "code",
   "execution_count": 5,
   "metadata": {},
   "outputs": [],
   "source": [
    "#train_dir = 'C:/Users/729sh/Desktop/inaturalist_12K/train'\n",
    "#test_dir = 'C:/Users/729sh/Desktop/inaturalist_12K/val'"
   ]
  },
  {
   "cell_type": "markdown",
   "metadata": {},
   "source": [
    "# Data Prep"
   ]
  },
  {
   "cell_type": "code",
   "execution_count": 6,
   "metadata": {
    "colab": {
     "base_uri": "https://localhost:8080/"
    },
    "id": "9IqTHNYGhF8N",
    "outputId": "45d43137-cc22-43f0-cbad-217fe55a1cbf"
   },
   "outputs": [
    {
     "name": "stdout",
     "output_type": "stream",
     "text": [
      "Found 9999 files belonging to 10 classes.\n",
      "Using 9000 files for training.\n",
      "Found 9999 files belonging to 10 classes.\n",
      "Using 999 files for validation.\n",
      "Found 2000 files belonging to 10 classes.\n"
     ]
    }
   ],
   "source": [
    "# train, test, validation split\n",
    "train_ds = tf.keras.preprocessing.image_dataset_from_directory(\n",
    "    train_dir, validation_split=0.1,subset=\"training\",seed=123,image_size=(128, 128), batch_size=16\n",
    ")\n",
    "val_ds = tf.keras.preprocessing.image_dataset_from_directory(\n",
    "    train_dir, validation_split=0.1,subset=\"validation\",seed=123,image_size=(128, 128), batch_size=16\n",
    ")\n",
    "test_ds = tf.keras.preprocessing.image_dataset_from_directory(\n",
    "    test_dir, image_size=(128, 128), batch_size=16\n",
    ")"
   ]
  },
  {
   "cell_type": "code",
   "execution_count": 7,
   "metadata": {
    "colab": {
     "base_uri": "https://localhost:8080/"
    },
    "id": "iL7InBp-hF-0",
    "outputId": "381fb039-5bad-4bda-c7f7-d493d8d5f2d5"
   },
   "outputs": [
    {
     "name": "stdout",
     "output_type": "stream",
     "text": [
      "['Amphibia', 'Animalia', 'Arachnida', 'Aves', 'Fungi', 'Insecta', 'Mammalia', 'Mollusca', 'Plantae', 'Reptilia']\n"
     ]
    }
   ],
   "source": [
    "classes = train_ds.class_names\n",
    "print(classes)"
   ]
  },
  {
   "cell_type": "code",
   "execution_count": 8,
   "metadata": {
    "colab": {
     "base_uri": "https://localhost:8080/"
    },
    "id": "xV5T-6K1hGBL",
    "outputId": "82a759b0-e19a-4b2d-8928-9e7d8b96a61c"
   },
   "outputs": [
    {
     "name": "stdout",
     "output_type": "stream",
     "text": [
      "254.77734\n",
      "(16, 128, 128, 3)\n",
      "(16,)\n"
     ]
    }
   ],
   "source": [
    "for image_batch, labels_batch in train_ds:\n",
    "    first_image = image_batch[0]\n",
    "    print(np.max(first_image))\n",
    "    print(image_batch.shape)\n",
    "    print(labels_batch.shape)\n",
    "    break"
   ]
  },
  {
   "cell_type": "code",
   "execution_count": 9,
   "metadata": {
    "id": "q9LyNXGHhGDk"
   },
   "outputs": [],
   "source": [
    "# Normalization \n",
    "norm_layer = tf.keras.layers.Rescaling(1./255)\n",
    "train_ds = train_ds.map(lambda x, y: (norm_layer(x), y))\n",
    "val_ds = val_ds.map(lambda x, y: (norm_layer(x), y))\n",
    "test_ds = test_ds.map(lambda x, y: (norm_layer(x), y))"
   ]
  },
  {
   "cell_type": "markdown",
   "metadata": {},
   "source": [
    "# Sweep and Experiments"
   ]
  },
  {
   "cell_type": "code",
   "execution_count": 10,
   "metadata": {
    "id": "Yq7mTIoHeEoT"
   },
   "outputs": [],
   "source": [
    "# sweep configuration \n",
    "# method : random, bayes, grid\n",
    "sweep_configuration = {\n",
    "    'method': 'bayes', \n",
    "    'metric': {\n",
    "      'name': 'accuracy',\n",
    "      'goal': 'maximize'   \n",
    "    },\n",
    "    'parameters': {\n",
    "        'freeze_before' : {\n",
    "            'values': [50, 60, 70]\n",
    "        },\n",
    "        'pretrained_models' :{\n",
    "            'values' : ['InceptionV3','InceptionResNetV2', 'ResNet50V2', 'Xception']\n",
    "        },     \n",
    "        'FC_layer_size':{\n",
    "            'values': [32, 64, 128, 256, 512]\n",
    "        },\n",
    "        'num_of_epochs':{\n",
    "            'values': [5]\n",
    "        }\n",
    "    }\n",
    "}"
   ]
  },
  {
   "cell_type": "code",
   "execution_count": 11,
   "metadata": {
    "id": "F6QktlSRFaAU"
   },
   "outputs": [
    {
     "name": "stdout",
     "output_type": "stream",
     "text": [
      "Create sweep with ID: pbgxgabk\n",
      "Sweep URL: https://wandb.ai/shubham-argha/Assignment%202%20-Part%20B/sweeps/pbgxgabk\n"
     ]
    }
   ],
   "source": [
    "# sweep initialization\n",
    "sweep_id = wandb.sweep(sweep_configuration, entity=\"shubham-argha\", project=\"Assignment 2\")"
   ]
  },
  {
   "cell_type": "code",
   "execution_count": 12,
   "metadata": {
    "id": "s1TMiaVIFbXl"
   },
   "outputs": [],
   "source": [
    "def train():\n",
    "    \n",
    "    default_configuration = {\n",
    "        'freeze_before' : 50,\n",
    "        'pretrained_models' : 'InceptionV3',\n",
    "        'FC_layer_size': 32,\n",
    "        'num_of_epochs' : 5\n",
    "    }\n",
    "\n",
    "    # wandb run initialization\n",
    "    wandb.init(config=default_configuration)\n",
    "    \n",
    "    config = wandb.config\n",
    "\n",
    "    input_shape = (128,128,3)\n",
    "\n",
    "    if config.pretrained_models == 'InceptionV3':\n",
    "        base_model =  InceptionV3(input_shape = input_shape, include_top = False, weights = 'imagenet')\n",
    "        wandb.run.name = \"model_IncV3_\" + \"FC_layer_size_\" + str(config.FC_layer_size) \n",
    "\n",
    "    elif config.pretrained_models == 'InceptionResNetV2':\n",
    "        base_model =  InceptionResNetV2(input_shape = input_shape, include_top = False, weights = 'imagenet')\n",
    "        wandb.run.name = \"model_IncResV2_\" + \"FC_layer_size_\" + str(config.FC_layer_size)\n",
    "\n",
    "    elif config.pretrained_models == 'ResNet50V2':\n",
    "        base_model =  ResNet50V2(input_shape = input_shape, include_top = False, weights = 'imagenet')\n",
    "        wandb.run.name = \"model_Res50V2_\" + \"FC_layer_size_\" + str(config.FC_layer_size)\n",
    "\n",
    "    elif config.pretrained_models == 'Xception':\n",
    "        base_model =  Xception(input_shape = input_shape, include_top = False, weights = 'imagenet')\n",
    "        wandb.run.name = \"model_Xcp_\" + \"FC_layer_size_\" + str(config.FC_layer_size)\n",
    "\n",
    "\n",
    "    #Code for fine tuning goes here\n",
    "    base_model.trainable = True\n",
    "\n",
    "    # Freeze layers\n",
    "    freeze_point = len(base_model.layers) - config.freeze_before\n",
    "    for layer in base_model.layers[:freeze_point]:\n",
    "        layer.trainable = False\n",
    "    \n",
    "    model = Sequential()\n",
    "    model.add(base_model)\n",
    "    model.add(Flatten())\n",
    "    model.add(Dense(config.FC_layer_size, activation='relu'))\n",
    "    model.add(Dense(10, activation='softmax'))\n",
    "    \n",
    "    model.compile(\n",
    "        optimizer='adam',\n",
    "        loss=tf.losses.SparseCategoricalCrossentropy(),\n",
    "        metrics=['accuracy'])\n",
    "    \n",
    "    model.fit(\n",
    "        train_ds,\n",
    "        validation_data=val_ds,\n",
    "        epochs=config.num_of_epochs,\n",
    "        callbacks = [WandbCallback()]\n",
    "        )"
   ]
  },
  {
   "cell_type": "code",
   "execution_count": null,
   "metadata": {},
   "outputs": [
    {
     "name": "stderr",
     "output_type": "stream",
     "text": [
      "\u001b[34m\u001b[1mwandb\u001b[0m: \u001b[33mWARNING\u001b[0m Calling wandb.login() after wandb.init() has no effect.\n",
      "\u001b[34m\u001b[1mwandb\u001b[0m: Agent Starting Run: nuh0rcqo with config:\n",
      "\u001b[34m\u001b[1mwandb\u001b[0m: \tFC_layer_size: 64\n",
      "\u001b[34m\u001b[1mwandb\u001b[0m: \tfreeze_before: 70\n",
      "\u001b[34m\u001b[1mwandb\u001b[0m: \tnum_of_epochs: 5\n",
      "\u001b[34m\u001b[1mwandb\u001b[0m: \tpretrained_models: ResNet50V2\n",
      "\u001b[34m\u001b[1mwandb\u001b[0m: wandb version 0.12.11 is available!  To upgrade, please run:\n",
      "\u001b[34m\u001b[1mwandb\u001b[0m:  $ pip install wandb --upgrade\n"
     ]
    },
    {
     "data": {
      "text/html": [
       "\n",
       "                    Syncing run <strong><a href=\"https://wandb.ai/shubham-argha/Assignment%202%20-Part%20B/runs/nuh0rcqo\" target=\"_blank\">ancient-sweep-2</a></strong> to <a href=\"https://wandb.ai/shubham-argha/Assignment%202%20-Part%20B\" target=\"_blank\">Weights & Biases</a> (<a href=\"https://docs.wandb.com/integrations/jupyter.html\" target=\"_blank\">docs</a>).<br/>\n",
       "Sweep page: <a href=\"https://wandb.ai/shubham-argha/Assignment%202%20-Part%20B/sweeps/o3tszjvl\" target=\"_blank\">https://wandb.ai/shubham-argha/Assignment%202%20-Part%20B/sweeps/o3tszjvl</a><br/>\n",
       "\n",
       "                "
      ],
      "text/plain": [
       "<IPython.core.display.HTML object>"
      ]
     },
     "metadata": {},
     "output_type": "display_data"
    },
    {
     "name": "stdout",
     "output_type": "stream",
     "text": [
      "Epoch 1/5\n",
      "563/563 [==============================] - ETA: 0s - loss: 2.0442 - accuracy: 0.2822"
     ]
    },
    {
     "name": "stderr",
     "output_type": "stream",
     "text": [
      "C:\\Users\\729sh\\Anaconda3\\lib\\site-packages\\keras\\engine\\functional.py:1410: CustomMaskWarning: Custom mask layers require a config and must override get_config. When loading, the custom mask layer must be passed to the custom_objects argument.\n",
      "  layer_config = serialize_layer_fn(layer)\n"
     ]
    },
    {
     "name": "stdout",
     "output_type": "stream",
     "text": [
      "563/563 [==============================] - 72s 107ms/step - loss: 2.0442 - accuracy: 0.2822 - val_loss: 2.8193 - val_accuracy: 0.3423\n",
      "Epoch 2/5\n",
      "563/563 [==============================] - 64s 114ms/step - loss: 1.7653 - accuracy: 0.3789 - val_loss: 2.2012 - val_accuracy: 0.2633\n",
      "Epoch 3/5\n",
      "563/563 [==============================] - 63s 111ms/step - loss: nan - accuracy: 0.2656 - val_loss: nan - val_accuracy: 0.0921\n",
      "Epoch 4/5\n",
      "563/563 [==============================] - 65s 115ms/step - loss: nan - accuracy: 0.1009 - val_loss: nan - val_accuracy: 0.0921\n",
      "Epoch 5/5\n",
      "563/563 [==============================] - 67s 118ms/step - loss: nan - accuracy: 0.1009 - val_loss: nan - val_accuracy: 0.0921\n"
     ]
    },
    {
     "data": {
      "text/html": [
       "<br/>Waiting for W&B process to finish, PID 13524... <strong style=\"color:green\">(success).</strong>"
      ],
      "text/plain": [
       "<IPython.core.display.HTML object>"
      ]
     },
     "metadata": {},
     "output_type": "display_data"
    },
    {
     "data": {
      "application/vnd.jupyter.widget-view+json": {
       "model_id": "",
       "version_major": 2,
       "version_minor": 0
      },
      "text/plain": [
       "VBox(children=(Label(value=' 254.16MB of 254.16MB uploaded (0.00MB deduped)\\r'), FloatProgress(value=1.0, max=…"
      ]
     },
     "metadata": {},
     "output_type": "display_data"
    },
    {
     "data": {
      "text/html": [
       "<style>\n",
       "    table.wandb td:nth-child(1) { padding: 0 10px; text-align: right }\n",
       "    .wandb-row { display: flex; flex-direction: row; flex-wrap: wrap; width: 100% }\n",
       "    .wandb-col { display: flex; flex-direction: column; flex-basis: 100%; flex: 1; padding: 10px; }\n",
       "    </style>\n",
       "<div class=\"wandb-row\"><div class=\"wandb-col\">\n",
       "<h3>Run history:</h3><br/><table class=\"wandb\"><tr><td>accuracy</td><td>▆█▅▁▁</td></tr><tr><td>epoch</td><td>▁▃▅▆█</td></tr><tr><td>loss</td><td>█▁   </td></tr><tr><td>val_accuracy</td><td>█▆▁▁▁</td></tr><tr><td>val_loss</td><td>█▁   </td></tr></table><br/></div><div class=\"wandb-col\">\n",
       "<h3>Run summary:</h3><br/><table class=\"wandb\"><tr><td>accuracy</td><td>0.10089</td></tr><tr><td>best_epoch</td><td>1</td></tr><tr><td>best_val_loss</td><td>2.20118</td></tr><tr><td>epoch</td><td>4</td></tr><tr><td>loss</td><td>nan</td></tr><tr><td>val_accuracy</td><td>0.09209</td></tr><tr><td>val_loss</td><td>nan</td></tr></table>\n",
       "</div></div>\n",
       "Synced 6 W&B file(s), 1 media file(s), 0 artifact file(s) and 1 other file(s)\n",
       "<br/>Synced <strong style=\"color:#cdcd00\">ancient-sweep-2</strong>: <a href=\"https://wandb.ai/shubham-argha/Assignment%202%20-Part%20B/runs/nuh0rcqo\" target=\"_blank\">https://wandb.ai/shubham-argha/Assignment%202%20-Part%20B/runs/nuh0rcqo</a><br/>\n",
       "Find logs at: <code>.\\wandb\\run-20220403_121427-nuh0rcqo\\logs</code><br/>\n"
      ],
      "text/plain": [
       "<IPython.core.display.HTML object>"
      ]
     },
     "metadata": {},
     "output_type": "display_data"
    },
    {
     "name": "stderr",
     "output_type": "stream",
     "text": [
      "\u001b[34m\u001b[1mwandb\u001b[0m: Agent Starting Run: 19h7ycgd with config:\n",
      "\u001b[34m\u001b[1mwandb\u001b[0m: \tFC_layer_size: 128\n",
      "\u001b[34m\u001b[1mwandb\u001b[0m: \tfreeze_before: 50\n",
      "\u001b[34m\u001b[1mwandb\u001b[0m: \tnum_of_epochs: 10\n",
      "\u001b[34m\u001b[1mwandb\u001b[0m: \tpretrained_models: ResNet50V2\n",
      "\u001b[34m\u001b[1mwandb\u001b[0m: wandb version 0.12.11 is available!  To upgrade, please run:\n",
      "\u001b[34m\u001b[1mwandb\u001b[0m:  $ pip install wandb --upgrade\n"
     ]
    },
    {
     "data": {
      "text/html": [
       "\n",
       "                    Syncing run <strong><a href=\"https://wandb.ai/shubham-argha/Assignment%202%20-Part%20B/runs/19h7ycgd\" target=\"_blank\">denim-sweep-3</a></strong> to <a href=\"https://wandb.ai/shubham-argha/Assignment%202%20-Part%20B\" target=\"_blank\">Weights & Biases</a> (<a href=\"https://docs.wandb.com/integrations/jupyter.html\" target=\"_blank\">docs</a>).<br/>\n",
       "Sweep page: <a href=\"https://wandb.ai/shubham-argha/Assignment%202%20-Part%20B/sweeps/o3tszjvl\" target=\"_blank\">https://wandb.ai/shubham-argha/Assignment%202%20-Part%20B/sweeps/o3tszjvl</a><br/>\n",
       "\n",
       "                "
      ],
      "text/plain": [
       "<IPython.core.display.HTML object>"
      ]
     },
     "metadata": {},
     "output_type": "display_data"
    },
    {
     "name": "stdout",
     "output_type": "stream",
     "text": [
      "Epoch 1/10\n",
      "563/563 [==============================] - 69s 115ms/step - loss: 1.9520 - accuracy: 0.3443 - val_loss: 2.1744 - val_accuracy: 0.4054\n",
      "Epoch 2/10\n",
      "563/563 [==============================] - 64s 113ms/step - loss: 1.5891 - accuracy: 0.4536 - val_loss: 1.8226 - val_accuracy: 0.4444\n",
      "Epoch 3/10\n",
      "563/563 [==============================] - 64s 113ms/step - loss: 1.3418 - accuracy: 0.5413 - val_loss: 1.7160 - val_accuracy: 0.4715\n",
      "Epoch 4/10\n",
      "563/563 [==============================] - 66s 116ms/step - loss: 1.0778 - accuracy: 0.6329 - val_loss: 2.0992 - val_accuracy: 0.4655\n",
      "Epoch 5/10\n",
      "563/563 [==============================] - 64s 114ms/step - loss: 0.8383 - accuracy: 0.7183 - val_loss: 2.0768 - val_accuracy: 0.4585\n",
      "Epoch 6/10\n",
      "563/563 [==============================] - 62s 110ms/step - loss: 0.8415 - accuracy: 0.7130 - val_loss: 43494.5117 - val_accuracy: 0.0921\n",
      "Epoch 7/10\n",
      "563/563 [==============================] - 66s 115ms/step - loss: 0.8905 - accuracy: 0.6961 - val_loss: 70.7353 - val_accuracy: 0.1011\n",
      "Epoch 8/10\n",
      "563/563 [==============================] - 62s 110ms/step - loss: 0.5885 - accuracy: 0.7967 - val_loss: 2.3746 - val_accuracy: 0.4645\n",
      "Epoch 9/10\n",
      "313/563 [===============>..............] - ETA: 27s - loss: 0.4275 - accuracy: 0.8536"
     ]
    },
    {
     "data": {
      "text/html": [
       "<br/>Waiting for W&B process to finish, PID 796... <strong style=\"color:red\">(failed 1).</strong> Press ctrl-c to abort syncing."
      ],
      "text/plain": [
       "<IPython.core.display.HTML object>"
      ]
     },
     "metadata": {},
     "output_type": "display_data"
    },
    {
     "data": {
      "application/vnd.jupyter.widget-view+json": {
       "model_id": "",
       "version_major": 2,
       "version_minor": 0
      },
      "text/plain": [
       "VBox(children=(Label(value=' 263.07MB of 263.07MB uploaded (0.00MB deduped)\\r'), FloatProgress(value=1.0, max=…"
      ]
     },
     "metadata": {},
     "output_type": "display_data"
    },
    {
     "data": {
      "text/html": [
       "<style>\n",
       "    table.wandb td:nth-child(1) { padding: 0 10px; text-align: right }\n",
       "    .wandb-row { display: flex; flex-direction: row; flex-wrap: wrap; width: 100% }\n",
       "    .wandb-col { display: flex; flex-direction: column; flex-basis: 100%; flex: 1; padding: 10px; }\n",
       "    </style>\n",
       "<div class=\"wandb-row\"><div class=\"wandb-col\">\n",
       "<h3>Run history:</h3><br/><table class=\"wandb\"><tr><td>accuracy</td><td>▁▃▄▅▇▇▆█</td></tr><tr><td>epoch</td><td>▁▂▃▄▅▆▇█</td></tr><tr><td>loss</td><td>█▆▅▄▂▂▃▁</td></tr><tr><td>val_accuracy</td><td>▇████▁▁█</td></tr><tr><td>val_loss</td><td>▁▁▁▁▁█▁▁</td></tr></table><br/></div><div class=\"wandb-col\">\n",
       "<h3>Run summary:</h3><br/><table class=\"wandb\"><tr><td>accuracy</td><td>0.79667</td></tr><tr><td>best_epoch</td><td>2</td></tr><tr><td>best_val_loss</td><td>1.71597</td></tr><tr><td>epoch</td><td>7</td></tr><tr><td>loss</td><td>0.58853</td></tr><tr><td>val_accuracy</td><td>0.46446</td></tr><tr><td>val_loss</td><td>2.37456</td></tr></table>\n",
       "</div></div>\n",
       "Synced 6 W&B file(s), 1 media file(s), 0 artifact file(s) and 1 other file(s)\n",
       "<br/>Synced <strong style=\"color:#cdcd00\">denim-sweep-3</strong>: <a href=\"https://wandb.ai/shubham-argha/Assignment%202%20-Part%20B/runs/19h7ycgd\" target=\"_blank\">https://wandb.ai/shubham-argha/Assignment%202%20-Part%20B/runs/19h7ycgd</a><br/>\n",
       "Find logs at: <code>.\\wandb\\run-20220403_122045-19h7ycgd\\logs</code><br/>\n"
      ],
      "text/plain": [
       "<IPython.core.display.HTML object>"
      ]
     },
     "metadata": {},
     "output_type": "display_data"
    },
    {
     "name": "stderr",
     "output_type": "stream",
     "text": [
      "\u001b[34m\u001b[1mwandb\u001b[0m: \u001b[32m\u001b[41mERROR\u001b[0m Run 19h7ycgd errored: InternalError()\n",
      "\u001b[34m\u001b[1mwandb\u001b[0m: Agent Starting Run: 368aekmb with config:\n",
      "\u001b[34m\u001b[1mwandb\u001b[0m: \tFC_layer_size: 64\n",
      "\u001b[34m\u001b[1mwandb\u001b[0m: \tfreeze_before: 70\n",
      "\u001b[34m\u001b[1mwandb\u001b[0m: \tnum_of_epochs: 5\n",
      "\u001b[34m\u001b[1mwandb\u001b[0m: \tpretrained_models: ResNet50V2\n",
      "\u001b[34m\u001b[1mwandb\u001b[0m: wandb version 0.12.11 is available!  To upgrade, please run:\n",
      "\u001b[34m\u001b[1mwandb\u001b[0m:  $ pip install wandb --upgrade\n"
     ]
    },
    {
     "data": {
      "text/html": [
       "\n",
       "                    Syncing run <strong><a href=\"https://wandb.ai/shubham-argha/Assignment%202%20-Part%20B/runs/368aekmb\" target=\"_blank\">avid-sweep-4</a></strong> to <a href=\"https://wandb.ai/shubham-argha/Assignment%202%20-Part%20B\" target=\"_blank\">Weights & Biases</a> (<a href=\"https://docs.wandb.com/integrations/jupyter.html\" target=\"_blank\">docs</a>).<br/>\n",
       "Sweep page: <a href=\"https://wandb.ai/shubham-argha/Assignment%202%20-Part%20B/sweeps/o3tszjvl\" target=\"_blank\">https://wandb.ai/shubham-argha/Assignment%202%20-Part%20B/sweeps/o3tszjvl</a><br/>\n",
       "\n",
       "                "
      ],
      "text/plain": [
       "<IPython.core.display.HTML object>"
      ]
     },
     "metadata": {},
     "output_type": "display_data"
    }
   ],
   "source": [
    "wandb.agent('o3tszjvl',train, count = 5)"
   ]
  },
  {
   "cell_type": "code",
   "execution_count": null,
   "metadata": {},
   "outputs": [],
   "source": []
  }
 ],
 "metadata": {
  "accelerator": "GPU",
  "colab": {
   "authorship_tag": "ABX9TyMnclbttyyMasvrTV34qnEC",
   "include_colab_link": true,
   "name": "CS6910_Assignment_2_Part B.ipynb",
   "provenance": []
  },
  "kernelspec": {
   "display_name": "Python 3 (ipykernel)",
   "language": "python",
   "name": "python3"
  },
  "language_info": {
   "codemirror_mode": {
    "name": "ipython",
    "version": 3
   },
   "file_extension": ".py",
   "mimetype": "text/x-python",
   "name": "python",
   "nbconvert_exporter": "python",
   "pygments_lexer": "ipython3",
   "version": "3.7.10"
  },
  "widgets": {
   "application/vnd.jupyter.widget-state+json": {
    "102d173cb6e9469c819ab87a825ddd63": {
     "model_module": "@jupyter-widgets/base",
     "model_module_version": "1.2.0",
     "model_name": "LayoutModel",
     "state": {
      "_model_module": "@jupyter-widgets/base",
      "_model_module_version": "1.2.0",
      "_model_name": "LayoutModel",
      "_view_count": null,
      "_view_module": "@jupyter-widgets/base",
      "_view_module_version": "1.2.0",
      "_view_name": "LayoutView",
      "align_content": null,
      "align_items": null,
      "align_self": null,
      "border": null,
      "bottom": null,
      "display": null,
      "flex": null,
      "flex_flow": null,
      "grid_area": null,
      "grid_auto_columns": null,
      "grid_auto_flow": null,
      "grid_auto_rows": null,
      "grid_column": null,
      "grid_gap": null,
      "grid_row": null,
      "grid_template_areas": null,
      "grid_template_columns": null,
      "grid_template_rows": null,
      "height": null,
      "justify_content": null,
      "justify_items": null,
      "left": null,
      "margin": null,
      "max_height": null,
      "max_width": null,
      "min_height": null,
      "min_width": null,
      "object_fit": null,
      "object_position": null,
      "order": null,
      "overflow": null,
      "overflow_x": null,
      "overflow_y": null,
      "padding": null,
      "right": null,
      "top": null,
      "visibility": null,
      "width": null
     }
    },
    "10915ca6810b44afaadf1b625b24e707": {
     "model_module": "@jupyter-widgets/controls",
     "model_module_version": "1.5.0",
     "model_name": "LabelModel",
     "state": {
      "_dom_classes": [],
      "_model_module": "@jupyter-widgets/controls",
      "_model_module_version": "1.5.0",
      "_model_name": "LabelModel",
      "_view_count": null,
      "_view_module": "@jupyter-widgets/controls",
      "_view_module_version": "1.5.0",
      "_view_name": "LabelView",
      "description": "",
      "description_tooltip": null,
      "layout": "IPY_MODEL_418cee8499694043a06d75a62102a049",
      "placeholder": "​",
      "style": "IPY_MODEL_31301354107b4fbdbce06d7569504969",
      "value": "0.009 MB of 0.009 MB uploaded (0.000 MB deduped)\r"
     }
    },
    "26eb0a2aee3d401495053845c6a22399": {
     "model_module": "@jupyter-widgets/base",
     "model_module_version": "1.2.0",
     "model_name": "LayoutModel",
     "state": {
      "_model_module": "@jupyter-widgets/base",
      "_model_module_version": "1.2.0",
      "_model_name": "LayoutModel",
      "_view_count": null,
      "_view_module": "@jupyter-widgets/base",
      "_view_module_version": "1.2.0",
      "_view_name": "LayoutView",
      "align_content": null,
      "align_items": null,
      "align_self": null,
      "border": null,
      "bottom": null,
      "display": null,
      "flex": null,
      "flex_flow": null,
      "grid_area": null,
      "grid_auto_columns": null,
      "grid_auto_flow": null,
      "grid_auto_rows": null,
      "grid_column": null,
      "grid_gap": null,
      "grid_row": null,
      "grid_template_areas": null,
      "grid_template_columns": null,
      "grid_template_rows": null,
      "height": null,
      "justify_content": null,
      "justify_items": null,
      "left": null,
      "margin": null,
      "max_height": null,
      "max_width": null,
      "min_height": null,
      "min_width": null,
      "object_fit": null,
      "object_position": null,
      "order": null,
      "overflow": null,
      "overflow_x": null,
      "overflow_y": null,
      "padding": null,
      "right": null,
      "top": null,
      "visibility": null,
      "width": null
     }
    },
    "2792c0ac14a84578917b5b355d0798f3": {
     "model_module": "@jupyter-widgets/controls",
     "model_module_version": "1.5.0",
     "model_name": "VBoxModel",
     "state": {
      "_dom_classes": [],
      "_model_module": "@jupyter-widgets/controls",
      "_model_module_version": "1.5.0",
      "_model_name": "VBoxModel",
      "_view_count": null,
      "_view_module": "@jupyter-widgets/controls",
      "_view_module_version": "1.5.0",
      "_view_name": "VBoxView",
      "box_style": "",
      "children": [
       "IPY_MODEL_10915ca6810b44afaadf1b625b24e707",
       "IPY_MODEL_a6b26603ac3d4389a525f24de6f1e413"
      ],
      "layout": "IPY_MODEL_102d173cb6e9469c819ab87a825ddd63"
     }
    },
    "31301354107b4fbdbce06d7569504969": {
     "model_module": "@jupyter-widgets/controls",
     "model_module_version": "1.5.0",
     "model_name": "DescriptionStyleModel",
     "state": {
      "_model_module": "@jupyter-widgets/controls",
      "_model_module_version": "1.5.0",
      "_model_name": "DescriptionStyleModel",
      "_view_count": null,
      "_view_module": "@jupyter-widgets/base",
      "_view_module_version": "1.2.0",
      "_view_name": "StyleView",
      "description_width": ""
     }
    },
    "418cee8499694043a06d75a62102a049": {
     "model_module": "@jupyter-widgets/base",
     "model_module_version": "1.2.0",
     "model_name": "LayoutModel",
     "state": {
      "_model_module": "@jupyter-widgets/base",
      "_model_module_version": "1.2.0",
      "_model_name": "LayoutModel",
      "_view_count": null,
      "_view_module": "@jupyter-widgets/base",
      "_view_module_version": "1.2.0",
      "_view_name": "LayoutView",
      "align_content": null,
      "align_items": null,
      "align_self": null,
      "border": null,
      "bottom": null,
      "display": null,
      "flex": null,
      "flex_flow": null,
      "grid_area": null,
      "grid_auto_columns": null,
      "grid_auto_flow": null,
      "grid_auto_rows": null,
      "grid_column": null,
      "grid_gap": null,
      "grid_row": null,
      "grid_template_areas": null,
      "grid_template_columns": null,
      "grid_template_rows": null,
      "height": null,
      "justify_content": null,
      "justify_items": null,
      "left": null,
      "margin": null,
      "max_height": null,
      "max_width": null,
      "min_height": null,
      "min_width": null,
      "object_fit": null,
      "object_position": null,
      "order": null,
      "overflow": null,
      "overflow_x": null,
      "overflow_y": null,
      "padding": null,
      "right": null,
      "top": null,
      "visibility": null,
      "width": null
     }
    },
    "8e96f818dbac47018d70dceb09405952": {
     "model_module": "@jupyter-widgets/controls",
     "model_module_version": "1.5.0",
     "model_name": "ProgressStyleModel",
     "state": {
      "_model_module": "@jupyter-widgets/controls",
      "_model_module_version": "1.5.0",
      "_model_name": "ProgressStyleModel",
      "_view_count": null,
      "_view_module": "@jupyter-widgets/base",
      "_view_module_version": "1.2.0",
      "_view_name": "StyleView",
      "bar_color": null,
      "description_width": ""
     }
    },
    "a6b26603ac3d4389a525f24de6f1e413": {
     "model_module": "@jupyter-widgets/controls",
     "model_module_version": "1.5.0",
     "model_name": "FloatProgressModel",
     "state": {
      "_dom_classes": [],
      "_model_module": "@jupyter-widgets/controls",
      "_model_module_version": "1.5.0",
      "_model_name": "FloatProgressModel",
      "_view_count": null,
      "_view_module": "@jupyter-widgets/controls",
      "_view_module_version": "1.5.0",
      "_view_name": "ProgressView",
      "bar_style": "",
      "description": "",
      "description_tooltip": null,
      "layout": "IPY_MODEL_26eb0a2aee3d401495053845c6a22399",
      "max": 1,
      "min": 0,
      "orientation": "horizontal",
      "style": "IPY_MODEL_8e96f818dbac47018d70dceb09405952",
      "value": 1
     }
    }
   }
  }
 },
 "nbformat": 4,
 "nbformat_minor": 1
}
